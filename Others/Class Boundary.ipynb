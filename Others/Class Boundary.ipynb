{
 "cells": [
  {
   "cell_type": "markdown",
   "metadata": {},
   "source": [
    "## Getting the class boundary through Black Box"
   ]
  },
  {
   "cell_type": "markdown",
   "metadata": {},
   "source": [
    "This Ipython Notebook deals with fitting a black box model on a binary classifiable dataset (both linear and non linear as well as 2 dimensional and multi dimensional). A Minimal Distance Pair Algorithm is defined which works as follows:\n",
    "1. Generate a random dataset under some confined boundaries.\n",
    "2. Generate labels for the random dataset using the black box\n",
    "3. Compute distance between the data points of each of the two classes\n",
    "4. Choose N points such that the points which are of different classes and closer to each other have high probability of being chosen\n",
    "5. Generate a dataset out of those close points.\n",
    "6. Fit a new model on the new dataset and find its accuracy on the original dataset.\n",
    "\n",
    "The basic idea behind this algorithm is that the points which belong to different classes and are close to one another will provide a sense of the hyperplane which is dividing the further two classes. With this sense of hyperplane we can create our new model such that it enables the new model to learn approximately the plane of separation of the black box. In this way the new model can intuitively work better on the original dataset"
   ]
  },
  {
   "cell_type": "code",
   "execution_count": null,
   "metadata": {
    "collapsed": true
   },
   "outputs": [],
   "source": [
    "%matplotlib inline\n",
    "import pandas as pd\n",
    "import numpy as np\n",
    "import matplotlib.pyplot as plt\n",
    "from sklearn import datasets\n",
    "import seaborn as sns\n",
    "from collections import Counter\n",
    "from sklearn.linear_model import LogisticRegression\n",
    "from sklearn.ensemble import RandomForestClassifier"
   ]
  },
  {
   "cell_type": "code",
   "execution_count": 2,
   "metadata": {
    "collapsed": true
   },
   "outputs": [],
   "source": [
    "from pylab import rcParams\n",
    "rcParams['figure.figsize'] = 20, 10"
   ]
  },
  {
   "cell_type": "code",
   "execution_count": 3,
   "metadata": {
    "collapsed": true
   },
   "outputs": [],
   "source": [
    "def generate_random(orig_data, feature_names, data_size):\n",
    "    '''\n",
    "    Input: Data, Feature Names, Size of Random Data\n",
    "    Output: Random Data\n",
    "    \n",
    "    Generates random dataset of size data_size\n",
    "    Random dataset is generated from normal\n",
    "    distribution with specified high and low values\n",
    "    '''\n",
    "    \n",
    "    df = {}\n",
    "    for i in range(len(feature_names)):\n",
    "        low = np.min(orig_data[:, i])\n",
    "        high = np.max(orig_data[:, i])\n",
    "        df[feature_names[i]] = np.random.uniform(low=low, high=high, size=data_size)\n",
    "    random_dataset = pd.DataFrame(data=df, columns=feature_names)\n",
    "    \n",
    "    return random_dataset"
   ]
  },
  {
   "cell_type": "code",
   "execution_count": 4,
   "metadata": {
    "collapsed": true
   },
   "outputs": [],
   "source": [
    "def euclidean_dist(x1, x2):\n",
    "    \n",
    "    '''\n",
    "    Input: x1 and x2 are numpy arrays or scalars\n",
    "    Output: Euclidean distance between two high \n",
    "    dimensional arrays\n",
    "    '''\n",
    "    \n",
    "    dist = np.sqrt(np.sum(np.square(x1 - x2)))\n",
    "    return dist"
   ]
  },
  {
   "cell_type": "code",
   "execution_count": 5,
   "metadata": {
    "collapsed": true
   },
   "outputs": [],
   "source": [
    "def get_distance(X, y, label1, label2):\n",
    "    \n",
    "    '''\n",
    "    Input: Numpy array representing data points\n",
    "    Two labels between whose data points the distance\n",
    "    needs to be found\n",
    "    \n",
    "    Output: Euclidean distance between each pair of data\n",
    "    points\n",
    "    '''\n",
    "    \n",
    "    distance = []\n",
    "    points = []\n",
    "    for x1 in X[y == label1, :]:\n",
    "        for x2 in X[y == label2, :]:\n",
    "            distance.append(euclidean_dist(x1, x2))\n",
    "            points.append((x1, x2))\n",
    "    return points, distance"
   ]
  },
  {
   "cell_type": "code",
   "execution_count": 6,
   "metadata": {
    "collapsed": true
   },
   "outputs": [],
   "source": [
    "def plotData(X, xaxis, yaxis, ax, labels=None, feature_names=None, title='Graph'):\n",
    "    \n",
    "    '''\n",
    "    Input: Numpy array of data points\n",
    "    Feature number for x axis\n",
    "    Feature number for y axis\n",
    "    labels representing the classes\n",
    "    feature_names for features along both axes\n",
    "    \n",
    "    Output: Plot of the features \n",
    "    '''\n",
    "    \n",
    "    try:\n",
    "        ax.scatter(X[:, xaxis], X[:, yaxis], c = labels, cmap=plt.cm.Spectral)\n",
    "    except:\n",
    "        ax.scatter(X[:, xaxis], X[:, yaxis])\n",
    "        \n",
    "    if feature_names:\n",
    "        ax.set_xlabel(data.feature_names[xaxis])\n",
    "        ax.set_ylabel(data.feature_names[yaxis])\n",
    "    ax.set_title(title)"
   ]
  },
  {
   "cell_type": "code",
   "execution_count": 7,
   "metadata": {
    "collapsed": true
   },
   "outputs": [],
   "source": [
    "def labelInfo(labels):\n",
    "    \n",
    "    '''\n",
    "    Produces label information\n",
    "    '''\n",
    "    \n",
    "    dist = Counter(labels).most_common()\n",
    "    for tup in dist:\n",
    "        print 'Label: ', tup[0], 'Count: ', tup[1]"
   ]
  },
  {
   "cell_type": "code",
   "execution_count": 8,
   "metadata": {
    "collapsed": true
   },
   "outputs": [],
   "source": [
    "def applyAlgo(X_random, y_random, label1, label2, num_points=1000, num_choose=100):\n",
    "    \n",
    "    '''\n",
    "    Apply the algorithm of minimum euclidean distances\n",
    "    '''\n",
    "    \n",
    "    points, distance = get_distance(X_random, y_random, label1, label2)\n",
    "    assert len(points) == len(distance)\n",
    "    args = np.argsort(distance)[0:num_points]\n",
    "    points = np.asarray(points)\n",
    "    random_points = points[np.random.choice(args, num_choose)]\n",
    "    random_points = random_points.reshape((num_choose*2, X_random.shape[1]))\n",
    "    label = [label1 if x%2 == 0 else label2 for x in np.arange(random_points.shape[0])]\n",
    "    \n",
    "    return random_points, label"
   ]
  },
  {
   "cell_type": "markdown",
   "metadata": {},
   "source": [
    "## Linearly Separable Data"
   ]
  },
  {
   "cell_type": "code",
   "execution_count": null,
   "metadata": {
    "collapsed": false,
    "scrolled": false
   },
   "outputs": [],
   "source": [
    "## Data Wrangling\n",
    "data = datasets.load_iris()\n",
    "X = data.data[:, :2]\n",
    "y = data.target\n",
    "X = X[(y == 0) | (y == 1), :]\n",
    "y = y[(y == 0) | (y == 1)]\n",
    "\n",
    "## Plotting the data\n",
    "fig = plt.figure(figsize=(12, 6))\n",
    "ax = fig.add_subplot(121)\n",
    "plotData(X, 0, 1, ax, y, feature_names=data.feature_names, title='Original Dataset')\n",
    "\n",
    "## Fitting black box to original data\n",
    "blackbox = LogisticRegression()\n",
    "blackbox.fit(X, y)\n",
    "print 'Blackbox score on the random dataset: ', blackbox.score(X, y)\n",
    "\n",
    "## Generating random samples\n",
    "X_random = generate_random(X, data.feature_names[0:2], data_size=1000).values\n",
    "y_random = blackbox.predict(X_random)\n",
    "whitebox = LogisticRegression()\n",
    "whitebox.fit(X_random, y_random)\n",
    "print 'Whitebox score when trained with random dataset: ', whitebox.score(X, y)\n",
    "\n",
    "## Getting label information\n",
    "labelInfo(y_random)\n",
    "ax = fig.add_subplot(122)\n",
    "plotData(X_random, 0, 1, ax, labels=y_random, feature_names=data.feature_names, title='Random Dataset')\n",
    "\n",
    "## Applying the algorithm\n",
    "new_data, new_labels = applyAlgo(X_random, 0, 1)"
   ]
  },
  {
   "cell_type": "code",
   "execution_count": null,
   "metadata": {
    "collapsed": false
   },
   "outputs": [],
   "source": [
    "fig = plt.figure(figsize=(10,5))\n",
    "ax = fig.add_subplot(121)\n",
    "plotData(new_data, 0, 1, ax, new_labels, feature_names=data.feature_names, title=\"Minimal Distance Dataset\")"
   ]
  },
  {
   "cell_type": "code",
   "execution_count": null,
   "metadata": {
    "collapsed": false
   },
   "outputs": [],
   "source": [
    "whitebox = LogisticRegression()\n",
    "whitebox.fit(new_data,new_labels)\n",
    "print 'Score of whitebox on original dataset: ', whitebox.score(X, y)"
   ]
  },
  {
   "cell_type": "markdown",
   "metadata": {},
   "source": [
    "** Score is equivalent with the black box. The model works fine on simple dimensions ** :)"
   ]
  },
  {
   "cell_type": "markdown",
   "metadata": {},
   "source": [
    "## Non Linearly Separable Data"
   ]
  },
  {
   "cell_type": "code",
   "execution_count": null,
   "metadata": {
    "collapsed": true
   },
   "outputs": [],
   "source": [
    "import tensorflow as tf"
   ]
  },
  {
   "cell_type": "code",
   "execution_count": null,
   "metadata": {
    "collapsed": true
   },
   "outputs": [],
   "source": [
    "tf.reset_default_graph()"
   ]
  },
  {
   "cell_type": "code",
   "execution_count": null,
   "metadata": {
    "collapsed": true
   },
   "outputs": [],
   "source": [
    "with tf.variable_scope(\"Input\") as scope:\n",
    "    input_data = tf.placeholder(dtype=tf.float32, shape=[None, 2], name=\"Input_data\")\n",
    "    labels = tf.placeholder(dtype=tf.float32, shape=[None,2], name=\"labels\")"
   ]
  },
  {
   "cell_type": "code",
   "execution_count": null,
   "metadata": {
    "collapsed": false
   },
   "outputs": [],
   "source": [
    "with tf.variable_scope(\"hidden_layer\") as scope:\n",
    "    w = tf.get_variable(dtype=tf.float32, shape=[2, 128], initializer=tf.random_normal_initializer(), name=\"weights\")\n",
    "    b = tf.get_variable(dtype=tf.float32, shape=[128], initializer=tf.random_normal_initializer(), name=\"biases\")\n",
    "    out = tf.nn.relu(tf.matmul(input_data, w) + b)"
   ]
  },
  {
   "cell_type": "code",
   "execution_count": null,
   "metadata": {
    "collapsed": true
   },
   "outputs": [],
   "source": [
    "with tf.variable_scope(\"output_layer\") as scope:\n",
    "    w = tf.get_variable(dtype=tf.float32, shape=[128, 2], initializer=tf.random_normal_initializer(), name=\"weights\")\n",
    "    b = tf.get_variable(dtype=tf.float32, shape=[2], initializer=tf.random_normal_initializer(), name=\"biases\")\n",
    "    softmax = tf.nn.softmax(tf.matmul(out,w) + b)"
   ]
  },
  {
   "cell_type": "code",
   "execution_count": null,
   "metadata": {
    "collapsed": false
   },
   "outputs": [],
   "source": [
    "with tf.variable_scope(\"loss\") as scope:\n",
    "    loss = tf.reduce_mean(-tf.reduce_sum(labels*tf.log(softmax), reduction_indices=[1]))"
   ]
  },
  {
   "cell_type": "code",
   "execution_count": null,
   "metadata": {
    "collapsed": true
   },
   "outputs": [],
   "source": [
    "with tf.variable_scope(\"optimizer\") as scope:\n",
    "    optimizer = tf.train.AdamOptimizer(1e-4).minimize(loss)"
   ]
  },
  {
   "cell_type": "code",
   "execution_count": null,
   "metadata": {
    "collapsed": false
   },
   "outputs": [],
   "source": [
    "## Data Wrangling\n",
    "data = datasets.make_moons()\n",
    "X, y = data\n",
    "color = y\n",
    "y = pd.get_dummies(y)\n",
    "feature_names = ['feature1', 'feature2']\n",
    "\n",
    "## Plotting the data\n",
    "fig = plt.figure(figsize=(12, 6))\n",
    "ax = fig.add_subplot(121)\n",
    "plotData(X, 0, 1, ax, color,title='Original Dataset')\n",
    "\n",
    "## Generating random samples\n",
    "X_random = generate_random(X, feature_names, data_size=1000).values\n",
    "\n",
    "## Fitting the black box and generating labels for random dataset\n",
    "l, i = 1000, 1\n",
    "epsilon = 1e-2\n",
    "with tf.Session() as sess:\n",
    "    init = tf.global_variables_initializer()\n",
    "    sess.run(init)\n",
    "    \n",
    "    while l > epsilon:\n",
    "        \n",
    "        _, l = sess.run([optimizer, loss], feed_dict={input_data:X, labels:y})\n",
    "        \n",
    "        if i % 1000 == 0:\n",
    "            \n",
    "            print 'Epoch: {}\\n Loss: {}'.format(i, l)\n",
    "        i += 1\n",
    "    \n",
    "    ## Generating labels for random data\n",
    "    y_random = sess.run([softmax], feed_dict={input_data:X_random})\n",
    "\n",
    "## Getting label information\n",
    "y_random = np.argmax(y_random[0], 1)\n",
    "labelInfo(y_random)\n",
    "\n",
    "## Performance of white box when trained with random data\n",
    "whitebox = RandomForestClassifier()\n",
    "whitebox.fit(X_random, y_random)\n",
    "print 'Whitebox score when trained on the random dataset: ', whitebox.score(X, data[1])\n",
    "\n",
    "ax = fig.add_subplot(122)\n",
    "plotData(X_random, 0, 1, ax, labels=y_random, title='Random Dataset')\n",
    "\n",
    "## Applying the algorithm\n",
    "new_data, new_labels = applyAlgo(X_random, 0, 1)"
   ]
  },
  {
   "cell_type": "code",
   "execution_count": null,
   "metadata": {
    "collapsed": false
   },
   "outputs": [],
   "source": [
    "fig = plt.figure(figsize=(10,5))\n",
    "ax = fig.add_subplot(121)\n",
    "plotData(new_data, 0, 1, ax, new_labels, title=\"Minimal Distance Dataset\")"
   ]
  },
  {
   "cell_type": "code",
   "execution_count": null,
   "metadata": {
    "collapsed": false
   },
   "outputs": [],
   "source": [
    "whitebox = RandomForestClassifier()\n",
    "whitebox.fit(new_data, pd.get_dummies(new_labels))\n",
    "print 'Score of Whitebox on original data', whitebox.score(X, y)"
   ]
  },
  {
   "cell_type": "markdown",
   "metadata": {},
   "source": [
    "** Works well on non linear data, although the data is still in 2 dimensions **"
   ]
  },
  {
   "cell_type": "markdown",
   "metadata": {},
   "source": [
    "## High Dimensional Data"
   ]
  },
  {
   "cell_type": "code",
   "execution_count": null,
   "metadata": {
    "collapsed": false,
    "scrolled": false
   },
   "outputs": [],
   "source": [
    "## Data Wrangling\n",
    "data = datasets.load_iris()\n",
    "X = data.data\n",
    "y = data.target\n",
    "X = X[(y == 0) | (y == 1), :]\n",
    "y = y[(y == 0) | (y == 1)]\n",
    "\n",
    "## Plotting the data\n",
    "title = 'Original Dataset'\n",
    "fig = plt.figure(figsize=(11, 4))\n",
    "ax = fig.add_subplot(131)\n",
    "plotData(X, 0, 1, ax, y, data.feature_names, title=title)\n",
    "ax = fig.add_subplot(132)\n",
    "plotData(X, 1, 2, ax, y, data.feature_names, title=title)\n",
    "ax = fig.add_subplot(133)\n",
    "plotData(X, 2, 3, ax, y, data.feature_names, title=title)\n",
    "plt.show()\n",
    "\n",
    "## Fitting the black box model\n",
    "blackbox = LogisticRegression()\n",
    "blackbox.fit(X, y)\n",
    "\n",
    "## Generating random samples\n",
    "X_random = generate_random(X, data.feature_names, data_size=1000).values\n",
    "y_random = blackbox.predict(X_random)\n",
    "\n",
    "## Performance of whitebox with random dataset\n",
    "whitebox = LogisticRegression()\n",
    "whitebox.fit(X_random, y_random)\n",
    "print 'Whitebox performance when trained with random dataset: ', whitebox.score(X, y)\n",
    "\n",
    "## Getting label information\n",
    "labelInfo(y_random)\n",
    "\n",
    "## Plotting the random  data\n",
    "title = 'Random Dataset'\n",
    "fig = plt.figure(figsize=(11, 4))\n",
    "ax = fig.add_subplot(131)\n",
    "plotData(X_random, 0, 1, ax, labels=y_random, feature_names=data.feature_names, title=title)\n",
    "ax = fig.add_subplot(132)\n",
    "plotData(X_random, 1, 2, ax, labels=y_random, feature_names=data.feature_names, title=title)\n",
    "ax = fig.add_subplot(133)\n",
    "plotData(X_random, 2, 3, ax, labels=y_random, feature_names=data.feature_names, title=title)\n",
    "plt.show()\n",
    "\n",
    "## Applying the algorithm\n",
    "new_data, new_labels = applyAlgo(X_random, 0, 1)"
   ]
  },
  {
   "cell_type": "code",
   "execution_count": null,
   "metadata": {
    "collapsed": false
   },
   "outputs": [],
   "source": [
    "title='Minimal Distance Dataset'\n",
    "fig = plt.figure(figsize=(11, 4))\n",
    "ax = fig.add_subplot(131)\n",
    "plotData(new_data, 0, 1, ax, labels=new_labels, feature_names=data.feature_names, title=title)\n",
    "ax = fig.add_subplot(132)\n",
    "plotData(new_data, 1, 2, ax, labels=new_labels, feature_names=data.feature_names, title=title)\n",
    "ax = fig.add_subplot(133)\n",
    "plotData(new_data, 2, 3, ax, labels=new_labels, feature_names=data.feature_names, title=title)\n",
    "plt.show()"
   ]
  },
  {
   "cell_type": "markdown",
   "metadata": {},
   "source": [
    "The minimal distance points generated are not so obviously separated into the two classes but it can be hypothesized that a plane which perfectly separates the classes (** in high dimensions **) can be represented by this new dataset. "
   ]
  },
  {
   "cell_type": "code",
   "execution_count": null,
   "metadata": {
    "collapsed": false
   },
   "outputs": [],
   "source": [
    "whitebox = LogisticRegression()\n",
    "whitebox.fit(new_data, new_labels)\n",
    "print 'Score of whiteboard on the original data: ', whitebox.score(X, y)"
   ]
  },
  {
   "cell_type": "markdown",
   "metadata": {
    "collapsed": true
   },
   "source": [
    "## Very High Dimensional Data\n",
    "e.g. heart.csv"
   ]
  },
  {
   "cell_type": "code",
   "execution_count": null,
   "metadata": {
    "collapsed": true
   },
   "outputs": [],
   "source": [
    "from sklearn.svm import SVC"
   ]
  },
  {
   "cell_type": "code",
   "execution_count": null,
   "metadata": {
    "collapsed": false
   },
   "outputs": [],
   "source": [
    "## Data Wrangling\n",
    "data = pd.read_csv('../data/heart.csv')\n",
    "data['famhist'] = data['famhist'].map({'Absent': 0, 'Present': 1})\n",
    "y = data.pop('chd').values\n",
    "feature_names = data.columns\n",
    "X = data.values\n",
    "\n",
    "## Fitting the black box model\n",
    "blackbox = LogisticRegression()\n",
    "blackbox.fit(X, y)\n",
    "print 'Black Box accuracy on the original dataset: ', blackbox.score(X, y)\n",
    "\n",
    "## Generating random samples\n",
    "X_random = generate_random(X, feature_names, data_size=1000).values\n",
    "y_random = blackbox.predict(X_random)\n",
    "\n",
    "## Whitebox performance with the random dataset\n",
    "whitebox = LogisticRegression()\n",
    "whitebox.fit(X_random, y_random)\n",
    "print 'Whitebox performance when trained on random examples: ', whitebox.score(X, y)\n",
    "## Getting label information\n",
    "labelInfo(y_random)\n",
    "\n",
    "## Applying the algorithm\n",
    "new_data, new_labels = applyAlgo(X_random, 0, 1)"
   ]
  },
  {
   "cell_type": "code",
   "execution_count": null,
   "metadata": {
    "collapsed": false
   },
   "outputs": [],
   "source": [
    "whitebox = LogisticRegression()\n",
    "whitebox.fit(new_data, new_labels)\n",
    "print 'White Box accuracy on the original dataset', whitebox.score(X, y)"
   ]
  },
  {
   "cell_type": "markdown",
   "metadata": {},
   "source": [
    "## On different models"
   ]
  },
  {
   "cell_type": "code",
   "execution_count": 9,
   "metadata": {
    "collapsed": true
   },
   "outputs": [],
   "source": [
    "import copy"
   ]
  },
  {
   "cell_type": "code",
   "execution_count": 10,
   "metadata": {
    "collapsed": true
   },
   "outputs": [],
   "source": [
    "def flowModels(models, X, y, feature_names, data_size=5000):\n",
    "    accuracy_wb = []\n",
    "    accuracy_bb = []\n",
    "    accuracy_random = []\n",
    "    \n",
    "    for model in models:\n",
    "        print '*'*30\n",
    "        print model\n",
    "        \n",
    "        blackbox = copy.deepcopy(model)\n",
    "        blackbox.fit(X, y)\n",
    "        score = blackbox.score(X, y)\n",
    "        print 'Black Box accuracy on the original dataset: ', score\n",
    "        accuracy_bb.append(score)\n",
    "\n",
    "        ## Generating random samples\n",
    "        X_random = generate_random(X, feature_names, data_size=data_size).values\n",
    "        y_random = blackbox.predict(X_random)\n",
    "        \n",
    "        whitebox = copy.deepcopy(model)\n",
    "        whitebox.fit(X_random, y_random)\n",
    "        score = whitebox.score(X,y)\n",
    "        accuracy_random.append(score)\n",
    "\n",
    "        ## Getting label information\n",
    "        labelInfo(y_random)\n",
    "\n",
    "        ## Applying the algorithm\n",
    "        new_data, new_labels = applyAlgo(X_random, y_random, 0, 1, num_points=data_size, num_choose=500)\n",
    "        \n",
    "        whitebox = copy.deepcopy(model)\n",
    "        whitebox.fit(new_data, new_labels)\n",
    "        score = whitebox.score(X, y)\n",
    "        print 'White Box accuracy on the original dataset', score\n",
    "        print '*'*30\n",
    "        accuracy_wb.append(score)\n",
    "        \n",
    "    return accuracy_bb, accuracy_wb, accuracy_random"
   ]
  },
  {
   "cell_type": "code",
   "execution_count": 11,
   "metadata": {
    "collapsed": true
   },
   "outputs": [],
   "source": [
    "## Data Wrangling\n",
    "data = pd.read_csv('../data/heart.csv')\n",
    "data['famhist'] = data['famhist'].map({'Absent': 0, 'Present': 1})\n",
    "y = data.pop('chd').values\n",
    "feature_names = data.columns\n",
    "X = data.values"
   ]
  },
  {
   "cell_type": "code",
   "execution_count": 12,
   "metadata": {
    "collapsed": true
   },
   "outputs": [],
   "source": [
    "from sklearn.discriminant_analysis import LinearDiscriminantAnalysis, QuadraticDiscriminantAnalysis\n",
    "from sklearn.linear_model import RidgeClassifier"
   ]
  },
  {
   "cell_type": "code",
   "execution_count": 13,
   "metadata": {
    "collapsed": true
   },
   "outputs": [],
   "source": [
    "models = [RandomForestClassifier(), LogisticRegression(), LinearDiscriminantAnalysis(), QuadraticDiscriminantAnalysis(),\n",
    "         RidgeClassifier()]"
   ]
  },
  {
   "cell_type": "code",
   "execution_count": 14,
   "metadata": {
    "collapsed": false,
    "scrolled": false
   },
   "outputs": [
    {
     "name": "stdout",
     "output_type": "stream",
     "text": [
      "******************************\n",
      "RandomForestClassifier(bootstrap=True, class_weight=None, criterion='gini',\n",
      "            max_depth=None, max_features='auto', max_leaf_nodes=None,\n",
      "            min_impurity_split=1e-07, min_samples_leaf=1,\n",
      "            min_samples_split=2, min_weight_fraction_leaf=0.0,\n",
      "            n_estimators=10, n_jobs=1, oob_score=False, random_state=None,\n",
      "            verbose=0, warm_start=False)\n",
      "Black Box accuracy on the original dataset:  0.984848484848\n",
      "Label:  0 Count:  2850\n",
      "Label:  1 Count:  2150\n",
      "White Box accuracy on the original dataset 0.677489177489\n",
      "******************************\n",
      "******************************\n",
      "LogisticRegression(C=1.0, class_weight=None, dual=False, fit_intercept=True,\n",
      "          intercept_scaling=1, max_iter=100, multi_class='ovr', n_jobs=1,\n",
      "          penalty='l2', random_state=None, solver='liblinear', tol=0.0001,\n",
      "          verbose=0, warm_start=False)\n",
      "Black Box accuracy on the original dataset:  0.733766233766\n",
      "Label:  0 Count:  2631\n",
      "Label:  1 Count:  2369\n",
      "White Box accuracy on the original dataset 0.733766233766\n",
      "******************************\n",
      "******************************\n",
      "LinearDiscriminantAnalysis(n_components=None, priors=None, shrinkage=None,\n",
      "              solver='svd', store_covariance=False, tol=0.0001)\n",
      "Black Box accuracy on the original dataset:  0.746753246753\n",
      "Label:  1 Count:  3002\n",
      "Label:  0 Count:  1998\n",
      "White Box accuracy on the original dataset 0.755411255411\n",
      "******************************\n",
      "******************************\n",
      "QuadraticDiscriminantAnalysis(priors=None, reg_param=0.0,\n",
      "               store_covariances=False, tol=0.0001)\n",
      "Black Box accuracy on the original dataset:  0.757575757576\n",
      "Label:  1 Count:  4589\n",
      "Label:  0 Count:  411\n",
      "White Box accuracy on the original dataset 0.722943722944\n",
      "******************************\n",
      "******************************\n",
      "RidgeClassifier(alpha=1.0, class_weight=None, copy_X=True, fit_intercept=True,\n",
      "        max_iter=None, normalize=False, random_state=None, solver='auto',\n",
      "        tol=0.001)\n",
      "Black Box accuracy on the original dataset:  0.744588744589\n",
      "Label:  1 Count:  2945\n",
      "Label:  0 Count:  2055\n",
      "White Box accuracy on the original dataset 0.742424242424\n",
      "******************************\n"
     ]
    }
   ],
   "source": [
    "ac_bb, ac_wb, ac_r = flowModels(models, X, y, feature_names)"
   ]
  },
  {
   "cell_type": "code",
   "execution_count": 15,
   "metadata": {
    "collapsed": false
   },
   "outputs": [
    {
     "data": {
      "image/png": "[encoded data removed]",
      "text/plain": [
       "<matplotlib.figure.Figure at 0x11594c3d0>"
      ]
     },
     "metadata": {},
     "output_type": "display_data"
    }
   ],
   "source": [
    "my_xticks = ['RFC', 'LR', 'LDA', 'QDA', 'Ridge']\n",
    "x = np.arange(len(my_xticks))\n",
    "plt.xticks(x, my_xticks)\n",
    "plt.plot(x, ac_bb, '-o', label='BLACKBOX')\n",
    "plt.plot(x, ac_wb, '-o', label='WHITEBOX')\n",
    "plt.plot(x, ac_r, '-o', label='RANDOM')\n",
    "plt.title('Models and Accuracy')\n",
    "plt.xlabel('Models')\n",
    "plt.ylabel('Accuracy')\n",
    "plt.legend()\n",
    "plt.show()"
   ]
  },
  {
   "cell_type": "code",
   "execution_count": null,
   "metadata": {
    "collapsed": true
   },
   "outputs": [],
   "source": []
  }
 ],
 "metadata": {
  "anaconda-cloud": {},
  "kernelspec": {
   "display_name": "Python [default]",
   "language": "python",
   "name": "python2"
  },
  "language_info": {
   "codemirror_mode": {
    "name": "ipython",
    "version": 2
   },
   "file_extension": ".py",
   "mimetype": "text/x-python",
   "name": "python",
   "nbconvert_exporter": "python",
   "pygments_lexer": "ipython2",
   "version": "2.7.12"
  }
 },
 "nbformat": 4,
 "nbformat_minor": 1
}
