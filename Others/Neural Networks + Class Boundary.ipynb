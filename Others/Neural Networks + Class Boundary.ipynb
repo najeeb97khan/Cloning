{
 "cells": [
  {
   "cell_type": "code",
   "execution_count": 1,
   "metadata": {
    "collapsed": true
   },
   "outputs": [],
   "source": [
    "%matplotlib inline\n",
    "import pandas as pd\n",
    "import matplotlib.pyplot as plt\n",
    "import seaborn as sns\n",
    "import numpy as np"
   ]
  },
  {
   "cell_type": "code",
   "execution_count": 2,
   "metadata": {
    "collapsed": true
   },
   "outputs": [],
   "source": [
    "import tensorflow as tf"
   ]
  },
  {
   "cell_type": "code",
   "execution_count": 3,
   "metadata": {
    "collapsed": false
   },
   "outputs": [
    {
     "name": "stdout",
     "output_type": "stream",
     "text": [
      "(462, 9) (462, 2)\n"
     ]
    }
   ],
   "source": [
    "## Gettting the data\n",
    "data = pd.read_csv('../data/heart.csv')\n",
    "data['famhist'] = data['famhist'].map({\"Absent\":0, \"Present\":1})\n",
    "y = pd.get_dummies(data.pop('chd')).values\n",
    "feature_names = data.columns\n",
    "X = data.values\n",
    "print X.shape, y.shape"
   ]
  },
  {
   "cell_type": "code",
   "execution_count": 4,
   "metadata": {
    "collapsed": false
   },
   "outputs": [
    {
     "name": "stdout",
     "output_type": "stream",
     "text": [
      "1.17911132197e-16 1.0\n"
     ]
    }
   ],
   "source": [
    "from sklearn.preprocessing import StandardScaler\n",
    "X = StandardScaler().fit_transform(X)\n",
    "print np.mean(X), np.std(X)"
   ]
  },
  {
   "cell_type": "code",
   "execution_count": 5,
   "metadata": {
    "collapsed": true
   },
   "outputs": [],
   "source": [
    "def generate_random(orig_data, feature_names, data_size):\n",
    "    '''\n",
    "    Input: Data, Feature Names, Size of Random Data\n",
    "    Output: Random Data\n",
    "    \n",
    "    Generates random dataset of size data_size\n",
    "    Random dataset is generated from normal\n",
    "    distribution with specified high and low values\n",
    "    '''\n",
    "    \n",
    "    df = {}\n",
    "    for i in range(len(feature_names)):\n",
    "        low = np.min(orig_data[:, i])\n",
    "        high = np.max(orig_data[:, i])\n",
    "        df[feature_names[i]] = np.random.uniform(low=low, high=high, size=data_size)\n",
    "    random_dataset = pd.DataFrame(data=df, columns=feature_names)\n",
    "    \n",
    "    return random_dataset"
   ]
  },
  {
   "cell_type": "code",
   "execution_count": 6,
   "metadata": {
    "collapsed": false
   },
   "outputs": [
    {
     "name": "stdout",
     "output_type": "stream",
     "text": [
      "(1000, 9)\n"
     ]
    }
   ],
   "source": [
    "X_random = generate_random(X, feature_names, data_size=1000).values\n",
    "print X_random.shape"
   ]
  },
  {
   "cell_type": "code",
   "execution_count": 7,
   "metadata": {
    "collapsed": true
   },
   "outputs": [],
   "source": [
    "tf.reset_default_graph()"
   ]
  },
  {
   "cell_type": "code",
   "execution_count": 8,
   "metadata": {
    "collapsed": true
   },
   "outputs": [],
   "source": [
    "with tf.variable_scope(\"Placeholder\") as scope:\n",
    "    input_tensor = tf.placeholder(dtype=tf.float32, shape=[None, 9], name=\"input\")\n",
    "    label = tf.placeholder(dtype=tf.float32, shape=[None, 2], name=\"label\")"
   ]
  },
  {
   "cell_type": "code",
   "execution_count": 9,
   "metadata": {
    "collapsed": true
   },
   "outputs": [],
   "source": [
    "with tf.variable_scope(\"hidden_layer\") as scope:\n",
    "    w = tf.get_variable(dtype=tf.float32, name=\"weights\", shape=[9, 128], initializer=tf.random_uniform_initializer())\n",
    "    b = tf.get_variable(dtype=tf.float32, name=\"biases\", shape=[128], initializer=tf.random_uniform_initializer())\n",
    "    out = tf.nn.relu(tf.matmul(input_tensor, w) + b)"
   ]
  },
  {
   "cell_type": "code",
   "execution_count": 10,
   "metadata": {
    "collapsed": true
   },
   "outputs": [],
   "source": [
    "with tf.variable_scope(\"output_layer\") as scope:\n",
    "    w = tf.get_variable(dtype=tf.float32, name=\"weights\", shape=[128, 2], initializer=tf.random_normal_initializer())\n",
    "    b = tf.get_variable(dtype=tf.float32, name=\"biases\", shape=[2], initializer=tf.random_normal_initializer())\n",
    "    softmax = tf.nn.softmax(tf.matmul(out, w) + b)"
   ]
  },
  {
   "cell_type": "code",
   "execution_count": 11,
   "metadata": {
    "collapsed": true
   },
   "outputs": [],
   "source": [
    "with tf.variable_scope(\"loss\") as scope:\n",
    "    loss = tf.reduce_mean(-tf.reduce_sum(label * tf.log(softmax), reduction_indices=[1]))"
   ]
  },
  {
   "cell_type": "code",
   "execution_count": 12,
   "metadata": {
    "collapsed": true
   },
   "outputs": [],
   "source": [
    "with tf.variable_scope(\"optimizer\") as scope:\n",
    "    optimizer = tf.train.AdamOptimizer(learning_rate=1e-3).minimize(loss)"
   ]
  },
  {
   "cell_type": "code",
   "execution_count": 13,
   "metadata": {
    "collapsed": false
   },
   "outputs": [],
   "source": [
    "with tf.variable_scope(\"accuracy\") as scope:\n",
    "    accuracy = tf.reduce_mean(tf.cast(tf.equal(tf.arg_max(softmax, 1), tf.arg_max(label, 1)), dtype=tf.float32))"
   ]
  },
  {
   "cell_type": "code",
   "execution_count": 14,
   "metadata": {
    "collapsed": true
   },
   "outputs": [],
   "source": [
    "N_EPOCHS = 5000"
   ]
  },
  {
   "cell_type": "code",
   "execution_count": 15,
   "metadata": {
    "collapsed": false,
    "scrolled": false
   },
   "outputs": [
    {
     "name": "stdout",
     "output_type": "stream",
     "text": [
      "Epoch: 1000\n",
      " Loss: 0.333021968603\t Accuracy: 0.857142865658\n",
      "Epoch: 2000\n",
      " Loss: 0.228172197938\t Accuracy: 0.909090936184\n",
      "Epoch: 3000\n",
      " Loss: 0.164026752114\t Accuracy: 0.948051929474\n",
      "Epoch: 4000\n",
      " Loss: 0.111271649599\t Accuracy: 0.969696998596\n",
      "Epoch: 5000\n",
      " Loss: 0.086395509541\t Accuracy: 0.971861481667\n"
     ]
    }
   ],
   "source": [
    "with tf.Session() as sess:\n",
    "    \n",
    "    init = tf.global_variables_initializer()\n",
    "    sess.run(init)\n",
    "    \n",
    "    for i in range(1, N_EPOCHS+1):\n",
    "        \n",
    "        _, l, acc = sess.run([optimizer, loss, accuracy], feed_dict={input_tensor:X, label:y})\n",
    "        \n",
    "        if i % 1000 == 0:\n",
    "            \n",
    "            print 'Epoch: {}\\n Loss: {}\\t Accuracy: {}'.format(i, l, acc)\n",
    "            \n",
    "    y_random = sess.run([softmax], feed_dict={input_tensor: X_random})"
   ]
  },
  {
   "cell_type": "code",
   "execution_count": 18,
   "metadata": {
    "collapsed": false
   },
   "outputs": [
    {
     "name": "stdout",
     "output_type": "stream",
     "text": [
      "(1000, 2)\n"
     ]
    }
   ],
   "source": [
    "y_random = y_random[0]\n",
    "print y_random.shape"
   ]
  },
  {
   "cell_type": "code",
   "execution_count": 21,
   "metadata": {
    "collapsed": false
   },
   "outputs": [
    {
     "name": "stdout",
     "output_type": "stream",
     "text": [
      "Epoch: 1000\n",
      " Loss: 0.298611730337\t Accuracy: 0.887000024319\n",
      "Epoch: 2000\n",
      " Loss: 0.220825895667\t Accuracy: 0.938000023365\n",
      "Epoch: 3000\n",
      " Loss: 0.186767011881\t Accuracy: 0.953999996185\n",
      "Epoch: 4000\n",
      " Loss: 0.170256257057\t Accuracy: 0.962999999523\n",
      "Epoch: 5000\n",
      " Loss: 0.159237682819\t Accuracy: 0.971000015736\n"
     ]
    }
   ],
   "source": [
    "with tf.Session() as sess:\n",
    "    \n",
    "    init = tf.global_variables_initializer()\n",
    "    sess.run(init)\n",
    "    \n",
    "    for i in range(1, N_EPOCHS+1):\n",
    "        \n",
    "        _, l, acc = sess.run([optimizer, loss, accuracy], feed_dict={input_tensor:X_random, label:y_random})\n",
    "        \n",
    "        if i % 1000 == 0:\n",
    "            \n",
    "            print 'Epoch: {}\\n Loss: {}\\t Accuracy: {}'.format(i, l, acc)"
   ]
  },
  {
   "cell_type": "markdown",
   "metadata": {},
   "source": [
    "Accuracy is nice! o_O"
   ]
  },
  {
   "cell_type": "code",
   "execution_count": null,
   "metadata": {
    "collapsed": false
   },
   "outputs": [],
   "source": []
  },
  {
   "cell_type": "code",
   "execution_count": null,
   "metadata": {
    "collapsed": true
   },
   "outputs": [],
   "source": []
  }
 ],
 "metadata": {
  "anaconda-cloud": {},
  "kernelspec": {
   "display_name": "Python [default]",
   "language": "python",
   "name": "python2"
  },
  "language_info": {
   "codemirror_mode": {
    "name": "ipython",
    "version": 2
   },
   "file_extension": ".py",
   "mimetype": "text/x-python",
   "name": "python",
   "nbconvert_exporter": "python",
   "pygments_lexer": "ipython2",
   "version": "2.7.12"
  }
 },
 "nbformat": 4,
 "nbformat_minor": 1
}
