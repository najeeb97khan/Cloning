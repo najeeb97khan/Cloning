{
 "cells": [
  {
   "cell_type": "code",
   "execution_count": 1,
   "metadata": {
    "collapsed": true
   },
   "outputs": [],
   "source": [
    "%matplotlib inline\n",
    "import matplotlib.pyplot as plt\n",
    "import pandas as pd\n",
    "import numpy as np\n",
    "import seaborn as sns"
   ]
  },
  {
   "cell_type": "code",
   "execution_count": 2,
   "metadata": {
    "collapsed": false
   },
   "outputs": [],
   "source": [
    "import copy\n",
    "from collections import Counter\n",
    "from sklearn import datasets\n",
    "from sklearn.linear_model import LogisticRegression"
   ]
  },
  {
   "cell_type": "markdown",
   "metadata": {},
   "source": [
    "### Methods for experiment"
   ]
  },
  {
   "cell_type": "code",
   "execution_count": 3,
   "metadata": {
    "collapsed": true
   },
   "outputs": [],
   "source": [
    "def generate_random(orig_data, feature_names, data_size):\n",
    "    '''\n",
    "    Input: Data, Feature Names, Size of Random Data\n",
    "    Output: Random Data\n",
    "    \n",
    "    Generates random dataset of size data_size\n",
    "    Random dataset is generated from normal\n",
    "    distribution with specified high and low values\n",
    "    '''\n",
    "    \n",
    "    df = {}\n",
    "    for i in range(len(feature_names)):\n",
    "        low = np.min(orig_data[:, i])\n",
    "        high = np.max(orig_data[:, i])\n",
    "        df[feature_names[i]] = np.random.uniform(low=low, high=high, size=data_size)\n",
    "    random_dataset = pd.DataFrame(data=df, columns=feature_names)\n",
    "    \n",
    "    return random_dataset"
   ]
  },
  {
   "cell_type": "code",
   "execution_count": 4,
   "metadata": {
    "collapsed": true
   },
   "outputs": [],
   "source": [
    "def generate_random_without_constraints(feature_names, data_size):\n",
    "    '''\n",
    "    Input: Data, Feature Names, Size of Random Data\n",
    "    Output: Random Data\n",
    "    \n",
    "    Generates random dataset of size data_size\n",
    "    Random dataset is generated from normal\n",
    "    distribution with specified high and low values\n",
    "    '''\n",
    "    \n",
    "    df = {}\n",
    "    for i in range(len(feature_names)):\n",
    "        df[feature_names[i]] = np.random.normal(size=data_size)\n",
    "    random_dataset = pd.DataFrame(data=df, columns=feature_names)\n",
    "    \n",
    "    return random_dataset"
   ]
  },
  {
   "cell_type": "code",
   "execution_count": 5,
   "metadata": {
    "collapsed": true
   },
   "outputs": [],
   "source": [
    "def objective_function(array, label1, label2):\n",
    "    return abs(1 - float(len(array[array == label1]))/len(array[array == label2]))"
   ]
  },
  {
   "cell_type": "code",
   "execution_count": 6,
   "metadata": {
    "collapsed": false
   },
   "outputs": [],
   "source": [
    "def create_summary(X, y, label0, label1, blackbox, epsilon=1e-2, verbose=False):\n",
    "    \n",
    "    n_features = X.shape[1]\n",
    "    i = 1\n",
    "    while objective_function(y, label0, label1) > epsilon:\n",
    "\n",
    "        first_label = X[y == label0]\n",
    "        second_label = X[y == label1]\n",
    "        if len(first_label) > len(second_label):\n",
    "            dist = second_label\n",
    "            not_dist = first_label\n",
    "        else:\n",
    "            dist = first_label\n",
    "            not_dist = second_label\n",
    "\n",
    "        size = dist.shape[0]\n",
    "        mean, std = np.mean(dist), np.std(dist)\n",
    "        shape = np.abs(first_label.shape[0] - second_label.shape[0])\n",
    "        rnd = np.random.normal(loc=mean, scale=std, size=[shape, n_features])\n",
    "        X = np.vstack((dist, not_dist[:size, :], rnd[:(X.shape[0] - 2*size), :]))\n",
    "\n",
    "        y = blackbox.predict(X)\n",
    "        if verbose:\n",
    "            print 'Epoch: {}\\n'.format(i),Counter(y)\n",
    "        i += 1\n",
    "    return X"
   ]
  },
  {
   "cell_type": "code",
   "execution_count": 7,
   "metadata": {
    "collapsed": false
   },
   "outputs": [],
   "source": [
    "def perform_experiment(X, y, feature_names, blackbox, whitebox, verbose=False):\n",
    "    \n",
    "    \" X and y corresponds to the training data and labels\"\n",
    "    \n",
    "    ## Generating random data without constraints\n",
    "    X_random = generate_random_without_constraints(feature_names, data_size=1000).values\n",
    "    \n",
    "    ## Fitting blackbox on the data and predicting labels for random data\n",
    "    blackbox = copy.deepcopy(blackbox)\n",
    "    blackbox.fit(X, y)\n",
    "    if verbose:\n",
    "        print 'Performance of black box on actual data', blackbox.score(X, y)\n",
    "    y_random = blackbox.predict(X_random)\n",
    "    if verbose:\n",
    "        print 'Initial configuration of random labels: ', Counter(y_random)\n",
    "    \n",
    "    ## Whitebox performance on random data\n",
    "    whitebox = copy.deepcopy(whitebox)\n",
    "    whitebox.fit(X_random, y_random)\n",
    "    old_score = whitebox.score(X, y)\n",
    "    if verbose:\n",
    "        print 'Performance of whitebox when trained using random data:', old_score\n",
    "    \n",
    "    ## Creating new data with equal proportion of both labels\n",
    "    new_data = create_summary(X_random, y_random, 0, 1, blackbox, verbose=True)\n",
    "    new_labels = blackbox.predict(new_data)\n",
    "    if verbose:\n",
    "        print 'Final configuration of random labels: ', Counter(new_labels)\n",
    "    \n",
    "    ## Whitebox performance using new data\n",
    "    whitebox = copy.deepcopy(whitebox)\n",
    "    whitebox.fit(new_data, new_labels)\n",
    "    new_score = whitebox.score(X, y)\n",
    "    if verbose:\n",
    "        print 'Performance of whitebox when trained using new data:', new_score\n",
    "    return old_score, new_score"
   ]
  },
  {
   "cell_type": "markdown",
   "metadata": {},
   "source": [
    "### Breast Cancer Dataset"
   ]
  },
  {
   "cell_type": "code",
   "execution_count": 8,
   "metadata": {
    "collapsed": false
   },
   "outputs": [
    {
     "name": "stdout",
     "output_type": "stream",
     "text": [
      "(569, 30) (569,)\n"
     ]
    }
   ],
   "source": [
    "first_dataset = datasets.load_breast_cancer()\n",
    "X = first_dataset.data\n",
    "y = first_dataset.target\n",
    "feature_names = ['feature{}'.format(i) for i in range(X.shape[1])]\n",
    "print X.shape, y.shape"
   ]
  },
  {
   "cell_type": "code",
   "execution_count": 9,
   "metadata": {
    "collapsed": false
   },
   "outputs": [
    {
     "name": "stdout",
     "output_type": "stream",
     "text": [
      "Characteristics of the Dataset: \n",
      "Mean:  61.8907123395\n",
      "Standard Deviation:  228.297405083\n"
     ]
    }
   ],
   "source": [
    "print 'Characteristics of the Dataset: '\n",
    "print 'Mean: ', np.mean(X)\n",
    "print 'Standard Deviation: ', np.std(X)"
   ]
  },
  {
   "cell_type": "code",
   "execution_count": 10,
   "metadata": {
    "collapsed": false
   },
   "outputs": [
    {
     "name": "stdout",
     "output_type": "stream",
     "text": [
      "Blackbox Accuracy: \n",
      "0.959578207381\n"
     ]
    }
   ],
   "source": [
    "print 'Blackbox Accuracy: '\n",
    "blackbox = LogisticRegression()\n",
    "blackbox.fit(X, y)\n",
    "print blackbox.score(X, y)"
   ]
  },
  {
   "cell_type": "code",
   "execution_count": 11,
   "metadata": {
    "collapsed": false,
    "scrolled": true
   },
   "outputs": [
    {
     "name": "stdout",
     "output_type": "stream",
     "text": [
      "Epoch: 1\n",
      "Counter({1: 503, 0: 497})\n",
      "Epoch: 2\n",
      "Counter({0: 502, 1: 498})\n",
      "Epoch: 1\n",
      "Counter({1: 501, 0: 499})\n",
      "Epoch: 1\n",
      "Counter({0: 500, 1: 500})\n",
      "Epoch: 1\n",
      "Counter({1: 506, 0: 494})\n",
      "Epoch: 2\n",
      "Counter({0: 505, 1: 495})\n",
      "Epoch: 3\n",
      "Counter({1: 502, 0: 498})\n",
      "Epoch: 1\n",
      "Counter({1: 502, 0: 498})\n",
      "Epoch: 1\n",
      "Counter({1: 502, 0: 498})\n",
      "Epoch: 1\n",
      "Counter({0: 500, 1: 500})\n",
      "Epoch: 1\n",
      "Counter({1: 504, 0: 496})\n",
      "Epoch: 2\n",
      "Counter({1: 501, 0: 499})\n",
      "Epoch: 1\n",
      "Counter({1: 504, 0: 496})\n",
      "Epoch: 2\n",
      "Counter({0: 501, 1: 499})\n",
      "Epoch: 1\n",
      "Counter({1: 513, 0: 487})\n",
      "Epoch: 2\n",
      "Counter({1: 501, 0: 499})\n"
     ]
    }
   ],
   "source": [
    "old_score, new_score = [],[]\n",
    "for i in range(10):\n",
    "    \n",
    "    a, b = perform_experiment(X, y, feature_names, LogisticRegression(), LogisticRegression())\n",
    "    old_score.append(a)\n",
    "    new_score.append(b)"
   ]
  },
  {
   "cell_type": "code",
   "execution_count": 12,
   "metadata": {
    "collapsed": false
   },
   "outputs": [
    {
     "data": {
      "image/png": "[encoded data removed]",
      "text/plain": [
       "<matplotlib.figure.Figure at 0x1157d3bd0>"
      ]
     },
     "metadata": {},
     "output_type": "display_data"
    }
   ],
   "source": [
    "plt.plot(old_score, label='random')\n",
    "plt.plot(new_score, label='with equal classes')\n",
    "plt.title('Breast Cancer Dataset')\n",
    "plt.legend()\n",
    "plt.show()"
   ]
  },
  {
   "cell_type": "markdown",
   "metadata": {},
   "source": [
    "### Heart Dataset"
   ]
  },
  {
   "cell_type": "code",
   "execution_count": 13,
   "metadata": {
    "collapsed": false
   },
   "outputs": [
    {
     "name": "stdout",
     "output_type": "stream",
     "text": [
      "(462, 9) (462,)\n"
     ]
    }
   ],
   "source": [
    "second_dataset = pd.read_csv('../data/heart.csv')\n",
    "y = second_dataset.pop('chd').values\n",
    "second_dataset['famhist'] = second_dataset['famhist'].map({\"Absent\": 0, \"Present\": 1})\n",
    "feature_names = second_dataset.columns\n",
    "X = second_dataset.values\n",
    "print X.shape, y.shape"
   ]
  },
  {
   "cell_type": "code",
   "execution_count": 14,
   "metadata": {
    "collapsed": false
   },
   "outputs": [
    {
     "name": "stdout",
     "output_type": "stream",
     "text": [
      "Characteristics of the Dataset: \n",
      "Mean:  34.6148388648\n",
      "Standard Deviation:  42.2743469741\n"
     ]
    }
   ],
   "source": [
    "print 'Characteristics of the Dataset: '\n",
    "print 'Mean: ', np.mean(X)\n",
    "print 'Standard Deviation: ', np.std(X)"
   ]
  },
  {
   "cell_type": "code",
   "execution_count": 15,
   "metadata": {
    "collapsed": false
   },
   "outputs": [
    {
     "name": "stdout",
     "output_type": "stream",
     "text": [
      "Blackbox Accuracy: \n",
      "0.733766233766\n"
     ]
    }
   ],
   "source": [
    "print 'Blackbox Accuracy: '\n",
    "blackbox = LogisticRegression()\n",
    "blackbox.fit(X, y)\n",
    "print blackbox.score(X, y)"
   ]
  },
  {
   "cell_type": "code",
   "execution_count": 16,
   "metadata": {
    "collapsed": false,
    "scrolled": true
   },
   "outputs": [
    {
     "name": "stdout",
     "output_type": "stream",
     "text": [
      "Epoch: 1\n",
      "Counter({0: 943, 1: 57})\n",
      "Epoch: 2\n",
      "Counter({0: 849, 1: 151})\n",
      "Epoch: 3\n",
      "Counter({0: 750, 1: 250})\n",
      "Epoch: 4\n",
      "Counter({0: 661, 1: 339})\n",
      "Epoch: 5\n",
      "Counter({0: 605, 1: 395})\n",
      "Epoch: 6\n",
      "Counter({0: 554, 1: 446})\n",
      "Epoch: 7\n",
      "Counter({0: 534, 1: 466})\n",
      "Epoch: 8\n",
      "Counter({0: 521, 1: 479})\n",
      "Epoch: 9\n",
      "Counter({0: 515, 1: 485})\n",
      "Epoch: 10\n",
      "Counter({0: 512, 1: 488})\n",
      "Epoch: 11\n",
      "Counter({0: 503, 1: 497})\n",
      "Epoch: 12\n",
      "Counter({0: 502, 1: 498})\n",
      "Epoch: 1\n",
      "Counter({0: 955, 1: 45})\n",
      "Epoch: 2\n",
      "Counter({0: 873, 1: 127})\n",
      "Epoch: 3\n",
      "Counter({0: 766, 1: 234})\n",
      "Epoch: 4\n",
      "Counter({0: 667, 1: 333})\n",
      "Epoch: 5\n",
      "Counter({0: 595, 1: 405})\n",
      "Epoch: 6\n",
      "Counter({0: 549, 1: 451})\n",
      "Epoch: 7\n",
      "Counter({0: 523, 1: 477})\n",
      "Epoch: 8\n",
      "Counter({0: 515, 1: 485})\n",
      "Epoch: 9\n",
      "Counter({0: 509, 1: 491})\n",
      "Epoch: 10\n",
      "Counter({0: 508, 1: 492})\n",
      "Epoch: 11\n",
      "Counter({0: 504, 1: 496})\n",
      "Epoch: 12\n",
      "Counter({0: 502, 1: 498})\n",
      "Epoch: 1\n",
      "Counter({0: 941, 1: 59})\n",
      "Epoch: 2\n",
      "Counter({0: 837, 1: 163})\n",
      "Epoch: 3\n",
      "Counter({0: 744, 1: 256})\n",
      "Epoch: 4\n",
      "Counter({0: 657, 1: 343})\n",
      "Epoch: 5\n",
      "Counter({0: 595, 1: 405})\n",
      "Epoch: 6\n",
      "Counter({0: 552, 1: 448})\n",
      "Epoch: 7\n",
      "Counter({0: 524, 1: 476})\n",
      "Epoch: 8\n",
      "Counter({0: 510, 1: 490})\n",
      "Epoch: 9\n",
      "Counter({0: 503, 1: 497})\n",
      "Epoch: 10\n",
      "Counter({0: 500, 1: 500})\n",
      "Epoch: 1\n",
      "Counter({0: 963, 1: 37})\n",
      "Epoch: 2\n",
      "Counter({0: 868, 1: 132})\n",
      "Epoch: 3\n",
      "Counter({0: 756, 1: 244})\n",
      "Epoch: 4\n",
      "Counter({0: 655, 1: 345})\n",
      "Epoch: 5\n",
      "Counter({0: 586, 1: 414})\n",
      "Epoch: 6\n",
      "Counter({0: 548, 1: 452})\n",
      "Epoch: 7\n",
      "Counter({0: 522, 1: 478})\n",
      "Epoch: 8\n",
      "Counter({0: 509, 1: 491})\n",
      "Epoch: 9\n",
      "Counter({0: 505, 1: 495})\n",
      "Epoch: 10\n",
      "Counter({0: 501, 1: 499})\n",
      "Epoch: 1\n",
      "Counter({0: 936, 1: 64})\n",
      "Epoch: 2\n",
      "Counter({0: 828, 1: 172})\n",
      "Epoch: 3\n",
      "Counter({0: 699, 1: 301})\n",
      "Epoch: 4\n",
      "Counter({0: 608, 1: 392})\n",
      "Epoch: 5\n",
      "Counter({0: 544, 1: 456})\n",
      "Epoch: 6\n",
      "Counter({0: 516, 1: 484})\n",
      "Epoch: 7\n",
      "Counter({0: 509, 1: 491})\n",
      "Epoch: 8\n",
      "Counter({0: 501, 1: 499})\n",
      "Epoch: 1\n",
      "Counter({0: 978, 1: 22})\n",
      "Epoch: 2\n",
      "Counter({0: 890, 1: 110})\n",
      "Epoch: 3\n",
      "Counter({0: 781, 1: 219})\n",
      "Epoch: 4\n",
      "Counter({0: 675, 1: 325})\n",
      "Epoch: 5\n",
      "Counter({0: 606, 1: 394})\n",
      "Epoch: 6\n",
      "Counter({0: 564, 1: 436})\n",
      "Epoch: 7\n",
      "Counter({0: 524, 1: 476})\n",
      "Epoch: 8\n",
      "Counter({0: 507, 1: 493})\n",
      "Epoch: 9\n",
      "Counter({0: 503, 1: 497})\n",
      "Epoch: 10\n",
      "Counter({0: 500, 1: 500})\n",
      "Epoch: 1\n",
      "Counter({0: 963, 1: 37})\n",
      "Epoch: 2\n",
      "Counter({0: 875, 1: 125})\n",
      "Epoch: 3\n",
      "Counter({0: 762, 1: 238})\n",
      "Epoch: 4\n",
      "Counter({0: 688, 1: 312})\n",
      "Epoch: 5\n",
      "Counter({0: 620, 1: 380})\n",
      "Epoch: 6\n",
      "Counter({0: 563, 1: 437})\n",
      "Epoch: 7\n",
      "Counter({0: 538, 1: 462})\n",
      "Epoch: 8\n",
      "Counter({0: 519, 1: 481})\n",
      "Epoch: 9\n",
      "Counter({0: 508, 1: 492})\n",
      "Epoch: 10\n",
      "Counter({0: 504, 1: 496})\n",
      "Epoch: 11\n",
      "Counter({0: 501, 1: 499})\n",
      "Epoch: 1\n",
      "Counter({0: 948, 1: 52})\n",
      "Epoch: 2\n",
      "Counter({0: 823, 1: 177})\n",
      "Epoch: 3\n",
      "Counter({0: 687, 1: 313})\n",
      "Epoch: 4\n",
      "Counter({0: 618, 1: 382})\n",
      "Epoch: 5\n",
      "Counter({0: 559, 1: 441})\n",
      "Epoch: 6\n",
      "Counter({0: 528, 1: 472})\n",
      "Epoch: 7\n",
      "Counter({0: 521, 1: 479})\n",
      "Epoch: 8\n",
      "Counter({0: 512, 1: 488})\n",
      "Epoch: 9\n",
      "Counter({0: 506, 1: 494})\n",
      "Epoch: 10\n",
      "Counter({0: 503, 1: 497})\n",
      "Epoch: 11\n",
      "Counter({0: 501, 1: 499})\n",
      "Epoch: 1\n",
      "Counter({0: 966, 1: 34})\n",
      "Epoch: 2\n",
      "Counter({0: 850, 1: 150})\n",
      "Epoch: 3\n",
      "Counter({0: 728, 1: 272})\n",
      "Epoch: 4\n",
      "Counter({0: 624, 1: 376})\n",
      "Epoch: 5\n",
      "Counter({0: 577, 1: 423})\n",
      "Epoch: 6\n",
      "Counter({0: 543, 1: 457})\n",
      "Epoch: 7\n",
      "Counter({0: 525, 1: 475})\n",
      "Epoch: 8\n",
      "Counter({0: 515, 1: 485})\n",
      "Epoch: 9\n",
      "Counter({0: 508, 1: 492})\n",
      "Epoch: 10\n",
      "Counter({0: 507, 1: 493})\n",
      "Epoch: 11\n",
      "Counter({0: 504, 1: 496})\n",
      "Epoch: 12\n",
      "Counter({0: 502, 1: 498})\n",
      "Epoch: 1\n",
      "Counter({0: 960, 1: 40})\n",
      "Epoch: 2\n",
      "Counter({0: 847, 1: 153})\n",
      "Epoch: 3\n",
      "Counter({0: 722, 1: 278})\n",
      "Epoch: 4\n",
      "Counter({0: 621, 1: 379})\n",
      "Epoch: 5\n",
      "Counter({0: 566, 1: 434})\n",
      "Epoch: 6\n",
      "Counter({0: 534, 1: 466})\n",
      "Epoch: 7\n",
      "Counter({0: 520, 1: 480})\n",
      "Epoch: 8\n",
      "Counter({0: 507, 1: 493})\n",
      "Epoch: 9\n",
      "Counter({0: 501, 1: 499})\n"
     ]
    }
   ],
   "source": [
    "old_score, new_score = [],[]\n",
    "for i in range(10):\n",
    "    a, b = perform_experiment(X, y, feature_names, LogisticRegression(), LogisticRegression())\n",
    "    old_score.append(a)\n",
    "    new_score.append(b)"
   ]
  },
  {
   "cell_type": "code",
   "execution_count": 17,
   "metadata": {
    "collapsed": false
   },
   "outputs": [
    {
     "data": {
      "image/png": "[encoded data removed]",
      "text/plain": [
       "<matplotlib.figure.Figure at 0x1157d3550>"
      ]
     },
     "metadata": {},
     "output_type": "display_data"
    }
   ],
   "source": [
    "plt.plot(old_score, label='random')\n",
    "plt.plot(new_score, label='with equal classes',alpha=0.5)\n",
    "plt.title('Heart Dataset')\n",
    "plt.legend()\n",
    "plt.show()"
   ]
  },
  {
   "cell_type": "markdown",
   "metadata": {
    "collapsed": true
   },
   "source": [
    "### BUPA Dataset\n",
    "http://www.cs.huji.ac.il/~shais/datasets/ClassificationDatasets.html"
   ]
  },
  {
   "cell_type": "code",
   "execution_count": 18,
   "metadata": {
    "collapsed": false
   },
   "outputs": [
    {
     "name": "stdout",
     "output_type": "stream",
     "text": [
      "(345, 7) (345,)\n"
     ]
    }
   ],
   "source": [
    "data = pd.read_csv('../data/bupa.data.txt', names=['feature{}'.format(i) for i in range(1,8)])\n",
    "labels = pd.read_csv('../data/bupa.ascii.txt', names=['labels'])\n",
    "labels['labels'] = labels['labels'].map({-1:0, 1:1})\n",
    "X = data.values\n",
    "y = labels['labels'].values\n",
    "feature_names = data.columns\n",
    "print X.shape, y.shape"
   ]
  },
  {
   "cell_type": "code",
   "execution_count": 19,
   "metadata": {
    "collapsed": false
   },
   "outputs": [
    {
     "name": "stdout",
     "output_type": "stream",
     "text": [
      "Characteristics of the Dataset: \n",
      "Mean:  36.9138716356\n",
      "Standard Deviation:  35.5925009275\n"
     ]
    }
   ],
   "source": [
    "print 'Characteristics of the Dataset: '\n",
    "print 'Mean: ', np.mean(X)\n",
    "print 'Standard Deviation: ', np.std(X)"
   ]
  },
  {
   "cell_type": "code",
   "execution_count": 20,
   "metadata": {
    "collapsed": false
   },
   "outputs": [
    {
     "name": "stdout",
     "output_type": "stream",
     "text": [
      "Blackbox Accuracy: \n",
      "0.585507246377\n"
     ]
    }
   ],
   "source": [
    "print 'Blackbox Accuracy: '\n",
    "blackbox = LogisticRegression()\n",
    "blackbox.fit(X, y)\n",
    "print blackbox.score(X, y)"
   ]
  },
  {
   "cell_type": "code",
   "execution_count": 21,
   "metadata": {
    "collapsed": false,
    "scrolled": true
   },
   "outputs": [
    {
     "name": "stdout",
     "output_type": "stream",
     "text": [
      "Epoch: 1\n",
      "Counter({0: 861, 1: 139})\n",
      "Epoch: 2\n",
      "Counter({0: 732, 1: 268})\n",
      "Epoch: 3\n",
      "Counter({0: 626, 1: 374})\n",
      "Epoch: 4\n",
      "Counter({0: 567, 1: 433})\n",
      "Epoch: 5\n",
      "Counter({0: 531, 1: 469})\n",
      "Epoch: 6\n",
      "Counter({0: 516, 1: 484})\n",
      "Epoch: 7\n",
      "Counter({0: 513, 1: 487})\n",
      "Epoch: 8\n",
      "Counter({0: 505, 1: 495})\n",
      "Epoch: 9\n",
      "Counter({0: 505, 1: 495})\n",
      "Epoch: 10\n",
      "Counter({0: 503, 1: 497})\n",
      "Epoch: 11\n",
      "Counter({0: 501, 1: 499})\n",
      "Epoch: 1\n",
      "Counter({0: 839, 1: 161})\n",
      "Epoch: 2\n",
      "Counter({0: 688, 1: 312})\n",
      "Epoch: 3\n",
      "Counter({0: 600, 1: 400})\n",
      "Epoch: 4\n",
      "Counter({0: 554, 1: 446})\n",
      "Epoch: 5\n",
      "Counter({0: 519, 1: 481})\n",
      "Epoch: 6\n",
      "Counter({0: 511, 1: 489})\n",
      "Epoch: 7\n",
      "Counter({0: 503, 1: 497})\n",
      "Epoch: 8\n",
      "Counter({0: 502, 1: 498})\n",
      "Epoch: 1\n",
      "Counter({0: 856, 1: 144})\n",
      "Epoch: 2\n",
      "Counter({0: 722, 1: 278})\n",
      "Epoch: 3\n",
      "Counter({0: 624, 1: 376})\n",
      "Epoch: 4\n",
      "Counter({0: 575, 1: 425})\n",
      "Epoch: 5\n",
      "Counter({0: 541, 1: 459})\n",
      "Epoch: 6\n",
      "Counter({0: 525, 1: 475})\n",
      "Epoch: 7\n",
      "Counter({0: 513, 1: 487})\n",
      "Epoch: 8\n",
      "Counter({0: 506, 1: 494})\n",
      "Epoch: 9\n",
      "Counter({0: 504, 1: 496})\n",
      "Epoch: 10\n",
      "Counter({0: 503, 1: 497})\n",
      "Epoch: 11\n",
      "Counter({0: 503, 1: 497})\n",
      "Epoch: 12\n",
      "Counter({0: 502, 1: 498})\n",
      "Epoch: 1\n",
      "Counter({0: 887, 1: 113})\n",
      "Epoch: 2\n",
      "Counter({0: 768, 1: 232})\n",
      "Epoch: 3\n",
      "Counter({0: 678, 1: 322})\n",
      "Epoch: 4\n",
      "Counter({0: 607, 1: 393})\n",
      "Epoch: 5\n",
      "Counter({0: 557, 1: 443})\n",
      "Epoch: 6\n",
      "Counter({0: 525, 1: 475})\n",
      "Epoch: 7\n",
      "Counter({0: 512, 1: 488})\n",
      "Epoch: 8\n",
      "Counter({0: 505, 1: 495})\n",
      "Epoch: 9\n",
      "Counter({0: 503, 1: 497})\n",
      "Epoch: 10\n",
      "Counter({0: 501, 1: 499})\n",
      "Epoch: 1\n",
      "Counter({0: 845, 1: 155})\n",
      "Epoch: 2\n",
      "Counter({0: 709, 1: 291})\n",
      "Epoch: 3\n",
      "Counter({0: 615, 1: 385})\n",
      "Epoch: 4\n",
      "Counter({0: 560, 1: 440})\n",
      "Epoch: 5\n",
      "Counter({0: 530, 1: 470})\n",
      "Epoch: 6\n",
      "Counter({0: 515, 1: 485})\n",
      "Epoch: 7\n",
      "Counter({0: 510, 1: 490})\n",
      "Epoch: 8\n",
      "Counter({0: 504, 1: 496})\n",
      "Epoch: 9\n",
      "Counter({0: 502, 1: 498})\n",
      "Epoch: 1\n",
      "Counter({0: 831, 1: 169})\n",
      "Epoch: 2\n",
      "Counter({0: 699, 1: 301})\n",
      "Epoch: 3\n",
      "Counter({0: 613, 1: 387})\n",
      "Epoch: 4\n",
      "Counter({0: 548, 1: 452})\n",
      "Epoch: 5\n",
      "Counter({0: 517, 1: 483})\n",
      "Epoch: 6\n",
      "Counter({0: 513, 1: 487})\n",
      "Epoch: 7\n",
      "Counter({0: 503, 1: 497})\n",
      "Epoch: 8\n",
      "Counter({1: 501, 0: 499})\n",
      "Epoch: 1\n",
      "Counter({0: 845, 1: 155})\n",
      "Epoch: 2\n",
      "Counter({0: 737, 1: 263})\n",
      "Epoch: 3\n",
      "Counter({0: 633, 1: 367})\n",
      "Epoch: 4\n",
      "Counter({0: 576, 1: 424})\n",
      "Epoch: 5\n",
      "Counter({0: 535, 1: 465})\n",
      "Epoch: 6\n",
      "Counter({0: 523, 1: 477})\n",
      "Epoch: 7\n",
      "Counter({0: 513, 1: 487})\n",
      "Epoch: 8\n",
      "Counter({0: 505, 1: 495})\n",
      "Epoch: 9\n",
      "Counter({0: 501, 1: 499})\n",
      "Epoch: 1\n",
      "Counter({0: 856, 1: 144})\n",
      "Epoch: 2\n",
      "Counter({0: 736, 1: 264})\n",
      "Epoch: 3\n",
      "Counter({0: 635, 1: 365})\n",
      "Epoch: 4\n",
      "Counter({0: 582, 1: 418})\n",
      "Epoch: 5\n",
      "Counter({0: 553, 1: 447})\n",
      "Epoch: 6\n",
      "Counter({0: 527, 1: 473})\n",
      "Epoch: 7\n",
      "Counter({0: 512, 1: 488})\n",
      "Epoch: 8\n",
      "Counter({0: 507, 1: 493})\n",
      "Epoch: 9\n",
      "Counter({0: 504, 1: 496})\n",
      "Epoch: 10\n",
      "Counter({0: 502, 1: 498})\n",
      "Epoch: 1\n",
      "Counter({0: 858, 1: 142})\n",
      "Epoch: 2\n",
      "Counter({0: 707, 1: 293})\n",
      "Epoch: 3\n",
      "Counter({0: 606, 1: 394})\n",
      "Epoch: 4\n",
      "Counter({0: 548, 1: 452})\n",
      "Epoch: 5\n",
      "Counter({0: 528, 1: 472})\n",
      "Epoch: 6\n",
      "Counter({0: 514, 1: 486})\n",
      "Epoch: 7\n",
      "Counter({1: 501, 0: 499})\n",
      "Epoch: 1\n",
      "Counter({0: 854, 1: 146})\n",
      "Epoch: 2\n",
      "Counter({0: 722, 1: 278})\n",
      "Epoch: 3\n",
      "Counter({0: 629, 1: 371})\n",
      "Epoch: 4\n",
      "Counter({0: 572, 1: 428})\n",
      "Epoch: 5\n",
      "Counter({0: 546, 1: 454})\n",
      "Epoch: 6\n",
      "Counter({0: 526, 1: 474})\n",
      "Epoch: 7\n",
      "Counter({0: 512, 1: 488})\n",
      "Epoch: 8\n",
      "Counter({0: 502, 1: 498})\n"
     ]
    }
   ],
   "source": [
    "old_score, new_score = [],[]\n",
    "for i in range(10):\n",
    "    a, b = perform_experiment(X, y, feature_names, LogisticRegression(), LogisticRegression())\n",
    "    old_score.append(a)\n",
    "    new_score.append(b)"
   ]
  },
  {
   "cell_type": "code",
   "execution_count": 22,
   "metadata": {
    "collapsed": false
   },
   "outputs": [
    {
     "data": {
      "image/png": "[encoded data removed]",
      "text/plain": [
       "<matplotlib.figure.Figure at 0x116682d50>"
      ]
     },
     "metadata": {},
     "output_type": "display_data"
    }
   ],
   "source": [
    "plt.plot(old_score, label='random')\n",
    "plt.plot(new_score, label='with equal classes',alpha=0.5)\n",
    "plt.title('BUPA dataset')\n",
    "plt.legend()\n",
    "plt.show()"
   ]
  },
  {
   "cell_type": "markdown",
   "metadata": {},
   "source": [
    "### Halloween Dataset (from Kaggle)"
   ]
  },
  {
   "cell_type": "code",
   "execution_count": 23,
   "metadata": {
    "collapsed": false
   },
   "outputs": [
    {
     "name": "stdout",
     "output_type": "stream",
     "text": [
      "(246, 6) (246,)\n"
     ]
    }
   ],
   "source": [
    "data = pd.read_csv('../../../Dataset/Halloween/train.csv')\n",
    "data = data[(data['type'] == 'Ghoul') | (data['type'] == 'Ghost')]\n",
    "data['type'] = data['type'].map({\"Ghoul\":0, \"Ghost\":1})\n",
    "mapping = {v:k for k,v in dict(enumerate(np.unique(data['color']))).iteritems()}\n",
    "data['color'] = data['color'].map(mapping)\n",
    "y = data.pop('type').values\n",
    "X = data.values\n",
    "feature_names = data.columns\n",
    "print X.shape, y.shape"
   ]
  },
  {
   "cell_type": "code",
   "execution_count": 24,
   "metadata": {
    "collapsed": false
   },
   "outputs": [
    {
     "name": "stdout",
     "output_type": "stream",
     "text": [
      "Characteristics of the Dataset: \n",
      "Mean:  76.0565010544\n",
      "Standard Deviation:  199.312178777\n"
     ]
    }
   ],
   "source": [
    "print 'Characteristics of the Dataset: '\n",
    "print 'Mean: ', np.mean(X)\n",
    "print 'Standard Deviation: ', np.std(X)"
   ]
  },
  {
   "cell_type": "code",
   "execution_count": 25,
   "metadata": {
    "collapsed": false
   },
   "outputs": [
    {
     "name": "stdout",
     "output_type": "stream",
     "text": [
      "0.951219512195\n"
     ]
    }
   ],
   "source": [
    "print 'Black Box Accuracy: '\n",
    "blackbox = LogisticRegression()\n",
    "blackbox.fit(X, y)\n",
    "print blackbox.score(X, y)"
   ]
  },
  {
   "cell_type": "code",
   "execution_count": 26,
   "metadata": {
    "collapsed": false,
    "scrolled": true
   },
   "outputs": [
    {
     "name": "stdout",
     "output_type": "stream",
     "text": [
      "Epoch: 1\n",
      "Counter({1: 531, 0: 469})\n",
      "Epoch: 2\n",
      "Counter({0: 500, 1: 500})\n",
      "Epoch: 1\n",
      "Counter({1: 535, 0: 465})\n",
      "Epoch: 2\n",
      "Counter({1: 509, 0: 491})\n",
      "Epoch: 3\n",
      "Counter({0: 503, 1: 497})\n",
      "Epoch: 4\n",
      "Counter({1: 501, 0: 499})\n",
      "Epoch: 1\n",
      "Counter({1: 519, 0: 481})\n",
      "Epoch: 2\n",
      "Counter({1: 503, 0: 497})\n",
      "Epoch: 3\n",
      "Counter({0: 501, 1: 499})\n",
      "Epoch: 1\n",
      "Counter({1: 540, 0: 460})\n",
      "Epoch: 2\n",
      "Counter({1: 513, 0: 487})\n",
      "Epoch: 3\n",
      "Counter({1: 501, 0: 499})\n",
      "Epoch: 1\n",
      "Counter({1: 535, 0: 465})\n",
      "Epoch: 2\n",
      "Counter({1: 503, 0: 497})\n",
      "Epoch: 3\n",
      "Counter({0: 501, 1: 499})\n",
      "Epoch: 1\n",
      "Counter({1: 548, 0: 452})\n",
      "Epoch: 2\n",
      "Counter({1: 507, 0: 493})\n",
      "Epoch: 3\n",
      "Counter({0: 501, 1: 499})\n",
      "Epoch: 1\n",
      "Counter({1: 532, 0: 468})\n",
      "Epoch: 2\n",
      "Counter({1: 510, 0: 490})\n",
      "Epoch: 3\n",
      "Counter({1: 501, 0: 499})\n",
      "Epoch: 1\n",
      "Counter({1: 518, 0: 482})\n",
      "Epoch: 2\n",
      "Counter({1: 509, 0: 491})\n",
      "Epoch: 3\n",
      "Counter({1: 502, 0: 498})\n",
      "Epoch: 1\n",
      "Counter({1: 523, 0: 477})\n",
      "Epoch: 2\n",
      "Counter({1: 504, 0: 496})\n",
      "Epoch: 3\n",
      "Counter({0: 500, 1: 500})\n",
      "Epoch: 1\n",
      "Counter({1: 531, 0: 469})\n",
      "Epoch: 2\n",
      "Counter({1: 508, 0: 492})\n",
      "Epoch: 3\n",
      "Counter({0: 502, 1: 498})\n"
     ]
    }
   ],
   "source": [
    "old_score, new_score = [],[]\n",
    "for i in range(10):\n",
    "    a, b = perform_experiment(X, y, feature_names, LogisticRegression(), LogisticRegression())\n",
    "    old_score.append(a)\n",
    "    new_score.append(b)"
   ]
  },
  {
   "cell_type": "code",
   "execution_count": 27,
   "metadata": {
    "collapsed": false
   },
   "outputs": [
    {
     "data": {
      "image/png": "[encoded data removed]",
      "text/plain": [
       "<matplotlib.figure.Figure at 0x116631cd0>"
      ]
     },
     "metadata": {},
     "output_type": "display_data"
    }
   ],
   "source": [
    "plt.plot(old_score, label='random')\n",
    "plt.plot(new_score, label='with equal classes',alpha=0.5)\n",
    "plt.title('Halloween dataset')\n",
    "plt.legend()\n",
    "plt.show()"
   ]
  },
  {
   "cell_type": "code",
   "execution_count": 28,
   "metadata": {
    "collapsed": false
   },
   "outputs": [
    {
     "name": "stdout",
     "output_type": "stream",
     "text": [
      "0.934959349593\n"
     ]
    }
   ],
   "source": [
    "X_random = generate_random(X, feature_names, data_size=1000)\n",
    "y_random = blackbox.predict(X_random)\n",
    "whitebox = LogisticRegression()\n",
    "whitebox.fit(X_random, y_random)\n",
    "print whitebox.score(X, y)"
   ]
  },
  {
   "cell_type": "code",
   "execution_count": null,
   "metadata": {
    "collapsed": true
   },
   "outputs": [],
   "source": []
  }
 ],
 "metadata": {
  "anaconda-cloud": {},
  "kernelspec": {
   "display_name": "Python [default]",
   "language": "python",
   "name": "python2"
  },
  "language_info": {
   "codemirror_mode": {
    "name": "ipython",
    "version": 2
   },
   "file_extension": ".py",
   "mimetype": "text/x-python",
   "name": "python",
   "nbconvert_exporter": "python",
   "pygments_lexer": "ipython2",
   "version": "2.7.12"
  }
 },
 "nbformat": 4,
 "nbformat_minor": 1
}
