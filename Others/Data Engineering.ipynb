{
 "cells": [
  {
   "cell_type": "code",
   "execution_count": 1,
   "metadata": {
    "collapsed": true
   },
   "outputs": [],
   "source": [
    "%matplotlib inline\n",
    "import matplotlib.pyplot as plt\n",
    "import pandas as pd\n",
    "import numpy as np\n",
    "import seaborn as sns"
   ]
  },
  {
   "cell_type": "code",
   "execution_count": 2,
   "metadata": {
    "collapsed": false
   },
   "outputs": [],
   "source": [
    "import copy\n",
    "from collections import Counter\n",
    "from sklearn import datasets\n",
    "from sklearn.linear_model import LogisticRegression"
   ]
  },
  {
   "cell_type": "markdown",
   "metadata": {},
   "source": [
    "### Methods for experiment"
   ]
  },
  {
   "cell_type": "code",
   "execution_count": 3,
   "metadata": {
    "collapsed": true
   },
   "outputs": [],
   "source": [
    "def generate_random(orig_data, feature_names, data_size):\n",
    "    '''\n",
    "    Input: Data, Feature Names, Size of Random Data\n",
    "    Output: Random Data\n",
    "    \n",
    "    Generates random dataset of size data_size\n",
    "    Random dataset is generated from normal\n",
    "    distribution with specified high and low values\n",
    "    '''\n",
    "    \n",
    "    df = {}\n",
    "    for i in range(len(feature_names)):\n",
    "        low = np.min(orig_data[:, i])\n",
    "        high = np.max(orig_data[:, i])\n",
    "        df[feature_names[i]] = np.random.uniform(low=low, high=high, size=data_size)\n",
    "    random_dataset = pd.DataFrame(data=df, columns=feature_names)\n",
    "    \n",
    "    return random_dataset"
   ]
  },
  {
   "cell_type": "code",
   "execution_count": 4,
   "metadata": {
    "collapsed": true
   },
   "outputs": [],
   "source": [
    "def generate_random_without_constraints(feature_names, data_size):\n",
    "    '''\n",
    "    Input: Data, Feature Names, Size of Random Data\n",
    "    Output: Random Data\n",
    "    \n",
    "    Generates random dataset of size data_size\n",
    "    Random dataset is generated from normal\n",
    "    distribution with specified high and low values\n",
    "    '''\n",
    "    \n",
    "    df = {}\n",
    "    for i in range(len(feature_names)):\n",
    "        df[feature_names[i]] = np.random.normal(size=data_size)\n",
    "    random_dataset = pd.DataFrame(data=df, columns=feature_names)\n",
    "    \n",
    "    return random_dataset"
   ]
  },
  {
   "cell_type": "code",
   "execution_count": 5,
   "metadata": {
    "collapsed": true
   },
   "outputs": [],
   "source": [
    "def objective_function(array, label1, label2):\n",
    "    return abs(1 - float(len(array[array == label1]))/len(array[array == label2]))"
   ]
  },
  {
   "cell_type": "code",
   "execution_count": 6,
   "metadata": {
    "collapsed": false
   },
   "outputs": [],
   "source": [
    "def create_summary(X, y, label0, label1, blackbox, epsilon=1e-2, verbose=False):\n",
    "    \n",
    "    n_features = X.shape[1]\n",
    "    i = 1\n",
    "    while objective_function(y, label0, label1) > epsilon:\n",
    "\n",
    "        first_label = X[y == label0]\n",
    "        second_label = X[y == label1]\n",
    "        if len(first_label) > len(second_label):\n",
    "            dist = second_label\n",
    "            not_dist = first_label\n",
    "        else:\n",
    "            dist = first_label\n",
    "            not_dist = second_label\n",
    "\n",
    "        size = dist.shape[0]\n",
    "        mean, std = np.mean(dist), np.std(dist)\n",
    "        shape = np.abs(first_label.shape[0] - second_label.shape[0])\n",
    "        rnd = np.random.normal(loc=mean, scale=std, size=[shape, n_features])\n",
    "        X = np.vstack((dist, not_dist[:size, :], rnd[:(X.shape[0] - 2*size), :]))\n",
    "\n",
    "        y = blackbox.predict(X)\n",
    "        if verbose:\n",
    "            print 'Epoch: {}\\n'.format(i),Counter(y)\n",
    "        i += 1\n",
    "    return X"
   ]
  },
  {
   "cell_type": "code",
   "execution_count": 7,
   "metadata": {
    "collapsed": false
   },
   "outputs": [],
   "source": [
    "def perform_experiment(X, y, feature_names, blackbox, whitebox, verbose=False):\n",
    "    \n",
    "    \" X and y corresponds to the training data and labels\"\n",
    "    \n",
    "    ## Generating random data without constraints\n",
    "    X_random = generate_random_without_constraints(feature_names, data_size=1000).values\n",
    "    \n",
    "    ## Fitting blackbox on the data and predicting labels for random data\n",
    "    blackbox = copy.deepcopy(blackbox)\n",
    "    blackbox.fit(X, y)\n",
    "    if verbose:\n",
    "        print 'Performance of black box on actual data', blackbox.score(X, y)\n",
    "    y_random = blackbox.predict(X_random)\n",
    "    if verbose:\n",
    "        print 'Initial configuration of random labels: ', Counter(y_random)\n",
    "    \n",
    "    ## Whitebox performance on random data\n",
    "    whitebox = copy.deepcopy(whitebox)\n",
    "    whitebox.fit(X_random, y_random)\n",
    "    old_score = whitebox.score(X, y)\n",
    "    if verbose:\n",
    "        print 'Performance of whitebox when trained using random data:', old_score\n",
    "    \n",
    "    ## Creating new data with equal proportion of both labels\n",
    "    new_data = create_summary(X_random, y_random, 0, 1, blackbox, verbose=True)\n",
    "    new_labels = blackbox.predict(new_data)\n",
    "    if verbose:\n",
    "        print 'Final configuration of random labels: ', Counter(new_labels)\n",
    "    \n",
    "    ## Whitebox performance using new data\n",
    "    whitebox = copy.deepcopy(whitebox)\n",
    "    whitebox.fit(new_data, new_labels)\n",
    "    new_score = whitebox.score(X, y)\n",
    "    if verbose:\n",
    "        print 'Performance of whitebox when trained using new data:', new_score\n",
    "    return old_score, new_score"
   ]
  },
  {
   "cell_type": "markdown",
   "metadata": {},
   "source": [
    "### Breast Cancer Dataset"
   ]
  },
  {
   "cell_type": "code",
   "execution_count": 8,
   "metadata": {
    "collapsed": false
   },
   "outputs": [
    {
     "name": "stdout",
     "output_type": "stream",
     "text": [
      "(569, 30) (569,)\n"
     ]
    }
   ],
   "source": [
    "first_dataset = datasets.load_breast_cancer()\n",
    "X = first_dataset.data\n",
    "y = first_dataset.target\n",
    "feature_names = ['feature{}'.format(i) for i in range(X.shape[1])]\n",
    "print X.shape, y.shape"
   ]
  },
  {
   "cell_type": "code",
   "execution_count": 9,
   "metadata": {
    "collapsed": false
   },
   "outputs": [
    {
     "name": "stdout",
     "output_type": "stream",
     "text": [
      "Characteristics of the Dataset: \n",
      "Mean:  61.8907123395\n",
      "Standard Deviation:  228.297405083\n"
     ]
    }
   ],
   "source": [
    "print 'Characteristics of the Dataset: '\n",
    "print 'Mean: ', np.mean(X)\n",
    "print 'Standard Deviation: ', np.std(X)"
   ]
  },
  {
   "cell_type": "code",
   "execution_count": 10,
   "metadata": {
    "collapsed": false
   },
   "outputs": [
    {
     "name": "stdout",
     "output_type": "stream",
     "text": [
      "Blackbox Accuracy: \n",
      "0.959578207381\n"
     ]
    }
   ],
   "source": [
    "print 'Blackbox Accuracy: '\n",
    "blackbox = LogisticRegression()\n",
    "blackbox.fit(X, y)\n",
    "print blackbox.score(X, y)"
   ]
  },
  {
   "cell_type": "code",
   "execution_count": 11,
   "metadata": {
    "collapsed": false,
    "scrolled": true
   },
   "outputs": [
    {
     "name": "stdout",
     "output_type": "stream",
     "text": [
      "Epoch: 1\n",
      "Counter({1: 505, 0: 495})\n",
      "Epoch: 2\n",
      "Counter({0: 501, 1: 499})\n",
      "Epoch: 1\n",
      "Counter({1: 514, 0: 486})\n",
      "Epoch: 2\n",
      "Counter({0: 500, 1: 500})\n",
      "Epoch: 1\n",
      "Counter({1: 514, 0: 486})\n",
      "Epoch: 2\n",
      "Counter({1: 501, 0: 499})\n",
      "Epoch: 1\n",
      "Counter({1: 512, 0: 488})\n",
      "Epoch: 2\n",
      "Counter({1: 503, 0: 497})\n",
      "Epoch: 3\n",
      "Counter({0: 500, 1: 500})\n",
      "Epoch: 1\n",
      "Counter({1: 510, 0: 490})\n",
      "Epoch: 2\n",
      "Counter({1: 503, 0: 497})\n",
      "Epoch: 3\n",
      "Counter({1: 501, 0: 499})\n",
      "Epoch: 1\n",
      "Counter({0: 501, 1: 499})\n",
      "Epoch: 1\n",
      "Counter({1: 510, 0: 490})\n",
      "Epoch: 2\n",
      "Counter({1: 501, 0: 499})\n",
      "Epoch: 1\n",
      "Counter({1: 504, 0: 496})\n",
      "Epoch: 2\n",
      "Counter({0: 500, 1: 500})\n",
      "Epoch: 1\n",
      "Counter({0: 501, 1: 499})\n",
      "Epoch: 1\n",
      "Counter({1: 501, 0: 499})\n"
     ]
    }
   ],
   "source": [
    "old_score, new_score = [],[]\n",
    "for i in range(10):\n",
    "    \n",
    "    a, b = perform_experiment(X, y, feature_names, LogisticRegression(), LogisticRegression())\n",
    "    old_score.append(a)\n",
    "    new_score.append(b)"
   ]
  },
  {
   "cell_type": "code",
   "execution_count": 12,
   "metadata": {
    "collapsed": false
   },
   "outputs": [
    {
     "data": {
      "image/png": "[encoded data removed]",
      "text/plain": [
       "<matplotlib.figure.Figure at 0x1160c6710>"
      ]
     },
     "metadata": {},
     "output_type": "display_data"
    }
   ],
   "source": [
    "plt.plot(old_score, label='random')\n",
    "plt.plot(new_score, label='with equal classes')\n",
    "plt.title('Breast Cancer Dataset')\n",
    "plt.legend()\n",
    "plt.show()"
   ]
  },
  {
   "cell_type": "code",
   "execution_count": 13,
   "metadata": {
    "collapsed": false
   },
   "outputs": [
    {
     "name": "stdout",
     "output_type": "stream",
     "text": [
      "Random Dataset Score:  [0.37258347978910367, 0.37258347978910367, 0.62741652021089633, 0.68189806678383125, 0.62741652021089633, 0.62917398945518455, 0.62917398945518455, 0.37258347978910367, 0.62917398945518455, 0.37258347978910367]\n",
      "0.531458699473\n"
     ]
    }
   ],
   "source": [
    "print 'Random Dataset Score: ', old_score\n",
    "print  np.mean(old_score)"
   ]
  },
  {
   "cell_type": "code",
   "execution_count": 14,
   "metadata": {
    "collapsed": false
   },
   "outputs": [
    {
     "name": "stdout",
     "output_type": "stream",
     "text": [
      "Equitable class random dataset score:  [0.38840070298769769, 0.38137082601054484, 0.62741652021089633, 0.91036906854130051, 0.63093145869947276, 0.65553602811950795, 0.63268892794376097, 0.37258347978910367, 0.62741652021089633, 0.37258347978910367]\n",
      "0.55992970123\n"
     ]
    }
   ],
   "source": [
    "print 'Equitable class random dataset score: ', new_score\n",
    "print np.mean(new_score)"
   ]
  },
  {
   "cell_type": "code",
   "execution_count": 15,
   "metadata": {
    "collapsed": false
   },
   "outputs": [
    {
     "data": {
      "text/plain": [
       "0.94903339191564151"
      ]
     },
     "execution_count": 15,
     "metadata": {},
     "output_type": "execute_result"
    }
   ],
   "source": [
    "X_random = generate_random(X, feature_names, data_size=1000)\n",
    "y_random = blackbox.predict(X_random)\n",
    "whitebox = LogisticRegression()\n",
    "whitebox.fit(X_random, y_random)\n",
    "whitebox.score(X, y)"
   ]
  },
  {
   "cell_type": "markdown",
   "metadata": {},
   "source": [
    "### Heart Dataset"
   ]
  },
  {
   "cell_type": "code",
   "execution_count": 47,
   "metadata": {
    "collapsed": false
   },
   "outputs": [
    {
     "name": "stdout",
     "output_type": "stream",
     "text": [
      "(462, 9) (462,)\n"
     ]
    }
   ],
   "source": [
    "second_dataset = pd.read_csv('../data/heart.csv')\n",
    "y = second_dataset.pop('chd').values\n",
    "second_dataset['famhist'] = second_dataset['famhist'].map({\"Absent\": 0, \"Present\": 1})\n",
    "feature_names = second_dataset.columns\n",
    "X = second_dataset.values\n",
    "print X.shape, y.shape"
   ]
  },
  {
   "cell_type": "code",
   "execution_count": 48,
   "metadata": {
    "collapsed": false
   },
   "outputs": [
    {
     "name": "stdout",
     "output_type": "stream",
     "text": [
      "Characteristics of the Dataset: \n",
      "Mean:  34.6148388648\n",
      "Standard Deviation:  42.2743469741\n"
     ]
    }
   ],
   "source": [
    "print 'Characteristics of the Dataset: '\n",
    "print 'Mean: ', np.mean(X)\n",
    "print 'Standard Deviation: ', np.std(X)"
   ]
  },
  {
   "cell_type": "code",
   "execution_count": 49,
   "metadata": {
    "collapsed": false
   },
   "outputs": [
    {
     "name": "stdout",
     "output_type": "stream",
     "text": [
      "Blackbox Accuracy: \n",
      "0.733766233766\n"
     ]
    }
   ],
   "source": [
    "print 'Blackbox Accuracy: '\n",
    "blackbox = LogisticRegression()\n",
    "blackbox.fit(X, y)\n",
    "print blackbox.score(X, y)"
   ]
  },
  {
   "cell_type": "code",
   "execution_count": 50,
   "metadata": {
    "collapsed": false,
    "scrolled": true
   },
   "outputs": [
    {
     "name": "stdout",
     "output_type": "stream",
     "text": [
      "Epoch: 1\n",
      "Counter({0: 954, 1: 46})\n",
      "Epoch: 2\n",
      "Counter({0: 852, 1: 148})\n",
      "Epoch: 3\n",
      "Counter({0: 731, 1: 269})\n",
      "Epoch: 4\n",
      "Counter({0: 650, 1: 350})\n",
      "Epoch: 5\n",
      "Counter({0: 582, 1: 418})\n",
      "Epoch: 6\n",
      "Counter({0: 541, 1: 459})\n",
      "Epoch: 7\n",
      "Counter({0: 524, 1: 476})\n",
      "Epoch: 8\n",
      "Counter({0: 513, 1: 487})\n",
      "Epoch: 9\n",
      "Counter({0: 505, 1: 495})\n",
      "Epoch: 10\n",
      "Counter({0: 503, 1: 497})\n",
      "Epoch: 11\n",
      "Counter({0: 502, 1: 498})\n",
      "Epoch: 1\n",
      "Counter({0: 959, 1: 41})\n",
      "Epoch: 2\n",
      "Counter({0: 851, 1: 149})\n",
      "Epoch: 3\n",
      "Counter({0: 733, 1: 267})\n",
      "Epoch: 4\n",
      "Counter({0: 629, 1: 371})\n",
      "Epoch: 5\n",
      "Counter({0: 565, 1: 435})\n",
      "Epoch: 6\n",
      "Counter({0: 532, 1: 468})\n",
      "Epoch: 7\n",
      "Counter({0: 517, 1: 483})\n",
      "Epoch: 8\n",
      "Counter({0: 511, 1: 489})\n",
      "Epoch: 9\n",
      "Counter({0: 505, 1: 495})\n",
      "Epoch: 10\n",
      "Counter({0: 501, 1: 499})\n",
      "Epoch: 1\n",
      "Counter({0: 959, 1: 41})\n",
      "Epoch: 2\n",
      "Counter({0: 847, 1: 153})\n",
      "Epoch: 3\n",
      "Counter({0: 736, 1: 264})\n",
      "Epoch: 4\n",
      "Counter({0: 640, 1: 360})\n",
      "Epoch: 5\n",
      "Counter({0: 582, 1: 418})\n",
      "Epoch: 6\n",
      "Counter({0: 547, 1: 453})\n",
      "Epoch: 7\n",
      "Counter({0: 520, 1: 480})\n",
      "Epoch: 8\n",
      "Counter({0: 509, 1: 491})\n",
      "Epoch: 9\n",
      "Counter({0: 507, 1: 493})\n",
      "Epoch: 10\n",
      "Counter({0: 502, 1: 498})\n",
      "Epoch: 1\n",
      "Counter({0: 957, 1: 43})\n",
      "Epoch: 2\n",
      "Counter({0: 862, 1: 138})\n",
      "Epoch: 3\n",
      "Counter({0: 750, 1: 250})\n",
      "Epoch: 4\n",
      "Counter({0: 658, 1: 342})\n",
      "Epoch: 5\n",
      "Counter({0: 580, 1: 420})\n",
      "Epoch: 6\n",
      "Counter({0: 548, 1: 452})\n",
      "Epoch: 7\n",
      "Counter({0: 532, 1: 468})\n",
      "Epoch: 8\n",
      "Counter({0: 519, 1: 481})\n",
      "Epoch: 9\n",
      "Counter({0: 510, 1: 490})\n",
      "Epoch: 10\n",
      "Counter({0: 504, 1: 496})\n",
      "Epoch: 11\n",
      "Counter({0: 502, 1: 498})\n",
      "Epoch: 1\n",
      "Counter({0: 963, 1: 37})\n",
      "Epoch: 2\n",
      "Counter({0: 873, 1: 127})\n",
      "Epoch: 3\n",
      "Counter({0: 797, 1: 203})\n",
      "Epoch: 4\n",
      "Counter({0: 691, 1: 309})\n",
      "Epoch: 5\n",
      "Counter({0: 611, 1: 389})\n",
      "Epoch: 6\n",
      "Counter({0: 557, 1: 443})\n",
      "Epoch: 7\n",
      "Counter({0: 539, 1: 461})\n",
      "Epoch: 8\n",
      "Counter({0: 522, 1: 478})\n",
      "Epoch: 9\n",
      "Counter({0: 517, 1: 483})\n",
      "Epoch: 10\n",
      "Counter({0: 513, 1: 487})\n",
      "Epoch: 11\n",
      "Counter({0: 504, 1: 496})\n",
      "Epoch: 12\n",
      "Counter({0: 501, 1: 499})\n",
      "Epoch: 1\n",
      "Counter({0: 956, 1: 44})\n",
      "Epoch: 2\n",
      "Counter({0: 857, 1: 143})\n",
      "Epoch: 3\n",
      "Counter({0: 754, 1: 246})\n",
      "Epoch: 4\n",
      "Counter({0: 670, 1: 330})\n",
      "Epoch: 5\n",
      "Counter({0: 602, 1: 398})\n",
      "Epoch: 6\n",
      "Counter({0: 553, 1: 447})\n",
      "Epoch: 7\n",
      "Counter({0: 529, 1: 471})\n",
      "Epoch: 8\n",
      "Counter({0: 517, 1: 483})\n",
      "Epoch: 9\n",
      "Counter({0: 510, 1: 490})\n",
      "Epoch: 10\n",
      "Counter({0: 504, 1: 496})\n",
      "Epoch: 11\n",
      "Counter({0: 503, 1: 497})\n",
      "Epoch: 12\n",
      "Counter({0: 501, 1: 499})\n",
      "Epoch: 1\n",
      "Counter({0: 946, 1: 54})\n",
      "Epoch: 2\n",
      "Counter({0: 832, 1: 168})\n",
      "Epoch: 3\n",
      "Counter({0: 703, 1: 297})\n",
      "Epoch: 4\n",
      "Counter({0: 603, 1: 397})\n",
      "Epoch: 5\n",
      "Counter({0: 560, 1: 440})\n",
      "Epoch: 6\n",
      "Counter({0: 528, 1: 472})\n",
      "Epoch: 7\n",
      "Counter({0: 516, 1: 484})\n",
      "Epoch: 8\n",
      "Counter({0: 510, 1: 490})\n",
      "Epoch: 9\n",
      "Counter({0: 505, 1: 495})\n",
      "Epoch: 10\n",
      "Counter({0: 501, 1: 499})\n",
      "Epoch: 1\n",
      "Counter({0: 918, 1: 82})\n",
      "Epoch: 2\n",
      "Counter({0: 788, 1: 212})\n",
      "Epoch: 3\n",
      "Counter({0: 673, 1: 327})\n",
      "Epoch: 4\n",
      "Counter({0: 585, 1: 415})\n",
      "Epoch: 5\n",
      "Counter({0: 537, 1: 463})\n",
      "Epoch: 6\n",
      "Counter({0: 524, 1: 476})\n",
      "Epoch: 7\n",
      "Counter({0: 515, 1: 485})\n",
      "Epoch: 8\n",
      "Counter({0: 507, 1: 493})\n",
      "Epoch: 9\n",
      "Counter({0: 502, 1: 498})\n",
      "Epoch: 1\n",
      "Counter({0: 940, 1: 60})\n",
      "Epoch: 2\n",
      "Counter({0: 841, 1: 159})\n",
      "Epoch: 3\n",
      "Counter({0: 740, 1: 260})\n",
      "Epoch: 4\n",
      "Counter({0: 654, 1: 346})\n",
      "Epoch: 5\n",
      "Counter({0: 589, 1: 411})\n",
      "Epoch: 6\n",
      "Counter({0: 544, 1: 456})\n",
      "Epoch: 7\n",
      "Counter({0: 524, 1: 476})\n",
      "Epoch: 8\n",
      "Counter({0: 513, 1: 487})\n",
      "Epoch: 9\n",
      "Counter({0: 504, 1: 496})\n",
      "Epoch: 10\n",
      "Counter({0: 503, 1: 497})\n",
      "Epoch: 11\n",
      "Counter({0: 502, 1: 498})\n",
      "Epoch: 1\n",
      "Counter({0: 959, 1: 41})\n",
      "Epoch: 2\n",
      "Counter({0: 848, 1: 152})\n",
      "Epoch: 3\n",
      "Counter({0: 746, 1: 254})\n",
      "Epoch: 4\n",
      "Counter({0: 654, 1: 346})\n",
      "Epoch: 5\n",
      "Counter({0: 585, 1: 415})\n",
      "Epoch: 6\n",
      "Counter({0: 542, 1: 458})\n",
      "Epoch: 7\n",
      "Counter({0: 524, 1: 476})\n",
      "Epoch: 8\n",
      "Counter({0: 504, 1: 496})\n",
      "Epoch: 9\n",
      "Counter({0: 502, 1: 498})\n"
     ]
    }
   ],
   "source": [
    "old_score, new_score = [],[]\n",
    "for i in range(10):\n",
    "    a, b = perform_experiment(X, y, feature_names, LogisticRegression(), LogisticRegression())\n",
    "    old_score.append(a)\n",
    "    new_score.append(b)"
   ]
  },
  {
   "cell_type": "code",
   "execution_count": 51,
   "metadata": {
    "collapsed": false
   },
   "outputs": [
    {
     "data": {
      "image/png": "[encoded data removed]",
      "text/plain": [
       "<matplotlib.figure.Figure at 0x11660e210>"
      ]
     },
     "metadata": {},
     "output_type": "display_data"
    }
   ],
   "source": [
    "plt.plot(old_score, label='random')\n",
    "plt.plot(new_score, label='with equal classes',alpha=0.5)\n",
    "plt.title('Heart Dataset with random and equitable class dataset')\n",
    "plt.xlabel('Iteration')\n",
    "plt.ylabel('Accuracy')\n",
    "plt.legend()\n",
    "plt.show()"
   ]
  },
  {
   "cell_type": "code",
   "execution_count": 52,
   "metadata": {
    "collapsed": false
   },
   "outputs": [
    {
     "name": "stdout",
     "output_type": "stream",
     "text": [
      "Random Dataset Score:  [0.354978354978355, 0.65367965367965364, 0.45021645021645024, 0.34632034632034631, 0.65367965367965364, 0.65367965367965364, 0.54329004329004327, 0.34632034632034631, 0.6558441558441559, 0.34415584415584416]\n",
      "0.500216450216\n"
     ]
    }
   ],
   "source": [
    "print 'Random Dataset Score: ', old_score\n",
    "print np.mean(old_score)"
   ]
  },
  {
   "cell_type": "code",
   "execution_count": 53,
   "metadata": {
    "collapsed": false
   },
   "outputs": [
    {
     "name": "stdout",
     "output_type": "stream",
     "text": [
      "Equitable class random dataset score:  [0.65367965367965364, 0.65367965367965364, 0.65367965367965364, 0.65367965367965364, 0.66017316017316019, 0.68181818181818177, 0.65367965367965364, 0.65367965367965364, 0.71212121212121215, 0.65367965367965364]\n",
      "0.662987012987\n"
     ]
    }
   ],
   "source": [
    "print 'Equitable class random dataset score: ', new_score\n",
    "print np.mean(new_score)"
   ]
  },
  {
   "cell_type": "code",
   "execution_count": 54,
   "metadata": {
    "collapsed": false
   },
   "outputs": [
    {
     "data": {
      "text/plain": [
       "0.72294372294372289"
      ]
     },
     "execution_count": 54,
     "metadata": {},
     "output_type": "execute_result"
    }
   ],
   "source": [
    "X_random = generate_random(X, feature_names, data_size=1000)\n",
    "y_random = blackbox.predict(X_random)\n",
    "whitebox = LogisticRegression()\n",
    "whitebox.fit(X_random, y_random)\n",
    "whitebox.score(X, y)"
   ]
  },
  {
   "cell_type": "markdown",
   "metadata": {
    "collapsed": true
   },
   "source": [
    "### BUPA Dataset\n",
    "http://www.cs.huji.ac.il/~shais/datasets/ClassificationDatasets.html"
   ]
  },
  {
   "cell_type": "code",
   "execution_count": 55,
   "metadata": {
    "collapsed": false
   },
   "outputs": [
    {
     "name": "stdout",
     "output_type": "stream",
     "text": [
      "(345, 7) (345,)\n"
     ]
    }
   ],
   "source": [
    "data = pd.read_csv('../data/bupa.data.txt', names=['feature{}'.format(i) for i in range(1,8)])\n",
    "labels = pd.read_csv('../data/bupa.ascii.txt', names=['labels'])\n",
    "labels['labels'] = labels['labels'].map({-1:0, 1:1})\n",
    "X = data.values\n",
    "y = labels['labels'].values\n",
    "feature_names = data.columns\n",
    "print X.shape, y.shape"
   ]
  },
  {
   "cell_type": "code",
   "execution_count": 56,
   "metadata": {
    "collapsed": false
   },
   "outputs": [
    {
     "name": "stdout",
     "output_type": "stream",
     "text": [
      "Characteristics of the Dataset: \n",
      "Mean:  36.9138716356\n",
      "Standard Deviation:  35.5925009275\n"
     ]
    }
   ],
   "source": [
    "print 'Characteristics of the Dataset: '\n",
    "print 'Mean: ', np.mean(X)\n",
    "print 'Standard Deviation: ', np.std(X)"
   ]
  },
  {
   "cell_type": "code",
   "execution_count": 57,
   "metadata": {
    "collapsed": false
   },
   "outputs": [
    {
     "name": "stdout",
     "output_type": "stream",
     "text": [
      "Blackbox Accuracy: \n",
      "0.585507246377\n"
     ]
    }
   ],
   "source": [
    "print 'Blackbox Accuracy: '\n",
    "blackbox = LogisticRegression()\n",
    "blackbox.fit(X, y)\n",
    "print blackbox.score(X, y)"
   ]
  },
  {
   "cell_type": "code",
   "execution_count": 58,
   "metadata": {
    "collapsed": false,
    "scrolled": true
   },
   "outputs": [
    {
     "name": "stdout",
     "output_type": "stream",
     "text": [
      "Epoch: 1\n",
      "Counter({0: 834, 1: 166})\n",
      "Epoch: 2\n",
      "Counter({0: 698, 1: 302})\n",
      "Epoch: 3\n",
      "Counter({0: 605, 1: 395})\n",
      "Epoch: 4\n",
      "Counter({0: 539, 1: 461})\n",
      "Epoch: 5\n",
      "Counter({0: 520, 1: 480})\n",
      "Epoch: 6\n",
      "Counter({0: 508, 1: 492})\n",
      "Epoch: 7\n",
      "Counter({0: 504, 1: 496})\n",
      "Epoch: 8\n",
      "Counter({0: 501, 1: 499})\n",
      "Epoch: 1\n",
      "Counter({0: 862, 1: 138})\n",
      "Epoch: 2\n",
      "Counter({0: 737, 1: 263})\n",
      "Epoch: 3\n",
      "Counter({0: 653, 1: 347})\n",
      "Epoch: 4\n",
      "Counter({0: 579, 1: 421})\n",
      "Epoch: 5\n",
      "Counter({0: 532, 1: 468})\n",
      "Epoch: 6\n",
      "Counter({0: 515, 1: 485})\n",
      "Epoch: 7\n",
      "Counter({0: 504, 1: 496})\n",
      "Epoch: 8\n",
      "Counter({0: 502, 1: 498})\n",
      "Epoch: 1\n",
      "Counter({0: 853, 1: 147})\n",
      "Epoch: 2\n",
      "Counter({0: 730, 1: 270})\n",
      "Epoch: 3\n",
      "Counter({0: 638, 1: 362})\n",
      "Epoch: 4\n",
      "Counter({0: 565, 1: 435})\n",
      "Epoch: 5\n",
      "Counter({0: 537, 1: 463})\n",
      "Epoch: 6\n",
      "Counter({0: 514, 1: 486})\n",
      "Epoch: 7\n",
      "Counter({0: 507, 1: 493})\n",
      "Epoch: 8\n",
      "Counter({0: 503, 1: 497})\n",
      "Epoch: 9\n",
      "Counter({0: 501, 1: 499})\n",
      "Epoch: 1\n",
      "Counter({0: 865, 1: 135})\n",
      "Epoch: 2\n",
      "Counter({0: 746, 1: 254})\n",
      "Epoch: 3\n",
      "Counter({0: 605, 1: 395})\n",
      "Epoch: 4\n",
      "Counter({0: 549, 1: 451})\n",
      "Epoch: 5\n",
      "Counter({0: 523, 1: 477})\n",
      "Epoch: 6\n",
      "Counter({0: 507, 1: 493})\n",
      "Epoch: 7\n",
      "Counter({0: 505, 1: 495})\n",
      "Epoch: 8\n",
      "Counter({0: 502, 1: 498})\n",
      "Epoch: 1\n",
      "Counter({0: 853, 1: 147})\n",
      "Epoch: 2\n",
      "Counter({0: 730, 1: 270})\n",
      "Epoch: 3\n",
      "Counter({0: 639, 1: 361})\n",
      "Epoch: 4\n",
      "Counter({0: 579, 1: 421})\n",
      "Epoch: 5\n",
      "Counter({0: 533, 1: 467})\n",
      "Epoch: 6\n",
      "Counter({0: 522, 1: 478})\n",
      "Epoch: 7\n",
      "Counter({0: 514, 1: 486})\n",
      "Epoch: 8\n",
      "Counter({0: 510, 1: 490})\n",
      "Epoch: 9\n",
      "Counter({0: 504, 1: 496})\n",
      "Epoch: 10\n",
      "Counter({0: 502, 1: 498})\n",
      "Epoch: 1\n",
      "Counter({0: 859, 1: 141})\n",
      "Epoch: 2\n",
      "Counter({0: 743, 1: 257})\n",
      "Epoch: 3\n",
      "Counter({0: 641, 1: 359})\n",
      "Epoch: 4\n",
      "Counter({0: 570, 1: 430})\n",
      "Epoch: 5\n",
      "Counter({0: 530, 1: 470})\n",
      "Epoch: 6\n",
      "Counter({0: 515, 1: 485})\n",
      "Epoch: 7\n",
      "Counter({0: 503, 1: 497})\n",
      "Epoch: 8\n",
      "Counter({1: 502, 0: 498})\n",
      "Epoch: 1\n",
      "Counter({0: 795, 1: 205})\n",
      "Epoch: 2\n",
      "Counter({0: 672, 1: 328})\n",
      "Epoch: 3\n",
      "Counter({0: 587, 1: 413})\n",
      "Epoch: 4\n",
      "Counter({0: 542, 1: 458})\n",
      "Epoch: 5\n",
      "Counter({0: 520, 1: 480})\n",
      "Epoch: 6\n",
      "Counter({0: 504, 1: 496})\n",
      "Epoch: 7\n",
      "Counter({0: 500, 1: 500})\n",
      "Epoch: 1\n",
      "Counter({0: 868, 1: 132})\n",
      "Epoch: 2\n",
      "Counter({0: 729, 1: 271})\n",
      "Epoch: 3\n",
      "Counter({0: 606, 1: 394})\n",
      "Epoch: 4\n",
      "Counter({0: 567, 1: 433})\n",
      "Epoch: 5\n",
      "Counter({0: 529, 1: 471})\n",
      "Epoch: 6\n",
      "Counter({0: 516, 1: 484})\n",
      "Epoch: 7\n",
      "Counter({0: 507, 1: 493})\n",
      "Epoch: 8\n",
      "Counter({0: 503, 1: 497})\n",
      "Epoch: 9\n",
      "Counter({0: 500, 1: 500})\n",
      "Epoch: 1\n",
      "Counter({0: 843, 1: 157})\n",
      "Epoch: 2\n",
      "Counter({0: 716, 1: 284})\n",
      "Epoch: 3\n",
      "Counter({0: 631, 1: 369})\n",
      "Epoch: 4\n",
      "Counter({0: 587, 1: 413})\n",
      "Epoch: 5\n",
      "Counter({0: 545, 1: 455})\n",
      "Epoch: 6\n",
      "Counter({0: 517, 1: 483})\n",
      "Epoch: 7\n",
      "Counter({0: 511, 1: 489})\n",
      "Epoch: 8\n",
      "Counter({0: 505, 1: 495})\n",
      "Epoch: 9\n",
      "Counter({0: 503, 1: 497})\n",
      "Epoch: 10\n",
      "Counter({0: 501, 1: 499})\n",
      "Epoch: 1\n",
      "Counter({0: 878, 1: 122})\n",
      "Epoch: 2\n",
      "Counter({0: 732, 1: 268})\n",
      "Epoch: 3\n",
      "Counter({0: 610, 1: 390})\n",
      "Epoch: 4\n",
      "Counter({0: 555, 1: 445})\n",
      "Epoch: 5\n",
      "Counter({0: 526, 1: 474})\n",
      "Epoch: 6\n",
      "Counter({0: 507, 1: 493})\n",
      "Epoch: 7\n",
      "Counter({0: 503, 1: 497})\n",
      "Epoch: 8\n",
      "Counter({0: 501, 1: 499})\n"
     ]
    }
   ],
   "source": [
    "old_score, new_score = [],[]\n",
    "for i in range(10):\n",
    "    a, b = perform_experiment(X, y, feature_names, LogisticRegression(), LogisticRegression())\n",
    "    old_score.append(a)\n",
    "    new_score.append(b)"
   ]
  },
  {
   "cell_type": "code",
   "execution_count": 59,
   "metadata": {
    "collapsed": false
   },
   "outputs": [
    {
     "data": {
      "image/png": "[encoded data removed]",
      "text/plain": [
       "<matplotlib.figure.Figure at 0x116745f10>"
      ]
     },
     "metadata": {},
     "output_type": "display_data"
    }
   ],
   "source": [
    "plt.plot(old_score, label='random')\n",
    "plt.plot(new_score, label='with equal classes',alpha=0.5)\n",
    "plt.title('BUPA dataset with random and equitable classes dataset')\n",
    "plt.xlabel('Iteration')\n",
    "plt.ylabel('Accuracy')\n",
    "plt.legend()\n",
    "plt.show()"
   ]
  },
  {
   "cell_type": "code",
   "execution_count": 60,
   "metadata": {
    "collapsed": false
   },
   "outputs": [
    {
     "name": "stdout",
     "output_type": "stream",
     "text": [
      "Random Dataset Score:  [0.42028985507246375, 0.46956521739130436, 0.61159420289855071, 0.52753623188405796, 0.58550724637681162, 0.58260869565217388, 0.42028985507246375, 0.57971014492753625, 0.57101449275362315, 0.42028985507246375]\n",
      "0.51884057971\n"
     ]
    }
   ],
   "source": [
    "print 'Random Dataset Score: ', old_score\n",
    "print np.mean(old_score)"
   ]
  },
  {
   "cell_type": "code",
   "execution_count": 61,
   "metadata": {
    "collapsed": false
   },
   "outputs": [
    {
     "name": "stdout",
     "output_type": "stream",
     "text": [
      "Equitable class random dataset score:  [0.57971014492753625, 0.58260869565217388, 0.58260869565217388, 0.57971014492753625, 0.58260869565217388, 0.57971014492753625, 0.58260869565217388, 0.57971014492753625, 0.57971014492753625, 0.57971014492753625]\n",
      "0.580869565217\n"
     ]
    }
   ],
   "source": [
    "print 'Equitable class random dataset score: ', new_score\n",
    "print np.mean(new_score)"
   ]
  },
  {
   "cell_type": "code",
   "execution_count": 62,
   "metadata": {
    "collapsed": false
   },
   "outputs": [
    {
     "data": {
      "text/plain": [
       "0.57391304347826089"
      ]
     },
     "execution_count": 62,
     "metadata": {},
     "output_type": "execute_result"
    }
   ],
   "source": [
    "X_random = generate_random(X, feature_names, data_size=1000)\n",
    "y_random = blackbox.predict(X_random)\n",
    "whitebox = LogisticRegression()\n",
    "whitebox.fit(X_random, y_random)\n",
    "whitebox.score(X, y)"
   ]
  },
  {
   "cell_type": "markdown",
   "metadata": {},
   "source": [
    "### Halloween Dataset (from Kaggle)"
   ]
  },
  {
   "cell_type": "code",
   "execution_count": 32,
   "metadata": {
    "collapsed": false
   },
   "outputs": [
    {
     "name": "stdout",
     "output_type": "stream",
     "text": [
      "(246, 6) (246,)\n"
     ]
    }
   ],
   "source": [
    "data = pd.read_csv('../../../Dataset/Halloween/train.csv')\n",
    "data = data[(data['type'] == 'Ghoul') | (data['type'] == 'Ghost')]\n",
    "data['type'] = data['type'].map({\"Ghoul\":0, \"Ghost\":1})\n",
    "mapping = {v:k for k,v in dict(enumerate(np.unique(data['color']))).iteritems()}\n",
    "data['color'] = data['color'].map(mapping)\n",
    "y = data.pop('type').values\n",
    "X = data.values\n",
    "feature_names = data.columns\n",
    "print X.shape, y.shape"
   ]
  },
  {
   "cell_type": "code",
   "execution_count": 33,
   "metadata": {
    "collapsed": false
   },
   "outputs": [
    {
     "name": "stdout",
     "output_type": "stream",
     "text": [
      "Characteristics of the Dataset: \n",
      "Mean:  76.0565010544\n",
      "Standard Deviation:  199.312178777\n"
     ]
    }
   ],
   "source": [
    "print 'Characteristics of the Dataset: '\n",
    "print 'Mean: ', np.mean(X)\n",
    "print 'Standard Deviation: ', np.std(X)"
   ]
  },
  {
   "cell_type": "code",
   "execution_count": 34,
   "metadata": {
    "collapsed": false
   },
   "outputs": [
    {
     "name": "stdout",
     "output_type": "stream",
     "text": [
      "Black Box Accuracy: \n",
      "0.951219512195\n"
     ]
    }
   ],
   "source": [
    "print 'Black Box Accuracy: '\n",
    "blackbox = LogisticRegression()\n",
    "blackbox.fit(X, y)\n",
    "print blackbox.score(X, y)"
   ]
  },
  {
   "cell_type": "code",
   "execution_count": 35,
   "metadata": {
    "collapsed": false,
    "scrolled": true
   },
   "outputs": [
    {
     "name": "stdout",
     "output_type": "stream",
     "text": [
      "Epoch: 1\n",
      "Counter({1: 525, 0: 475})\n",
      "Epoch: 2\n",
      "Counter({0: 500, 1: 500})\n",
      "Epoch: 1\n",
      "Counter({1: 524, 0: 476})\n",
      "Epoch: 2\n",
      "Counter({0: 501, 1: 499})\n",
      "Epoch: 1\n",
      "Counter({1: 532, 0: 468})\n",
      "Epoch: 2\n",
      "Counter({1: 511, 0: 489})\n",
      "Epoch: 3\n",
      "Counter({1: 502, 0: 498})\n",
      "Epoch: 1\n",
      "Counter({1: 529, 0: 471})\n",
      "Epoch: 2\n",
      "Counter({1: 511, 0: 489})\n",
      "Epoch: 3\n",
      "Counter({0: 501, 1: 499})\n",
      "Epoch: 1\n",
      "Counter({1: 514, 0: 486})\n",
      "Epoch: 2\n",
      "Counter({0: 501, 1: 499})\n",
      "Epoch: 1\n",
      "Counter({1: 526, 0: 474})\n",
      "Epoch: 2\n",
      "Counter({1: 501, 0: 499})\n",
      "Epoch: 1\n",
      "Counter({1: 539, 0: 461})\n",
      "Epoch: 2\n",
      "Counter({1: 505, 0: 495})\n",
      "Epoch: 3\n",
      "Counter({1: 502, 0: 498})\n",
      "Epoch: 1\n",
      "Counter({1: 525, 0: 475})\n",
      "Epoch: 2\n",
      "Counter({1: 505, 0: 495})\n",
      "Epoch: 3\n",
      "Counter({1: 503, 0: 497})\n",
      "Epoch: 4\n",
      "Counter({0: 500, 1: 500})\n",
      "Epoch: 1\n",
      "Counter({1: 513, 0: 487})\n",
      "Epoch: 2\n",
      "Counter({1: 501, 0: 499})\n",
      "Epoch: 1\n",
      "Counter({1: 520, 0: 480})\n",
      "Epoch: 2\n",
      "Counter({1: 502, 0: 498})\n"
     ]
    }
   ],
   "source": [
    "old_score, new_score = [],[]\n",
    "for i in range(10):\n",
    "    a, b = perform_experiment(X, y, feature_names, LogisticRegression(), LogisticRegression())\n",
    "    old_score.append(a)\n",
    "    new_score.append(b)"
   ]
  },
  {
   "cell_type": "code",
   "execution_count": 36,
   "metadata": {
    "collapsed": false
   },
   "outputs": [
    {
     "data": {
      "image/png": "[encoded data removed]",
      "text/plain": [
       "<matplotlib.figure.Figure at 0x1165f6dd0>"
      ]
     },
     "metadata": {},
     "output_type": "display_data"
    }
   ],
   "source": [
    "plt.plot(old_score, label='random')\n",
    "plt.plot(new_score, label='with equal classes',alpha=0.5)\n",
    "plt.title('Halloween dataset')\n",
    "plt.legend()\n",
    "plt.show()"
   ]
  },
  {
   "cell_type": "code",
   "execution_count": 37,
   "metadata": {
    "collapsed": false
   },
   "outputs": [
    {
     "name": "stdout",
     "output_type": "stream",
     "text": [
      "Random Dataset Score:  [0.50406504065040647, 0.53252032520325199, 0.52439024390243905, 0.53658536585365857, 0.61788617886178865, 0.53658536585365857, 0.52845528455284552, 0.53252032520325199, 0.95934959349593496, 0.53252032520325199]\n",
      "0.580487804878\n"
     ]
    }
   ],
   "source": [
    "print 'Random Dataset Score: ', old_score\n",
    "print np.mean(old_score)"
   ]
  },
  {
   "cell_type": "code",
   "execution_count": 38,
   "metadata": {
    "collapsed": false
   },
   "outputs": [
    {
     "name": "stdout",
     "output_type": "stream",
     "text": [
      "Equitable class random dataset score:  [0.53658536585365857, 0.53252032520325199, 0.53252032520325199, 0.53252032520325199, 0.58943089430894313, 0.53252032520325199, 0.52845528455284552, 0.53252032520325199, 0.53252032520325199, 0.51219512195121952]\n",
      "0.536178861789\n"
     ]
    }
   ],
   "source": [
    "print 'Equitable class random dataset score: ', new_score\n",
    "print np.mean(new_score)"
   ]
  },
  {
   "cell_type": "code",
   "execution_count": 39,
   "metadata": {
    "collapsed": false
   },
   "outputs": [
    {
     "data": {
      "text/plain": [
       "0.94308943089430897"
      ]
     },
     "execution_count": 39,
     "metadata": {},
     "output_type": "execute_result"
    }
   ],
   "source": [
    "X_random = generate_random(X, feature_names, data_size=1000)\n",
    "y_random = blackbox.predict(X_random)\n",
    "whitebox = LogisticRegression()\n",
    "whitebox.fit(X_random, y_random)\n",
    "whitebox.score(X, y)"
   ]
  },
  {
   "cell_type": "code",
   "execution_count": null,
   "metadata": {
    "collapsed": true
   },
   "outputs": [],
   "source": []
  }
 ],
 "metadata": {
  "anaconda-cloud": {},
  "kernelspec": {
   "display_name": "Python [default]",
   "language": "python",
   "name": "python2"
  },
  "language_info": {
   "codemirror_mode": {
    "name": "ipython",
    "version": 2
   },
   "file_extension": ".py",
   "mimetype": "text/x-python",
   "name": "python",
   "nbconvert_exporter": "python",
   "pygments_lexer": "ipython2",
   "version": "2.7.12"
  }
 },
 "nbformat": 4,
 "nbformat_minor": 1
}
