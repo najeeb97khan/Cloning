{
 "cells": [
  {
   "cell_type": "code",
   "execution_count": 1,
   "metadata": {
    "collapsed": true
   },
   "outputs": [],
   "source": [
    "%matplotlib inline\n",
    "import matplotlib.pyplot as plt\n",
    "import pandas as pd\n",
    "import numpy as np\n",
    "import seaborn as sns"
   ]
  },
  {
   "cell_type": "code",
   "execution_count": 2,
   "metadata": {
    "collapsed": false
   },
   "outputs": [],
   "source": [
    "import copy\n",
    "from collections import Counter\n",
    "from sklearn import datasets\n",
    "from sklearn.linear_model import LogisticRegression"
   ]
  },
  {
   "cell_type": "markdown",
   "metadata": {},
   "source": [
    "### Methods for experiment"
   ]
  },
  {
   "cell_type": "code",
   "execution_count": 3,
   "metadata": {
    "collapsed": true
   },
   "outputs": [],
   "source": [
    "def generate_random(orig_data, feature_names, data_size):\n",
    "    '''\n",
    "    Input: Data, Feature Names, Size of Random Data\n",
    "    Output: Random Data\n",
    "    \n",
    "    Generates random dataset of size data_size\n",
    "    Random dataset is generated from normal\n",
    "    distribution with specified high and low values\n",
    "    '''\n",
    "    \n",
    "    df = {}\n",
    "    for i in range(len(feature_names)):\n",
    "        low = np.min(orig_data[:, i])\n",
    "        high = np.max(orig_data[:, i])\n",
    "        df[feature_names[i]] = np.random.uniform(low=low, high=high, size=data_size)\n",
    "    random_dataset = pd.DataFrame(data=df, columns=feature_names)\n",
    "    \n",
    "    return random_dataset"
   ]
  },
  {
   "cell_type": "code",
   "execution_count": 4,
   "metadata": {
    "collapsed": true
   },
   "outputs": [],
   "source": [
    "def generate_random_without_constraints(feature_names, data_size):\n",
    "    '''\n",
    "    Input: Data, Feature Names, Size of Random Data\n",
    "    Output: Random Data\n",
    "    \n",
    "    Generates random dataset of size data_size\n",
    "    Random dataset is generated from normal\n",
    "    distribution with specified high and low values\n",
    "    '''\n",
    "    \n",
    "    df = {}\n",
    "    for i in range(len(feature_names)):\n",
    "        df[feature_names[i]] = np.random.normal(size=data_size)\n",
    "    random_dataset = pd.DataFrame(data=df, columns=feature_names)\n",
    "    \n",
    "    return random_dataset"
   ]
  },
  {
   "cell_type": "code",
   "execution_count": 5,
   "metadata": {
    "collapsed": true
   },
   "outputs": [],
   "source": [
    "def objective_function(array, label1, label2):\n",
    "    return abs(1 - float(len(array[array == label1]))/len(array[array == label2]))"
   ]
  },
  {
   "cell_type": "code",
   "execution_count": 6,
   "metadata": {
    "collapsed": false
   },
   "outputs": [],
   "source": [
    "def create_summary(X, y, label0, label1, blackbox, epsilon=1e-2, verbose=False):\n",
    "    \n",
    "    n_features = X.shape[1]\n",
    "    i = 1\n",
    "    while objective_function(y, label0, label1) > epsilon:\n",
    "\n",
    "        first_label = X[y == label0]\n",
    "        second_label = X[y == label1]\n",
    "        if len(first_label) > len(second_label):\n",
    "            dist = second_label\n",
    "            not_dist = first_label\n",
    "        else:\n",
    "            dist = first_label\n",
    "            not_dist = second_label\n",
    "\n",
    "        size = dist.shape[0]\n",
    "        mean, std = np.mean(dist), np.std(dist)\n",
    "        shape = np.abs(first_label.shape[0] - second_label.shape[0])\n",
    "        rnd = np.random.normal(loc=mean, scale=std, size=[shape, n_features])\n",
    "        X = np.vstack((dist, not_dist[:size, :], rnd[:(X.shape[0] - 2*size), :]))\n",
    "\n",
    "        y = blackbox.predict(X)\n",
    "        if verbose:\n",
    "            print 'Epoch: {}\\n'.format(i),Counter(y)\n",
    "        i += 1\n",
    "    return X"
   ]
  },
  {
   "cell_type": "code",
   "execution_count": 7,
   "metadata": {
    "collapsed": false
   },
   "outputs": [],
   "source": [
    "def perform_experiment(X, y, feature_names, blackbox, whitebox, verbose=False):\n",
    "    \n",
    "    \" X and y corresponds to the training data and labels\"\n",
    "    \n",
    "    ## Generating random data without constraints\n",
    "    X_random = generate_random_without_constraints(feature_names, data_size=1000).values\n",
    "    \n",
    "    ## Fitting blackbox on the data and predicting labels for random data\n",
    "    blackbox = copy.deepcopy(blackbox)\n",
    "    blackbox.fit(X, y)\n",
    "    if verbose:\n",
    "        print 'Performance of black box on actual data', blackbox.score(X, y)\n",
    "    y_random = blackbox.predict(X_random)\n",
    "    if verbose:\n",
    "        print 'Initial configuration of random labels: ', Counter(y_random)\n",
    "    \n",
    "    ## Whitebox performance on random data\n",
    "    whitebox = copy.deepcopy(whitebox)\n",
    "    whitebox.fit(X_random, y_random)\n",
    "    old_score = whitebox.score(X, y)\n",
    "    if verbose:\n",
    "        print 'Performance of whitebox when trained using random data:', old_score\n",
    "    \n",
    "    ## Creating new data with equal proportion of both labels\n",
    "    new_data = create_summary(X_random, y_random, 0, 1, blackbox, verbose=True)\n",
    "    new_labels = blackbox.predict(new_data)\n",
    "    if verbose:\n",
    "        print 'Final configuration of random labels: ', Counter(new_labels)\n",
    "    \n",
    "    ## Whitebox performance using new data\n",
    "    whitebox = copy.deepcopy(whitebox)\n",
    "    whitebox.fit(new_data, new_labels)\n",
    "    new_score = whitebox.score(X, y)\n",
    "    if verbose:\n",
    "        print 'Performance of whitebox when trained using new data:', new_score\n",
    "    return old_score, new_score"
   ]
  },
  {
   "cell_type": "markdown",
   "metadata": {},
   "source": [
    "### Breast Cancer Dataset"
   ]
  },
  {
   "cell_type": "code",
   "execution_count": 37,
   "metadata": {
    "collapsed": false
   },
   "outputs": [
    {
     "name": "stdout",
     "output_type": "stream",
     "text": [
      "(569, 30) (569,)\n"
     ]
    }
   ],
   "source": [
    "first_dataset = datasets.load_breast_cancer()\n",
    "X = first_dataset.data\n",
    "y = first_dataset.target\n",
    "feature_names = ['feature{}'.format(i) for i in range(X.shape[1])]\n",
    "print X.shape, y.shape"
   ]
  },
  {
   "cell_type": "code",
   "execution_count": 38,
   "metadata": {
    "collapsed": false
   },
   "outputs": [
    {
     "name": "stdout",
     "output_type": "stream",
     "text": [
      "Characteristics of the Dataset: \n",
      "Mean:  61.8907123395\n",
      "Standard Deviation:  228.297405083\n"
     ]
    }
   ],
   "source": [
    "print 'Characteristics of the Dataset: '\n",
    "print 'Mean: ', np.mean(X)\n",
    "print 'Standard Deviation: ', np.std(X)"
   ]
  },
  {
   "cell_type": "code",
   "execution_count": 39,
   "metadata": {
    "collapsed": false
   },
   "outputs": [
    {
     "name": "stdout",
     "output_type": "stream",
     "text": [
      "Blackbox Accuracy: \n",
      "0.959578207381\n"
     ]
    }
   ],
   "source": [
    "print 'Blackbox Accuracy: '\n",
    "blackbox = LogisticRegression()\n",
    "blackbox.fit(X, y)\n",
    "print blackbox.score(X, y)"
   ]
  },
  {
   "cell_type": "code",
   "execution_count": 40,
   "metadata": {
    "collapsed": false,
    "scrolled": true
   },
   "outputs": [
    {
     "name": "stdout",
     "output_type": "stream",
     "text": [
      "Epoch: 1\n",
      "Counter({1: 504, 0: 496})\n",
      "Epoch: 2\n",
      "Counter({1: 501, 0: 499})\n",
      "Epoch: 1\n",
      "Counter({1: 503, 0: 497})\n",
      "Epoch: 2\n",
      "Counter({0: 501, 1: 499})\n",
      "Epoch: 1\n",
      "Counter({0: 502, 1: 498})\n",
      "Epoch: 1\n",
      "Counter({0: 500, 1: 500})\n",
      "Epoch: 1\n",
      "Counter({1: 506, 0: 494})\n",
      "Epoch: 2\n",
      "Counter({1: 502, 0: 498})\n",
      "Epoch: 1\n",
      "Counter({1: 502, 0: 498})\n",
      "Epoch: 1\n",
      "Counter({0: 500, 1: 500})\n",
      "Epoch: 1\n",
      "Counter({1: 504, 0: 496})\n",
      "Epoch: 2\n",
      "Counter({0: 502, 1: 498})\n",
      "Epoch: 1\n",
      "Counter({1: 511, 0: 489})\n",
      "Epoch: 2\n",
      "Counter({0: 500, 1: 500})\n",
      "Epoch: 1\n",
      "Counter({1: 506, 0: 494})\n",
      "Epoch: 2\n",
      "Counter({0: 502, 1: 498})\n"
     ]
    }
   ],
   "source": [
    "old_score, new_score = [],[]\n",
    "for i in range(10):\n",
    "    \n",
    "    a, b = perform_experiment(X, y, feature_names, LogisticRegression(), LogisticRegression())\n",
    "    old_score.append(a)\n",
    "    new_score.append(b)"
   ]
  },
  {
   "cell_type": "code",
   "execution_count": 41,
   "metadata": {
    "collapsed": false
   },
   "outputs": [
    {
     "data": {
      "image/png": "[encoded data removed]",
      "text/plain": [
       "<matplotlib.figure.Figure at 0x115e19c90>"
      ]
     },
     "metadata": {},
     "output_type": "display_data"
    }
   ],
   "source": [
    "plt.plot(old_score, label='random')\n",
    "plt.plot(new_score, label='with equal classes')\n",
    "plt.title('Breast Cancer Dataset')\n",
    "plt.legend()\n",
    "plt.show()"
   ]
  },
  {
   "cell_type": "code",
   "execution_count": 42,
   "metadata": {
    "collapsed": false
   },
   "outputs": [
    {
     "name": "stdout",
     "output_type": "stream",
     "text": [
      "Random Dataset Score:  [0.71704745166959583, 0.62741652021089633, 0.62917398945518455, 0.73110720562390163, 0.37785588752196836, 0.63093145869947276, 0.45166959578207383, 0.37258347978910367, 0.37258347978910367, 0.37258347978910367]\n",
      "0.528295254833\n"
     ]
    }
   ],
   "source": [
    "print 'Random Dataset Score: ', old_score\n",
    "print  np.mean(old_score)"
   ]
  },
  {
   "cell_type": "code",
   "execution_count": 14,
   "metadata": {
    "collapsed": false
   },
   "outputs": [
    {
     "name": "stdout",
     "output_type": "stream",
     "text": [
      "Equitable class random dataset score:  [0.63620386643233739, 0.37785588752196836, 0.83479789103690683, 0.62741652021089633, 0.43585237258347981, 0.62741652021089633, 0.37434094903339193, 0.47275922671353249, 0.65905096660808438, 0.62741652021089633]\n"
     ]
    }
   ],
   "source": [
    "print 'Equitable class random dataset score: ', new_score"
   ]
  },
  {
   "cell_type": "markdown",
   "metadata": {},
   "source": [
    "### Heart Dataset"
   ]
  },
  {
   "cell_type": "code",
   "execution_count": 48,
   "metadata": {
    "collapsed": false
   },
   "outputs": [
    {
     "name": "stdout",
     "output_type": "stream",
     "text": [
      "(462, 9) (462,)\n"
     ]
    }
   ],
   "source": [
    "second_dataset = pd.read_csv('../data/heart.csv')\n",
    "y = second_dataset.pop('chd').values\n",
    "second_dataset['famhist'] = second_dataset['famhist'].map({\"Absent\": 0, \"Present\": 1})\n",
    "feature_names = second_dataset.columns\n",
    "X = second_dataset.values\n",
    "print X.shape, y.shape"
   ]
  },
  {
   "cell_type": "code",
   "execution_count": 49,
   "metadata": {
    "collapsed": false
   },
   "outputs": [
    {
     "name": "stdout",
     "output_type": "stream",
     "text": [
      "Characteristics of the Dataset: \n",
      "Mean:  34.6148388648\n",
      "Standard Deviation:  42.2743469741\n"
     ]
    }
   ],
   "source": [
    "print 'Characteristics of the Dataset: '\n",
    "print 'Mean: ', np.mean(X)\n",
    "print 'Standard Deviation: ', np.std(X)"
   ]
  },
  {
   "cell_type": "code",
   "execution_count": 50,
   "metadata": {
    "collapsed": false
   },
   "outputs": [
    {
     "name": "stdout",
     "output_type": "stream",
     "text": [
      "Blackbox Accuracy: \n",
      "0.733766233766\n"
     ]
    }
   ],
   "source": [
    "print 'Blackbox Accuracy: '\n",
    "blackbox = LogisticRegression()\n",
    "blackbox.fit(X, y)\n",
    "print blackbox.score(X, y)"
   ]
  },
  {
   "cell_type": "code",
   "execution_count": 51,
   "metadata": {
    "collapsed": false,
    "scrolled": true
   },
   "outputs": [
    {
     "name": "stdout",
     "output_type": "stream",
     "text": [
      "Epoch: 1\n",
      "Counter({0: 961, 1: 39})\n",
      "Epoch: 2\n",
      "Counter({0: 863, 1: 137})\n",
      "Epoch: 3\n",
      "Counter({0: 759, 1: 241})\n",
      "Epoch: 4\n",
      "Counter({0: 667, 1: 333})\n",
      "Epoch: 5\n",
      "Counter({0: 590, 1: 410})\n",
      "Epoch: 6\n",
      "Counter({0: 543, 1: 457})\n",
      "Epoch: 7\n",
      "Counter({0: 516, 1: 484})\n",
      "Epoch: 8\n",
      "Counter({0: 510, 1: 490})\n",
      "Epoch: 9\n",
      "Counter({0: 506, 1: 494})\n",
      "Epoch: 10\n",
      "Counter({0: 503, 1: 497})\n",
      "Epoch: 11\n",
      "Counter({0: 502, 1: 498})\n",
      "Epoch: 1\n",
      "Counter({0: 909, 1: 91})\n",
      "Epoch: 2\n",
      "Counter({0: 808, 1: 192})\n",
      "Epoch: 3\n",
      "Counter({0: 696, 1: 304})\n",
      "Epoch: 4\n",
      "Counter({0: 624, 1: 376})\n",
      "Epoch: 5\n",
      "Counter({0: 562, 1: 438})\n",
      "Epoch: 6\n",
      "Counter({0: 536, 1: 464})\n",
      "Epoch: 7\n",
      "Counter({0: 523, 1: 477})\n",
      "Epoch: 8\n",
      "Counter({0: 513, 1: 487})\n",
      "Epoch: 9\n",
      "Counter({0: 507, 1: 493})\n",
      "Epoch: 10\n",
      "Counter({0: 505, 1: 495})\n",
      "Epoch: 11\n",
      "Counter({0: 504, 1: 496})\n",
      "Epoch: 12\n",
      "Counter({0: 503, 1: 497})\n",
      "Epoch: 13\n",
      "Counter({0: 501, 1: 499})\n",
      "Epoch: 1\n",
      "Counter({0: 944, 1: 56})\n",
      "Epoch: 2\n",
      "Counter({0: 809, 1: 191})\n",
      "Epoch: 3\n",
      "Counter({0: 675, 1: 325})\n",
      "Epoch: 4\n",
      "Counter({0: 580, 1: 420})\n",
      "Epoch: 5\n",
      "Counter({0: 542, 1: 458})\n",
      "Epoch: 6\n",
      "Counter({0: 516, 1: 484})\n",
      "Epoch: 7\n",
      "Counter({0: 510, 1: 490})\n",
      "Epoch: 8\n",
      "Counter({0: 503, 1: 497})\n",
      "Epoch: 9\n",
      "Counter({0: 502, 1: 498})\n",
      "Epoch: 1\n",
      "Counter({0: 942, 1: 58})\n",
      "Epoch: 2\n",
      "Counter({0: 856, 1: 144})\n",
      "Epoch: 3\n",
      "Counter({0: 731, 1: 269})\n",
      "Epoch: 4\n",
      "Counter({0: 622, 1: 378})\n",
      "Epoch: 5\n",
      "Counter({0: 571, 1: 429})\n",
      "Epoch: 6\n",
      "Counter({0: 538, 1: 462})\n",
      "Epoch: 7\n",
      "Counter({0: 509, 1: 491})\n",
      "Epoch: 8\n",
      "Counter({0: 505, 1: 495})\n",
      "Epoch: 9\n",
      "Counter({0: 504, 1: 496})\n",
      "Epoch: 10\n",
      "Counter({0: 502, 1: 498})\n",
      "Epoch: 1\n",
      "Counter({0: 942, 1: 58})\n",
      "Epoch: 2\n",
      "Counter({0: 819, 1: 181})\n",
      "Epoch: 3\n",
      "Counter({0: 686, 1: 314})\n",
      "Epoch: 4\n",
      "Counter({0: 595, 1: 405})\n",
      "Epoch: 5\n",
      "Counter({0: 552, 1: 448})\n",
      "Epoch: 6\n",
      "Counter({0: 535, 1: 465})\n",
      "Epoch: 7\n",
      "Counter({0: 522, 1: 478})\n",
      "Epoch: 8\n",
      "Counter({0: 512, 1: 488})\n",
      "Epoch: 9\n",
      "Counter({0: 507, 1: 493})\n",
      "Epoch: 10\n",
      "Counter({0: 501, 1: 499})\n",
      "Epoch: 1\n",
      "Counter({0: 950, 1: 50})\n",
      "Epoch: 2\n",
      "Counter({0: 874, 1: 126})\n",
      "Epoch: 3\n",
      "Counter({0: 750, 1: 250})\n",
      "Epoch: 4\n",
      "Counter({0: 654, 1: 346})\n",
      "Epoch: 5\n",
      "Counter({0: 579, 1: 421})\n",
      "Epoch: 6\n",
      "Counter({0: 548, 1: 452})\n",
      "Epoch: 7\n",
      "Counter({0: 525, 1: 475})\n",
      "Epoch: 8\n",
      "Counter({0: 513, 1: 487})\n",
      "Epoch: 9\n",
      "Counter({0: 507, 1: 493})\n",
      "Epoch: 10\n",
      "Counter({0: 502, 1: 498})\n",
      "Epoch: 1\n",
      "Counter({0: 954, 1: 46})\n",
      "Epoch: 2\n",
      "Counter({0: 863, 1: 137})\n",
      "Epoch: 3\n",
      "Counter({0: 750, 1: 250})\n",
      "Epoch: 4\n",
      "Counter({0: 637, 1: 363})\n",
      "Epoch: 5\n",
      "Counter({0: 588, 1: 412})\n",
      "Epoch: 6\n",
      "Counter({0: 543, 1: 457})\n",
      "Epoch: 7\n",
      "Counter({0: 526, 1: 474})\n",
      "Epoch: 8\n",
      "Counter({0: 517, 1: 483})\n",
      "Epoch: 9\n",
      "Counter({0: 509, 1: 491})\n",
      "Epoch: 10\n",
      "Counter({0: 504, 1: 496})\n",
      "Epoch: 11\n",
      "Counter({0: 502, 1: 498})\n",
      "Epoch: 1\n",
      "Counter({0: 965, 1: 35})\n",
      "Epoch: 2\n",
      "Counter({0: 875, 1: 125})\n",
      "Epoch: 3\n",
      "Counter({0: 760, 1: 240})\n",
      "Epoch: 4\n",
      "Counter({0: 672, 1: 328})\n",
      "Epoch: 5\n",
      "Counter({0: 575, 1: 425})\n",
      "Epoch: 6\n",
      "Counter({0: 544, 1: 456})\n",
      "Epoch: 7\n",
      "Counter({0: 527, 1: 473})\n",
      "Epoch: 8\n",
      "Counter({0: 519, 1: 481})\n",
      "Epoch: 9\n",
      "Counter({0: 512, 1: 488})\n",
      "Epoch: 10\n",
      "Counter({0: 506, 1: 494})\n",
      "Epoch: 11\n",
      "Counter({0: 504, 1: 496})\n",
      "Epoch: 12\n",
      "Counter({0: 501, 1: 499})\n"
     ]
    },
    {
     "ename": "ValueError",
     "evalue": "This solver needs samples of at least 2 classes in the data, but the data contains only one class: 0",
     "output_type": "error",
     "traceback": [
      "\u001b[0;31m---------------------------------------------------------------------------\u001b[0m",
      "\u001b[0;31mValueError\u001b[0m                                Traceback (most recent call last)",
      "\u001b[0;32m<ipython-input-51-ec9c863aad4d>\u001b[0m in \u001b[0;36m<module>\u001b[0;34m()\u001b[0m\n\u001b[1;32m      1\u001b[0m \u001b[0mold_score\u001b[0m\u001b[0;34m,\u001b[0m \u001b[0mnew_score\u001b[0m \u001b[0;34m=\u001b[0m \u001b[0;34m[\u001b[0m\u001b[0;34m]\u001b[0m\u001b[0;34m,\u001b[0m\u001b[0;34m[\u001b[0m\u001b[0;34m]\u001b[0m\u001b[0;34m\u001b[0m\u001b[0m\n\u001b[1;32m      2\u001b[0m \u001b[0;32mfor\u001b[0m \u001b[0mi\u001b[0m \u001b[0;32min\u001b[0m \u001b[0mrange\u001b[0m\u001b[0;34m(\u001b[0m\u001b[0;36m10\u001b[0m\u001b[0;34m)\u001b[0m\u001b[0;34m:\u001b[0m\u001b[0;34m\u001b[0m\u001b[0m\n\u001b[0;32m----> 3\u001b[0;31m     \u001b[0ma\u001b[0m\u001b[0;34m,\u001b[0m \u001b[0mb\u001b[0m \u001b[0;34m=\u001b[0m \u001b[0mperform_experiment\u001b[0m\u001b[0;34m(\u001b[0m\u001b[0mX\u001b[0m\u001b[0;34m,\u001b[0m \u001b[0my\u001b[0m\u001b[0;34m,\u001b[0m \u001b[0mfeature_names\u001b[0m\u001b[0;34m,\u001b[0m \u001b[0mLogisticRegression\u001b[0m\u001b[0;34m(\u001b[0m\u001b[0;34m)\u001b[0m\u001b[0;34m,\u001b[0m \u001b[0mLogisticRegression\u001b[0m\u001b[0;34m(\u001b[0m\u001b[0;34m)\u001b[0m\u001b[0;34m)\u001b[0m\u001b[0;34m\u001b[0m\u001b[0m\n\u001b[0m\u001b[1;32m      4\u001b[0m     \u001b[0mold_score\u001b[0m\u001b[0;34m.\u001b[0m\u001b[0mappend\u001b[0m\u001b[0;34m(\u001b[0m\u001b[0ma\u001b[0m\u001b[0;34m)\u001b[0m\u001b[0;34m\u001b[0m\u001b[0m\n\u001b[1;32m      5\u001b[0m     \u001b[0mnew_score\u001b[0m\u001b[0;34m.\u001b[0m\u001b[0mappend\u001b[0m\u001b[0;34m(\u001b[0m\u001b[0mb\u001b[0m\u001b[0;34m)\u001b[0m\u001b[0;34m\u001b[0m\u001b[0m\n",
      "\u001b[0;32m<ipython-input-7-5e2a7c2be5f1>\u001b[0m in \u001b[0;36mperform_experiment\u001b[0;34m(X, y, feature_names, blackbox, whitebox, verbose)\u001b[0m\n\u001b[1;32m     17\u001b[0m     \u001b[0;31m## Whitebox performance on random data\u001b[0m\u001b[0;34m\u001b[0m\u001b[0;34m\u001b[0m\u001b[0m\n\u001b[1;32m     18\u001b[0m     \u001b[0mwhitebox\u001b[0m \u001b[0;34m=\u001b[0m \u001b[0mcopy\u001b[0m\u001b[0;34m.\u001b[0m\u001b[0mdeepcopy\u001b[0m\u001b[0;34m(\u001b[0m\u001b[0mwhitebox\u001b[0m\u001b[0;34m)\u001b[0m\u001b[0;34m\u001b[0m\u001b[0m\n\u001b[0;32m---> 19\u001b[0;31m     \u001b[0mwhitebox\u001b[0m\u001b[0;34m.\u001b[0m\u001b[0mfit\u001b[0m\u001b[0;34m(\u001b[0m\u001b[0mX_random\u001b[0m\u001b[0;34m,\u001b[0m \u001b[0my_random\u001b[0m\u001b[0;34m)\u001b[0m\u001b[0;34m\u001b[0m\u001b[0m\n\u001b[0m\u001b[1;32m     20\u001b[0m     \u001b[0mold_score\u001b[0m \u001b[0;34m=\u001b[0m \u001b[0mwhitebox\u001b[0m\u001b[0;34m.\u001b[0m\u001b[0mscore\u001b[0m\u001b[0;34m(\u001b[0m\u001b[0mX\u001b[0m\u001b[0;34m,\u001b[0m \u001b[0my\u001b[0m\u001b[0;34m)\u001b[0m\u001b[0;34m\u001b[0m\u001b[0m\n\u001b[1;32m     21\u001b[0m     \u001b[0;32mif\u001b[0m \u001b[0mverbose\u001b[0m\u001b[0;34m:\u001b[0m\u001b[0;34m\u001b[0m\u001b[0m\n",
      "\u001b[0;32m/Users/najeebkhan/anaconda/lib/python2.7/site-packages/sklearn/linear_model/logistic.pyc\u001b[0m in \u001b[0;36mfit\u001b[0;34m(self, X, y, sample_weight)\u001b[0m\n\u001b[1;32m   1184\u001b[0m                 \u001b[0mself\u001b[0m\u001b[0;34m.\u001b[0m\u001b[0mclass_weight\u001b[0m\u001b[0;34m,\u001b[0m \u001b[0mself\u001b[0m\u001b[0;34m.\u001b[0m\u001b[0mpenalty\u001b[0m\u001b[0;34m,\u001b[0m \u001b[0mself\u001b[0m\u001b[0;34m.\u001b[0m\u001b[0mdual\u001b[0m\u001b[0;34m,\u001b[0m \u001b[0mself\u001b[0m\u001b[0;34m.\u001b[0m\u001b[0mverbose\u001b[0m\u001b[0;34m,\u001b[0m\u001b[0;34m\u001b[0m\u001b[0m\n\u001b[1;32m   1185\u001b[0m                 \u001b[0mself\u001b[0m\u001b[0;34m.\u001b[0m\u001b[0mmax_iter\u001b[0m\u001b[0;34m,\u001b[0m \u001b[0mself\u001b[0m\u001b[0;34m.\u001b[0m\u001b[0mtol\u001b[0m\u001b[0;34m,\u001b[0m \u001b[0mself\u001b[0m\u001b[0;34m.\u001b[0m\u001b[0mrandom_state\u001b[0m\u001b[0;34m,\u001b[0m\u001b[0;34m\u001b[0m\u001b[0m\n\u001b[0;32m-> 1186\u001b[0;31m                 sample_weight=sample_weight)\n\u001b[0m\u001b[1;32m   1187\u001b[0m             \u001b[0mself\u001b[0m\u001b[0;34m.\u001b[0m\u001b[0mn_iter_\u001b[0m \u001b[0;34m=\u001b[0m \u001b[0mnp\u001b[0m\u001b[0;34m.\u001b[0m\u001b[0marray\u001b[0m\u001b[0;34m(\u001b[0m\u001b[0;34m[\u001b[0m\u001b[0mn_iter_\u001b[0m\u001b[0;34m]\u001b[0m\u001b[0;34m)\u001b[0m\u001b[0;34m\u001b[0m\u001b[0m\n\u001b[1;32m   1188\u001b[0m             \u001b[0;32mreturn\u001b[0m \u001b[0mself\u001b[0m\u001b[0;34m\u001b[0m\u001b[0m\n",
      "\u001b[0;32m/Users/najeebkhan/anaconda/lib/python2.7/site-packages/sklearn/svm/base.pyc\u001b[0m in \u001b[0;36m_fit_liblinear\u001b[0;34m(X, y, C, fit_intercept, intercept_scaling, class_weight, penalty, dual, verbose, max_iter, tol, random_state, multi_class, loss, epsilon, sample_weight)\u001b[0m\n\u001b[1;32m    873\u001b[0m             raise ValueError(\"This solver needs samples of at least 2 classes\"\n\u001b[1;32m    874\u001b[0m                              \u001b[0;34m\" in the data, but the data contains only one\"\u001b[0m\u001b[0;34m\u001b[0m\u001b[0m\n\u001b[0;32m--> 875\u001b[0;31m                              \" class: %r\" % classes_[0])\n\u001b[0m\u001b[1;32m    876\u001b[0m \u001b[0;34m\u001b[0m\u001b[0m\n\u001b[1;32m    877\u001b[0m         \u001b[0mclass_weight_\u001b[0m \u001b[0;34m=\u001b[0m \u001b[0mcompute_class_weight\u001b[0m\u001b[0;34m(\u001b[0m\u001b[0mclass_weight\u001b[0m\u001b[0;34m,\u001b[0m \u001b[0mclasses_\u001b[0m\u001b[0;34m,\u001b[0m \u001b[0my\u001b[0m\u001b[0;34m)\u001b[0m\u001b[0;34m\u001b[0m\u001b[0m\n",
      "\u001b[0;31mValueError\u001b[0m: This solver needs samples of at least 2 classes in the data, but the data contains only one class: 0"
     ]
    }
   ],
   "source": [
    "old_score, new_score = [],[]\n",
    "for i in range(10):\n",
    "    a, b = perform_experiment(X, y, feature_names, LogisticRegression(), LogisticRegression())\n",
    "    old_score.append(a)\n",
    "    new_score.append(b)"
   ]
  },
  {
   "cell_type": "code",
   "execution_count": 52,
   "metadata": {
    "collapsed": false
   },
   "outputs": [
    {
     "data": {
      "image/png": "[encoded data removed]",
      "text/plain": [
       "<matplotlib.figure.Figure at 0x116edefd0>"
      ]
     },
     "metadata": {},
     "output_type": "display_data"
    }
   ],
   "source": [
    "plt.plot(old_score, label='random')\n",
    "plt.plot(new_score, label='with equal classes',alpha=0.5)\n",
    "plt.title('Heart Dataset')\n",
    "plt.legend()\n",
    "plt.show()"
   ]
  },
  {
   "cell_type": "code",
   "execution_count": 53,
   "metadata": {
    "collapsed": false
   },
   "outputs": [
    {
     "name": "stdout",
     "output_type": "stream",
     "text": [
      "Random Dataset Score:  [0.65367965367965364, 0.34632034632034631, 0.34632034632034631, 0.34632034632034631, 0.65367965367965364, 0.65367965367965364, 0.65367965367965364, 0.65367965367965364]\n",
      "0.53841991342\n"
     ]
    }
   ],
   "source": [
    "print 'Random Dataset Score: ', old_score\n",
    "print np.mean(old_score)"
   ]
  },
  {
   "cell_type": "code",
   "execution_count": null,
   "metadata": {
    "collapsed": false
   },
   "outputs": [],
   "source": [
    "print 'Equitable class random dataset score: ', new_score"
   ]
  },
  {
   "cell_type": "markdown",
   "metadata": {
    "collapsed": true
   },
   "source": [
    "### BUPA Dataset\n",
    "http://www.cs.huji.ac.il/~shais/datasets/ClassificationDatasets.html"
   ]
  },
  {
   "cell_type": "code",
   "execution_count": 54,
   "metadata": {
    "collapsed": false
   },
   "outputs": [
    {
     "name": "stdout",
     "output_type": "stream",
     "text": [
      "(345, 7) (345,)\n"
     ]
    }
   ],
   "source": [
    "data = pd.read_csv('../data/bupa.data.txt', names=['feature{}'.format(i) for i in range(1,8)])\n",
    "labels = pd.read_csv('../data/bupa.ascii.txt', names=['labels'])\n",
    "labels['labels'] = labels['labels'].map({-1:0, 1:1})\n",
    "X = data.values\n",
    "y = labels['labels'].values\n",
    "feature_names = data.columns\n",
    "print X.shape, y.shape"
   ]
  },
  {
   "cell_type": "code",
   "execution_count": 55,
   "metadata": {
    "collapsed": false
   },
   "outputs": [
    {
     "name": "stdout",
     "output_type": "stream",
     "text": [
      "Characteristics of the Dataset: \n",
      "Mean:  36.9138716356\n",
      "Standard Deviation:  35.5925009275\n"
     ]
    }
   ],
   "source": [
    "print 'Characteristics of the Dataset: '\n",
    "print 'Mean: ', np.mean(X)\n",
    "print 'Standard Deviation: ', np.std(X)"
   ]
  },
  {
   "cell_type": "code",
   "execution_count": 56,
   "metadata": {
    "collapsed": false
   },
   "outputs": [
    {
     "name": "stdout",
     "output_type": "stream",
     "text": [
      "Blackbox Accuracy: \n",
      "0.585507246377\n"
     ]
    }
   ],
   "source": [
    "print 'Blackbox Accuracy: '\n",
    "blackbox = LogisticRegression()\n",
    "blackbox.fit(X, y)\n",
    "print blackbox.score(X, y)"
   ]
  },
  {
   "cell_type": "code",
   "execution_count": 57,
   "metadata": {
    "collapsed": false,
    "scrolled": true
   },
   "outputs": [
    {
     "name": "stdout",
     "output_type": "stream",
     "text": [
      "Epoch: 1\n",
      "Counter({0: 863, 1: 137})\n",
      "Epoch: 2\n",
      "Counter({0: 729, 1: 271})\n",
      "Epoch: 3\n",
      "Counter({0: 622, 1: 378})\n",
      "Epoch: 4\n",
      "Counter({0: 554, 1: 446})\n",
      "Epoch: 5\n",
      "Counter({0: 523, 1: 477})\n",
      "Epoch: 6\n",
      "Counter({0: 509, 1: 491})\n",
      "Epoch: 7\n",
      "Counter({0: 505, 1: 495})\n",
      "Epoch: 8\n",
      "Counter({0: 502, 1: 498})\n",
      "Epoch: 1\n",
      "Counter({0: 832, 1: 168})\n",
      "Epoch: 2\n",
      "Counter({0: 736, 1: 264})\n",
      "Epoch: 3\n",
      "Counter({0: 634, 1: 366})\n",
      "Epoch: 4\n",
      "Counter({0: 569, 1: 431})\n",
      "Epoch: 5\n",
      "Counter({0: 532, 1: 468})\n",
      "Epoch: 6\n",
      "Counter({0: 510, 1: 490})\n",
      "Epoch: 7\n",
      "Counter({0: 508, 1: 492})\n",
      "Epoch: 8\n",
      "Counter({0: 503, 1: 497})\n",
      "Epoch: 9\n",
      "Counter({0: 500, 1: 500})\n",
      "Epoch: 1\n",
      "Counter({0: 878, 1: 122})\n",
      "Epoch: 2\n",
      "Counter({0: 755, 1: 245})\n",
      "Epoch: 3\n",
      "Counter({0: 640, 1: 360})\n",
      "Epoch: 4\n",
      "Counter({0: 563, 1: 437})\n",
      "Epoch: 5\n",
      "Counter({0: 530, 1: 470})\n",
      "Epoch: 6\n",
      "Counter({0: 512, 1: 488})\n",
      "Epoch: 7\n",
      "Counter({0: 506, 1: 494})\n",
      "Epoch: 8\n",
      "Counter({0: 503, 1: 497})\n",
      "Epoch: 9\n",
      "Counter({0: 501, 1: 499})\n",
      "Epoch: 1\n",
      "Counter({0: 835, 1: 165})\n",
      "Epoch: 2\n",
      "Counter({0: 708, 1: 292})\n",
      "Epoch: 3\n",
      "Counter({0: 600, 1: 400})\n",
      "Epoch: 4\n",
      "Counter({0: 557, 1: 443})\n",
      "Epoch: 5\n",
      "Counter({0: 528, 1: 472})\n",
      "Epoch: 6\n",
      "Counter({0: 513, 1: 487})\n",
      "Epoch: 7\n",
      "Counter({0: 507, 1: 493})\n",
      "Epoch: 8\n",
      "Counter({0: 505, 1: 495})\n",
      "Epoch: 9\n",
      "Counter({0: 503, 1: 497})\n",
      "Epoch: 10\n",
      "Counter({0: 501, 1: 499})\n",
      "Epoch: 1\n",
      "Counter({0: 840, 1: 160})\n",
      "Epoch: 2\n",
      "Counter({0: 717, 1: 283})\n",
      "Epoch: 3\n",
      "Counter({0: 631, 1: 369})\n",
      "Epoch: 4\n",
      "Counter({0: 580, 1: 420})\n",
      "Epoch: 5\n",
      "Counter({0: 548, 1: 452})\n",
      "Epoch: 6\n",
      "Counter({0: 524, 1: 476})\n",
      "Epoch: 7\n",
      "Counter({0: 513, 1: 487})\n",
      "Epoch: 8\n",
      "Counter({0: 504, 1: 496})\n",
      "Epoch: 9\n",
      "Counter({0: 503, 1: 497})\n",
      "Epoch: 10\n",
      "Counter({0: 502, 1: 498})\n",
      "Epoch: 1\n",
      "Counter({0: 847, 1: 153})\n",
      "Epoch: 2\n",
      "Counter({0: 717, 1: 283})\n",
      "Epoch: 3\n",
      "Counter({0: 603, 1: 397})\n",
      "Epoch: 4\n",
      "Counter({0: 554, 1: 446})\n",
      "Epoch: 5\n",
      "Counter({0: 523, 1: 477})\n",
      "Epoch: 6\n",
      "Counter({0: 507, 1: 493})\n",
      "Epoch: 7\n",
      "Counter({0: 502, 1: 498})\n",
      "Epoch: 1\n",
      "Counter({0: 848, 1: 152})\n",
      "Epoch: 2\n",
      "Counter({0: 739, 1: 261})\n",
      "Epoch: 3\n",
      "Counter({0: 616, 1: 384})\n",
      "Epoch: 4\n",
      "Counter({0: 563, 1: 437})\n",
      "Epoch: 5\n",
      "Counter({0: 532, 1: 468})\n",
      "Epoch: 6\n",
      "Counter({0: 514, 1: 486})\n",
      "Epoch: 7\n",
      "Counter({0: 503, 1: 497})\n",
      "Epoch: 8\n",
      "Counter({0: 501, 1: 499})\n",
      "Epoch: 1\n",
      "Counter({0: 867, 1: 133})\n",
      "Epoch: 2\n",
      "Counter({0: 726, 1: 274})\n",
      "Epoch: 3\n",
      "Counter({0: 614, 1: 386})\n",
      "Epoch: 4\n",
      "Counter({0: 554, 1: 446})\n",
      "Epoch: 5\n",
      "Counter({0: 532, 1: 468})\n",
      "Epoch: 6\n",
      "Counter({0: 512, 1: 488})\n",
      "Epoch: 7\n",
      "Counter({0: 507, 1: 493})\n",
      "Epoch: 8\n",
      "Counter({0: 503, 1: 497})\n",
      "Epoch: 9\n",
      "Counter({0: 502, 1: 498})\n",
      "Epoch: 1\n",
      "Counter({0: 862, 1: 138})\n",
      "Epoch: 2\n",
      "Counter({0: 731, 1: 269})\n",
      "Epoch: 3\n",
      "Counter({0: 643, 1: 357})\n",
      "Epoch: 4\n",
      "Counter({0: 557, 1: 443})\n",
      "Epoch: 5\n",
      "Counter({0: 527, 1: 473})\n",
      "Epoch: 6\n",
      "Counter({0: 515, 1: 485})\n",
      "Epoch: 7\n",
      "Counter({0: 505, 1: 495})\n",
      "Epoch: 8\n",
      "Counter({0: 502, 1: 498})\n",
      "Epoch: 1\n",
      "Counter({0: 852, 1: 148})\n",
      "Epoch: 2\n",
      "Counter({0: 716, 1: 284})\n",
      "Epoch: 3\n",
      "Counter({0: 629, 1: 371})\n",
      "Epoch: 4\n",
      "Counter({0: 556, 1: 444})\n",
      "Epoch: 5\n",
      "Counter({0: 532, 1: 468})\n",
      "Epoch: 6\n",
      "Counter({0: 513, 1: 487})\n",
      "Epoch: 7\n",
      "Counter({0: 505, 1: 495})\n",
      "Epoch: 8\n",
      "Counter({0: 505, 1: 495})\n",
      "Epoch: 9\n",
      "Counter({0: 505, 1: 495})\n",
      "Epoch: 10\n",
      "Counter({0: 501, 1: 499})\n"
     ]
    }
   ],
   "source": [
    "old_score, new_score = [],[]\n",
    "for i in range(10):\n",
    "    a, b = perform_experiment(X, y, feature_names, LogisticRegression(), LogisticRegression())\n",
    "    old_score.append(a)\n",
    "    new_score.append(b)"
   ]
  },
  {
   "cell_type": "code",
   "execution_count": 58,
   "metadata": {
    "collapsed": false
   },
   "outputs": [
    {
     "data": {
      "image/png": "[encoded data removed]",
      "text/plain": [
       "<matplotlib.figure.Figure at 0x116efca90>"
      ]
     },
     "metadata": {},
     "output_type": "display_data"
    }
   ],
   "source": [
    "plt.plot(old_score, label='random')\n",
    "plt.plot(new_score, label='with equal classes',alpha=0.5)\n",
    "plt.title('BUPA dataset')\n",
    "plt.legend()\n",
    "plt.show()"
   ]
  },
  {
   "cell_type": "code",
   "execution_count": 59,
   "metadata": {
    "collapsed": false
   },
   "outputs": [
    {
     "name": "stdout",
     "output_type": "stream",
     "text": [
      "Random Dataset Score:  [0.58550724637681162, 0.54202898550724643, 0.57391304347826089, 0.58550724637681162, 0.58550724637681162, 0.59130434782608698, 0.59130434782608698, 0.57971014492753625, 0.51014492753623186, 0.58260869565217388]\n",
      "0.572753623188\n"
     ]
    }
   ],
   "source": [
    "print 'Random Dataset Score: ', old_score\n",
    "print np.mean(old_score)"
   ]
  },
  {
   "cell_type": "code",
   "execution_count": 60,
   "metadata": {
    "collapsed": false
   },
   "outputs": [
    {
     "name": "stdout",
     "output_type": "stream",
     "text": [
      "Equitable class random dataset score:  [0.57971014492753625, 0.57971014492753625, 0.57971014492753625, 0.57971014492753625, 0.57971014492753625, 0.58260869565217388, 0.58550724637681162, 0.58550724637681162, 0.57971014492753625, 0.57971014492753625]\n"
     ]
    }
   ],
   "source": [
    "print 'Equitable class random dataset score: ', new_score"
   ]
  },
  {
   "cell_type": "markdown",
   "metadata": {},
   "source": [
    "### Halloween Dataset (from Kaggle)"
   ]
  },
  {
   "cell_type": "code",
   "execution_count": 29,
   "metadata": {
    "collapsed": false
   },
   "outputs": [
    {
     "name": "stdout",
     "output_type": "stream",
     "text": [
      "(246, 6) (246,)\n"
     ]
    }
   ],
   "source": [
    "data = pd.read_csv('../../../Dataset/Halloween/train.csv')\n",
    "data = data[(data['type'] == 'Ghoul') | (data['type'] == 'Ghost')]\n",
    "data['type'] = data['type'].map({\"Ghoul\":0, \"Ghost\":1})\n",
    "mapping = {v:k for k,v in dict(enumerate(np.unique(data['color']))).iteritems()}\n",
    "data['color'] = data['color'].map(mapping)\n",
    "y = data.pop('type').values\n",
    "X = data.values\n",
    "feature_names = data.columns\n",
    "print X.shape, y.shape"
   ]
  },
  {
   "cell_type": "code",
   "execution_count": 30,
   "metadata": {
    "collapsed": false
   },
   "outputs": [
    {
     "name": "stdout",
     "output_type": "stream",
     "text": [
      "Characteristics of the Dataset: \n",
      "Mean:  76.0565010544\n",
      "Standard Deviation:  199.312178777\n"
     ]
    }
   ],
   "source": [
    "print 'Characteristics of the Dataset: '\n",
    "print 'Mean: ', np.mean(X)\n",
    "print 'Standard Deviation: ', np.std(X)"
   ]
  },
  {
   "cell_type": "code",
   "execution_count": 31,
   "metadata": {
    "collapsed": false
   },
   "outputs": [
    {
     "name": "stdout",
     "output_type": "stream",
     "text": [
      "Black Box Accuracy: \n",
      "0.951219512195\n"
     ]
    }
   ],
   "source": [
    "print 'Black Box Accuracy: '\n",
    "blackbox = LogisticRegression()\n",
    "blackbox.fit(X, y)\n",
    "print blackbox.score(X, y)"
   ]
  },
  {
   "cell_type": "code",
   "execution_count": 32,
   "metadata": {
    "collapsed": false,
    "scrolled": true
   },
   "outputs": [
    {
     "name": "stdout",
     "output_type": "stream",
     "text": [
      "Epoch: 1\n",
      "Counter({1: 537, 0: 463})\n",
      "Epoch: 2\n",
      "Counter({1: 512, 0: 488})\n",
      "Epoch: 3\n",
      "Counter({1: 502, 0: 498})\n",
      "Epoch: 1\n",
      "Counter({1: 527, 0: 473})\n",
      "Epoch: 2\n",
      "Counter({0: 504, 1: 496})\n",
      "Epoch: 3\n",
      "Counter({0: 501, 1: 499})\n",
      "Epoch: 1\n",
      "Counter({1: 519, 0: 481})\n",
      "Epoch: 2\n",
      "Counter({0: 505, 1: 495})\n",
      "Epoch: 3\n",
      "Counter({0: 500, 1: 500})\n",
      "Epoch: 1\n",
      "Counter({1: 534, 0: 466})\n",
      "Epoch: 2\n",
      "Counter({1: 502, 0: 498})\n",
      "Epoch: 1\n",
      "Counter({1: 531, 0: 469})\n",
      "Epoch: 2\n",
      "Counter({0: 500, 1: 500})\n",
      "Epoch: 1\n",
      "Counter({1: 517, 0: 483})\n",
      "Epoch: 2\n",
      "Counter({1: 503, 0: 497})\n",
      "Epoch: 3\n",
      "Counter({1: 501, 0: 499})\n",
      "Epoch: 1\n",
      "Counter({1: 530, 0: 470})\n",
      "Epoch: 2\n",
      "Counter({1: 504, 0: 496})\n",
      "Epoch: 3\n",
      "Counter({1: 503, 0: 497})\n",
      "Epoch: 4\n",
      "Counter({0: 500, 1: 500})\n",
      "Epoch: 1\n",
      "Counter({1: 504, 0: 496})\n",
      "Epoch: 2\n",
      "Counter({1: 501, 0: 499})\n",
      "Epoch: 1\n",
      "Counter({1: 530, 0: 470})\n",
      "Epoch: 2\n",
      "Counter({1: 505, 0: 495})\n",
      "Epoch: 3\n",
      "Counter({0: 500, 1: 500})\n",
      "Epoch: 1\n",
      "Counter({1: 522, 0: 478})\n",
      "Epoch: 2\n",
      "Counter({1: 508, 0: 492})\n",
      "Epoch: 3\n",
      "Counter({1: 501, 0: 499})\n"
     ]
    }
   ],
   "source": [
    "old_score, new_score = [],[]\n",
    "for i in range(10):\n",
    "    a, b = perform_experiment(X, y, feature_names, LogisticRegression(), LogisticRegression())\n",
    "    old_score.append(a)\n",
    "    new_score.append(b)"
   ]
  },
  {
   "cell_type": "code",
   "execution_count": 33,
   "metadata": {
    "collapsed": false
   },
   "outputs": [
    {
     "data": {
      "image/png": "[encoded data removed]",
      "text/plain": [
       "<matplotlib.figure.Figure at 0x115e19cd0>"
      ]
     },
     "metadata": {},
     "output_type": "display_data"
    }
   ],
   "source": [
    "plt.plot(old_score, label='random')\n",
    "plt.plot(new_score, label='with equal classes',alpha=0.5)\n",
    "plt.title('Halloween dataset')\n",
    "plt.legend()\n",
    "plt.show()"
   ]
  },
  {
   "cell_type": "code",
   "execution_count": 34,
   "metadata": {
    "collapsed": false
   },
   "outputs": [
    {
     "name": "stdout",
     "output_type": "stream",
     "text": [
      "0.943089430894\n"
     ]
    }
   ],
   "source": [
    "X_random = generate_random(X, feature_names, data_size=1000)\n",
    "y_random = blackbox.predict(X_random)\n",
    "whitebox = LogisticRegression()\n",
    "whitebox.fit(X_random, y_random)\n",
    "print whitebox.score(X, y)"
   ]
  },
  {
   "cell_type": "code",
   "execution_count": 35,
   "metadata": {
    "collapsed": false
   },
   "outputs": [
    {
     "name": "stdout",
     "output_type": "stream",
     "text": [
      "Random Dataset Score:  [0.49593495934959347, 0.53252032520325199, 0.52845528455284552, 0.52845528455284552, 0.51626016260162599, 0.55691056910569103, 0.53658536585365857, 0.93495934959349591, 0.52845528455284552, 0.54065040650406504]\n"
     ]
    }
   ],
   "source": [
    "print 'Random Dataset Score: ', old_score\n",
    "print np.mean(old_score)"
   ]
  },
  {
   "cell_type": "code",
   "execution_count": 36,
   "metadata": {
    "collapsed": false
   },
   "outputs": [
    {
     "name": "stdout",
     "output_type": "stream",
     "text": [
      "Equitable class random dataset score:  [0.53252032520325199, 0.53658536585365857, 0.53252032520325199, 0.52845528455284552, 0.52439024390243905, 0.54065040650406504, 0.53252032520325199, 0.53658536585365857, 0.54471544715447151, 0.54065040650406504]\n"
     ]
    }
   ],
   "source": [
    "print 'Equitable class random dataset score: ', new_score"
   ]
  }
 ],
 "metadata": {
  "anaconda-cloud": {},
  "kernelspec": {
   "display_name": "Python [default]",
   "language": "python",
   "name": "python2"
  },
  "language_info": {
   "codemirror_mode": {
    "name": "ipython",
    "version": 2
   },
   "file_extension": ".py",
   "mimetype": "text/x-python",
   "name": "python",
   "nbconvert_exporter": "python",
   "pygments_lexer": "ipython2",
   "version": "2.7.12"
  }
 },
 "nbformat": 4,
 "nbformat_minor": 1
}
