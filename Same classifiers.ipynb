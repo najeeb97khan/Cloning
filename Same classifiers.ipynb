{
 "cells": [
  {
   "cell_type": "markdown",
   "metadata": {},
   "source": [
    "## Performing Cloning with Same Black Box and White Box Classifiers"
   ]
  },
  {
   "cell_type": "code",
   "execution_count": 19,
   "metadata": {
    "collapsed": true
   },
   "outputs": [],
   "source": [
    "%matplotlib inline\n",
    "import pandas as pd\n",
    "import numpy as np\n",
    "import matplotlib.pyplot as plt\n",
    "from sklearn import datasets\n",
    "import pickle as pkl\n",
    "from collections import Counter\n",
    "from sklearn.linear_model import LogisticRegression, RidgeClassifier\n",
    "from sklearn.ensemble import RandomForestClassifier\n",
    "from sklearn.neighbors import KNeighborsClassifier"
   ]
  },
  {
   "cell_type": "code",
   "execution_count": 2,
   "metadata": {
    "collapsed": true
   },
   "outputs": [],
   "source": [
    "def generate_random(orig_data, feature_names, data_size):\n",
    "    '''\n",
    "    Input: Data, Feature Names, Size of Random Data\n",
    "    Output: Random Data\n",
    "    \n",
    "    Generates random dataset of size data_size\n",
    "    Random dataset is generated from normal\n",
    "    distribution with specified high and low values\n",
    "    '''\n",
    "    \n",
    "    df = {}\n",
    "    for i in range(len(feature_names)):\n",
    "        low = np.min(orig_data[:, i])\n",
    "        high = np.max(orig_data[:, i])\n",
    "        df[feature_names[i]] = np.random.uniform(low=low, high=high, size=data_size)\n",
    "    random_dataset = pd.DataFrame(data=df, columns=feature_names)\n",
    "    \n",
    "    return random_dataset"
   ]
  },
  {
   "cell_type": "markdown",
   "metadata": {},
   "source": [
    "## Random Forests"
   ]
  },
  {
   "cell_type": "code",
   "execution_count": 9,
   "metadata": {
    "collapsed": false
   },
   "outputs": [
    {
     "name": "stdout",
     "output_type": "stream",
     "text": [
      "========================== Heart Dataset ============================\n",
      "Blackbox score on the random dataset:  0.963203463203\n",
      "Whitebox score when trained with random dataset:  0.69696969697\n"
     ]
    }
   ],
   "source": [
    "## Fitting black box to original data\n",
    "print '========================== Heart Dataset ============================'\n",
    "data = pd.read_csv('data/heart.csv')\n",
    "data['famhist'] = data['famhist'].map({\"Absent\": 0, \"Present\":1})\n",
    "y = data.pop(\"chd\").values\n",
    "X = data.values\n",
    "feature_names = data.columns\n",
    "\n",
    "blackbox = RandomForestClassifier()\n",
    "blackbox.fit(X, y)\n",
    "print 'Blackbox score on the random dataset: ', blackbox.score(X, y)\n",
    "\n",
    "## Generating random samples\n",
    "X_random = generate_random(X, feature_names, data_size=1000).values\n",
    "y_random = blackbox.predict(X_random)\n",
    "whitebox = RandomForestClassifier()\n",
    "whitebox.fit(X_random, y_random)\n",
    "print 'Whitebox score when trained with random dataset: ', whitebox.score(X, y)"
   ]
  },
  {
   "cell_type": "code",
   "execution_count": 14,
   "metadata": {
    "collapsed": true
   },
   "outputs": [],
   "source": [
    "from sklearn.cross_validation import train_test_split"
   ]
  },
  {
   "cell_type": "code",
   "execution_count": 16,
   "metadata": {
    "collapsed": false
   },
   "outputs": [
    {
     "name": "stdout",
     "output_type": "stream",
     "text": [
      "========================== Breast Cancer Dataset ==========================\n",
      "(569, 30) (569,)\n",
      "(398, 30)\n",
      "(171, 30)\n",
      "Blackbox score on the random dataset:  0.947368421053\n",
      "Whitebox score when trained with random dataset:  0.469244288225\n"
     ]
    }
   ],
   "source": [
    "# Breast Cancer Dataset\n",
    "print '========================== Breast Cancer Dataset =========================='\n",
    "data = datasets.load_breast_cancer()\n",
    "X = data.data\n",
    "y = data.target\n",
    "feature_names = data.feature_names\n",
    "print X.shape, y.shape\n",
    "\n",
    "X_train, X_test, y_train,  y_test = train_test_split(X, y, test_size=0.3)\n",
    "\n",
    "blackbox = RandomForestClassifier()\n",
    "blackbox.fit(X_train, y_train)\n",
    "print 'Blackbox score on the random dataset: ', blackbox.score(X_test, y_test)\n",
    "\n",
    "## Generating random samples\n",
    "X_random = generate_random(X, feature_names, data_size=1000).values\n",
    "y_random = blackbox.predict(X_random)\n",
    "whitebox = RandomForestClassifier()\n",
    "whitebox.fit(X_random, y_random)\n",
    "print 'Whitebox score when trained with random dataset: ', whitebox.score(X, y)"
   ]
  },
  {
   "cell_type": "code",
   "execution_count": 25,
   "metadata": {
    "collapsed": false
   },
   "outputs": [
    {
     "name": "stdout",
     "output_type": "stream",
     "text": [
      "========================== Adult Census Dataset ===========================\n",
      "(32561, 107) (32561,)\n",
      "Blackbox score on the random dataset:  0.843279762514\n",
      "Whitebox score when trained with random dataset:  0.743896071988\n"
     ]
    }
   ],
   "source": [
    "## Adult Census dataset\n",
    "print '========================== Adult Census Dataset ==========================='\n",
    "with open('../../Dataset/Census/train.pkl', 'rb') as fp:\n",
    "    data = pkl.load(fp)\n",
    "with open('../../Dataset/Census/label.pkl', 'rb') as fp:\n",
    "    label = pkl.load(fp)\n",
    "feature_names = data.columns\n",
    "X = data.values\n",
    "y = label\n",
    "print X.shape, y.shape\n",
    "\n",
    "X_train, X_test, y_train,  y_test = train_test_split(X, y, test_size=0.3)\n",
    "\n",
    "blackbox = RandomForestClassifier()\n",
    "blackbox.fit(X_train, y_train)\n",
    "print 'Blackbox score on the random dataset: ', blackbox.score(X_test, y_test)\n",
    "\n",
    "## Generating random samples\n",
    "X_random = generate_random(X, feature_names, data_size=1000).values\n",
    "y_random = blackbox.predict(X_random)\n",
    "whitebox = RandomForestClassifier()\n",
    "whitebox.fit(X_random, y_random)\n",
    "print 'Whitebox score when trained with random dataset: ', whitebox.score(X, y)"
   ]
  },
  {
   "cell_type": "code",
   "execution_count": 29,
   "metadata": {
    "collapsed": false
   },
   "outputs": [
    {
     "name": "stdout",
     "output_type": "stream",
     "text": [
      "========================= Bridges Dataset =============================\n",
      "(106, 29) (106,)\n",
      "Blackbox score on the random dataset:  0.9375\n",
      "Whitebox score when trained with random dataset:  0.650943396226\n"
     ]
    }
   ],
   "source": [
    " ## Bridges Dataset\n",
    "print '========================= Bridges Dataset ============================='\n",
    "with open('../../Dataset/Bridges/train.pkl', 'rb') as fp:\n",
    "    data = pkl.load(fp)\n",
    "with open('../../Dataset/Bridges/label.pkl', 'rb') as fp:\n",
    "    label = pkl.load(fp)\n",
    "feature_names = data.columns\n",
    "X = data.values\n",
    "y = label\n",
    "print X.shape, y.shape\n",
    "\n",
    "X_train, X_test, y_train,  y_test = train_test_split(X, y, test_size=0.3)\n",
    "\n",
    "blackbox = RandomForestClassifier()\n",
    "blackbox.fit(X_train, y_train)\n",
    "print 'Blackbox score on the random dataset: ', blackbox.score(X_test, y_test)\n",
    "\n",
    "## Generating random samples\n",
    "X_random = generate_random(X, feature_names, data_size=1000).values\n",
    "y_random = blackbox.predict(X_random)\n",
    "whitebox = RandomForestClassifier()\n",
    "whitebox.fit(X_random, y_random)\n",
    "print 'Whitebox score when trained with random dataset: ', whitebox.score(X, y)"
   ]
  },
  {
   "cell_type": "code",
   "execution_count": 32,
   "metadata": {
    "collapsed": false
   },
   "outputs": [
    {
     "name": "stdout",
     "output_type": "stream",
     "text": [
      "======================== Mushroom Dataset ===========================\n",
      "(8124, 112) (8124,)\n",
      "Blackbox score on the random dataset:  1.0\n",
      "Whitebox score when trained with random dataset:  0.482151649434\n"
     ]
    }
   ],
   "source": [
    "print '======================== Mushroom Dataset ==========================='\n",
    "with open('../../Dataset/Mushroom/train.pkl', 'rb') as fp:\n",
    "    data = pkl.load(fp)\n",
    "with open('../../Dataset/Mushroom/label.pkl', 'rb') as fp:\n",
    "    label = pkl.load(fp)\n",
    "feature_names = data.columns\n",
    "X = data.values\n",
    "y = label\n",
    "print X.shape, y.shape\n",
    "\n",
    "X_train, X_test, y_train,  y_test = train_test_split(X, y, test_size=0.3)\n",
    "\n",
    "blackbox = RandomForestClassifier()\n",
    "blackbox.fit(X_train, y_train)\n",
    "print 'Blackbox score on the random dataset: ', blackbox.score(X_test, y_test)\n",
    "\n",
    "## Generating random samples\n",
    "X_random = generate_random(X, feature_names, data_size=1000).values\n",
    "y_random = blackbox.predict(X_random)\n",
    "whitebox = RandomForestClassifier()\n",
    "whitebox.fit(X_random, y_random)\n",
    "print 'Whitebox score when trained with random dataset: ', whitebox.score(X, y)"
   ]
  },
  {
   "cell_type": "markdown",
   "metadata": {},
   "source": [
    "## Logistic Regression"
   ]
  },
  {
   "cell_type": "code",
   "execution_count": 57,
   "metadata": {
    "collapsed": false
   },
   "outputs": [
    {
     "name": "stdout",
     "output_type": "stream",
     "text": [
      "========================== Heart Dataset ============================\n",
      "Blackbox score on the random dataset:  0.733766233766\n",
      "Whitebox score when trained with random dataset:  0.722943722944\n"
     ]
    }
   ],
   "source": [
    "## Fitting black box to original data\n",
    "print '========================== Heart Dataset ============================'\n",
    "data = pd.read_csv('data/heart.csv')\n",
    "data['famhist'] = data['famhist'].map({\"Absent\": 0, \"Present\":1})\n",
    "y = data.pop(\"chd\").values\n",
    "X = data.values\n",
    "feature_names = data.columns\n",
    "\n",
    "blackbox = LogisticRegression()\n",
    "blackbox.fit(X, y)\n",
    "print 'Blackbox score on the random dataset: ', blackbox.score(X, y)\n",
    "\n",
    "## Generating random samples\n",
    "X_random = generate_random(X, feature_names, data_size=1000).values\n",
    "y_random = blackbox.predict(X_random)\n",
    "whitebox = LogisticRegression()\n",
    "whitebox.fit(X_random, y_random)\n",
    "print 'Whitebox score when trained with random dataset: ', whitebox.score(X, y)"
   ]
  },
  {
   "cell_type": "code",
   "execution_count": 46,
   "metadata": {
    "collapsed": false
   },
   "outputs": [
    {
     "name": "stdout",
     "output_type": "stream",
     "text": [
      "========================== Breast Cancer Dataset ==========================\n",
      "(569, 30) (569,)\n",
      "Blackbox score on the random dataset:  0.906432748538\n",
      "Whitebox score when trained with random dataset:  0.93848857645\n"
     ]
    }
   ],
   "source": [
    "# Breast Cancer Dataset\n",
    "print '========================== Breast Cancer Dataset =========================='\n",
    "data = datasets.load_breast_cancer()\n",
    "X = data.data\n",
    "y = data.target\n",
    "feature_names = data.feature_names\n",
    "print X.shape, y.shape\n",
    "\n",
    "X_train, X_test, y_train,  y_test = train_test_split(X, y, test_size=0.3)\n",
    "\n",
    "blackbox = LogisticRegression()\n",
    "blackbox.fit(X_train, y_train)\n",
    "print 'Blackbox score on the random dataset: ', blackbox.score(X_test, y_test)\n",
    "\n",
    "## Generating random samples\n",
    "X_random = generate_random(X, feature_names, data_size=1000).values\n",
    "y_random = blackbox.predict(X_random)\n",
    "whitebox = LogisticRegression()\n",
    "whitebox.fit(X_random, y_random)\n",
    "print 'Whitebox score when trained with random dataset: ', whitebox.score(X, y)"
   ]
  },
  {
   "cell_type": "code",
   "execution_count": 47,
   "metadata": {
    "collapsed": false
   },
   "outputs": [
    {
     "name": "stdout",
     "output_type": "stream",
     "text": [
      "========================== Adult Census Dataset ===========================\n",
      "(32561, 107) (32561,)\n",
      "Blackbox score on the random dataset:  0.798239328488\n",
      "Whitebox score when trained with random dataset:  0.792113264335\n"
     ]
    }
   ],
   "source": [
    "## Adult Census dataset\n",
    "print '========================== Adult Census Dataset ==========================='\n",
    "with open('../../Dataset/Census/train.pkl', 'rb') as fp:\n",
    "    data = pkl.load(fp)\n",
    "with open('../../Dataset/Census/label.pkl', 'rb') as fp:\n",
    "    label = pkl.load(fp)\n",
    "feature_names = data.columns\n",
    "X = data.values\n",
    "y = label\n",
    "print X.shape, y.shape\n",
    "\n",
    "X_train, X_test, y_train,  y_test = train_test_split(X, y, test_size=0.3)\n",
    "\n",
    "blackbox = LogisticRegression()\n",
    "blackbox.fit(X_train, y_train)\n",
    "print 'Blackbox score on the random dataset: ', blackbox.score(X_test, y_test)\n",
    "\n",
    "## Generating random samples\n",
    "X_random = generate_random(X, feature_names, data_size=1000).values\n",
    "y_random = blackbox.predict(X_random)\n",
    "whitebox = LogisticRegression()\n",
    "whitebox.fit(X_random, y_random)\n",
    "print 'Whitebox score when trained with random dataset: ', whitebox.score(X, y)"
   ]
  },
  {
   "cell_type": "code",
   "execution_count": 49,
   "metadata": {
    "collapsed": false
   },
   "outputs": [
    {
     "name": "stdout",
     "output_type": "stream",
     "text": [
      "========================= Bridges Dataset =============================\n",
      "(106, 29) (106,)\n",
      "Blackbox score on the random dataset:  0.90625\n",
      "Whitebox score when trained with random dataset:  0.905660377358\n"
     ]
    }
   ],
   "source": [
    " ## Bridges Dataset\n",
    "print '========================= Bridges Dataset ============================='\n",
    "with open('../../Dataset/Bridges/train.pkl', 'rb') as fp:\n",
    "    data = pkl.load(fp)\n",
    "with open('../../Dataset/Bridges/label.pkl', 'rb') as fp:\n",
    "    label = pkl.load(fp)\n",
    "feature_names = data.columns\n",
    "X = data.values\n",
    "y = label\n",
    "print X.shape, y.shape\n",
    "\n",
    "X_train, X_test, y_train,  y_test = train_test_split(X, y, test_size=0.3)\n",
    "\n",
    "blackbox = LogisticRegression()\n",
    "blackbox.fit(X_train, y_train)\n",
    "print 'Blackbox score on the random dataset: ', blackbox.score(X_test, y_test)\n",
    "\n",
    "## Generating random samples\n",
    "X_random = generate_random(X, feature_names, data_size=1000).values\n",
    "y_random = blackbox.predict(X_random)\n",
    "whitebox = LogisticRegression()\n",
    "whitebox.fit(X_random, y_random)\n",
    "print 'Whitebox score when trained with random dataset: ', whitebox.score(X, y)"
   ]
  },
  {
   "cell_type": "code",
   "execution_count": 52,
   "metadata": {
    "collapsed": false
   },
   "outputs": [
    {
     "name": "stdout",
     "output_type": "stream",
     "text": [
      "======================== Mushroom Dataset ===========================\n",
      "(8124, 112) (8124,)\n",
      "Blackbox score on the random dataset:  0.999589827728\n",
      "Whitebox score when trained with random dataset:  0.655711472181\n"
     ]
    }
   ],
   "source": [
    "print '======================== Mushroom Dataset ==========================='\n",
    "with open('../../Dataset/Mushroom/train.pkl', 'rb') as fp:\n",
    "    data = pkl.load(fp)\n",
    "with open('../../Dataset/Mushroom/label.pkl', 'rb') as fp:\n",
    "    label = pkl.load(fp)\n",
    "feature_names = data.columns\n",
    "X = data.values\n",
    "y = label\n",
    "print X.shape, y.shape\n",
    "\n",
    "X_train, X_test, y_train,  y_test = train_test_split(X, y, test_size=0.3)\n",
    "\n",
    "blackbox = LogisticRegression()\n",
    "blackbox.fit(X_train, y_train)\n",
    "print 'Blackbox score on the random dataset: ', blackbox.score(X_test, y_test)\n",
    "\n",
    "## Generating random samples\n",
    "X_random = generate_random(X, feature_names, data_size=1000).values\n",
    "y_random = blackbox.predict(X_random)\n",
    "whitebox = LogisticRegression()\n",
    "whitebox.fit(X_random, y_random)\n",
    "print 'Whitebox score when trained with random dataset: ', whitebox.score(X, y)"
   ]
  },
  {
   "cell_type": "markdown",
   "metadata": {},
   "source": [
    "## KNearest Neighbor"
   ]
  },
  {
   "cell_type": "code",
   "execution_count": 58,
   "metadata": {
    "collapsed": false
   },
   "outputs": [
    {
     "name": "stdout",
     "output_type": "stream",
     "text": [
      "========================== Heart Dataset ============================\n",
      "Blackbox score on the random dataset:  0.720779220779\n",
      "Whitebox score when trained with random dataset:  0.731601731602\n"
     ]
    }
   ],
   "source": [
    "## Fitting black box to original data\n",
    "print '========================== Heart Dataset ============================'\n",
    "data = pd.read_csv('data/heart.csv')\n",
    "data['famhist'] = data['famhist'].map({\"Absent\": 0, \"Present\":1})\n",
    "y = data.pop(\"chd\").values\n",
    "X = data.values\n",
    "feature_names = data.columns\n",
    "\n",
    "blackbox = KNeighborsClassifier()\n",
    "blackbox.fit(X, y)\n",
    "print 'Blackbox score on the random dataset: ', blackbox.score(X, y)\n",
    "\n",
    "## Generating random samples\n",
    "X_random = generate_random(X, feature_names, data_size=1000).values\n",
    "y_random = blackbox.predict(X_random)\n",
    "whitebox = KNeighborsClassifier()\n",
    "whitebox.fit(X_random, y_random)\n",
    "print 'Whitebox score when trained with random dataset: ', whitebox.score(X, y)"
   ]
  },
  {
   "cell_type": "code",
   "execution_count": 66,
   "metadata": {
    "collapsed": false
   },
   "outputs": [
    {
     "name": "stdout",
     "output_type": "stream",
     "text": [
      "========================== Breast Cancer Dataset ==========================\n",
      "(569, 30) (569,)\n",
      "Blackbox score on the random dataset:  0.941520467836\n",
      "Whitebox score when trained with random dataset:  0.903339191564\n"
     ]
    }
   ],
   "source": [
    "# Breast Cancer Dataset\n",
    "print '========================== Breast Cancer Dataset =========================='\n",
    "data = datasets.load_breast_cancer()\n",
    "X = data.data\n",
    "y = data.target\n",
    "feature_names = data.feature_names\n",
    "print X.shape, y.shape\n",
    "\n",
    "X_train, X_test, y_train,  y_test = train_test_split(X, y, test_size=0.3)\n",
    "\n",
    "blackbox = KNeighborsClassifier()\n",
    "blackbox.fit(X_train, y_train)\n",
    "print 'Blackbox score on the random dataset: ', blackbox.score(X_test, y_test)\n",
    "\n",
    "## Generating random samples\n",
    "X_random = generate_random(X, feature_names, data_size=1000).values\n",
    "y_random = blackbox.predict(X_random)\n",
    "whitebox = KNeighborsClassifier()\n",
    "whitebox.fit(X_random, y_random)\n",
    "print 'Whitebox score when trained with random dataset: ', whitebox.score(X, y)"
   ]
  },
  {
   "cell_type": "code",
   "execution_count": 61,
   "metadata": {
    "collapsed": false
   },
   "outputs": [
    {
     "name": "stdout",
     "output_type": "stream",
     "text": [
      "========================== Adult Census Dataset ===========================\n",
      "(32561, 107) (32561,)\n",
      "Blackbox score on the random dataset:  0.775104923738\n",
      "Whitebox score when trained with random dataset:  0.264733884094\n"
     ]
    }
   ],
   "source": [
    "## Adult Census dataset\n",
    "print '========================== Adult Census Dataset ==========================='\n",
    "with open('../../Dataset/Census/train.pkl', 'rb') as fp:\n",
    "    data = pkl.load(fp)\n",
    "with open('../../Dataset/Census/label.pkl', 'rb') as fp:\n",
    "    label = pkl.load(fp)\n",
    "feature_names = data.columns\n",
    "X = data.values\n",
    "y = label\n",
    "print X.shape, y.shape\n",
    "\n",
    "X_train, X_test, y_train,  y_test = train_test_split(X, y, test_size=0.3)\n",
    "\n",
    "blackbox = KNeighborsClassifier()\n",
    "blackbox.fit(X_train, y_train)\n",
    "print 'Blackbox score on the random dataset: ', blackbox.score(X_test, y_test)\n",
    "\n",
    "## Generating random samples\n",
    "X_random = generate_random(X, feature_names, data_size=1000).values\n",
    "y_random = blackbox.predict(X_random)\n",
    "whitebox = KNeighborsClassifier()\n",
    "whitebox.fit(X_random, y_random)\n",
    "print 'Whitebox score when trained with random dataset: ', whitebox.score(X, y)"
   ]
  },
  {
   "cell_type": "code",
   "execution_count": 62,
   "metadata": {
    "collapsed": false
   },
   "outputs": [
    {
     "name": "stdout",
     "output_type": "stream",
     "text": [
      "========================= Bridges Dataset =============================\n",
      "(106, 29) (106,)\n",
      "Blackbox score on the random dataset:  0.875\n",
      "Whitebox score when trained with random dataset:  0.88679245283\n"
     ]
    }
   ],
   "source": [
    " ## Bridges Dataset\n",
    "print '========================= Bridges Dataset ============================='\n",
    "with open('../../Dataset/Bridges/train.pkl', 'rb') as fp:\n",
    "    data = pkl.load(fp)\n",
    "with open('../../Dataset/Bridges/label.pkl', 'rb') as fp:\n",
    "    label = pkl.load(fp)\n",
    "feature_names = data.columns\n",
    "X = data.values\n",
    "y = label\n",
    "print X.shape, y.shape\n",
    "\n",
    "X_train, X_test, y_train,  y_test = train_test_split(X, y, test_size=0.3)\n",
    "\n",
    "blackbox = KNeighborsClassifier()\n",
    "blackbox.fit(X_train, y_train)\n",
    "print 'Blackbox score on the random dataset: ', blackbox.score(X_test, y_test)\n",
    "\n",
    "## Generating random samples\n",
    "X_random = generate_random(X, feature_names, data_size=1000).values\n",
    "y_random = blackbox.predict(X_random)\n",
    "whitebox = KNeighborsClassifier()\n",
    "whitebox.fit(X_random, y_random)\n",
    "print 'Whitebox score when trained with random dataset: ', whitebox.score(X, y)"
   ]
  },
  {
   "cell_type": "code",
   "execution_count": 63,
   "metadata": {
    "collapsed": false
   },
   "outputs": [
    {
     "name": "stdout",
     "output_type": "stream",
     "text": [
      "======================== Mushroom Dataset ===========================\n",
      "(8124, 112) (8124,)\n",
      "Blackbox score on the random dataset:  1.0\n",
      "Whitebox score when trained with random dataset:  0.697193500739\n"
     ]
    }
   ],
   "source": [
    "print '======================== Mushroom Dataset ==========================='\n",
    "with open('../../Dataset/Mushroom/train.pkl', 'rb') as fp:\n",
    "    data = pkl.load(fp)\n",
    "with open('../../Dataset/Mushroom/label.pkl', 'rb') as fp:\n",
    "    label = pkl.load(fp)\n",
    "feature_names = data.columns\n",
    "X = data.values\n",
    "y = label\n",
    "print X.shape, y.shape\n",
    "\n",
    "X_train, X_test, y_train,  y_test = train_test_split(X, y, test_size=0.3)\n",
    "\n",
    "blackbox = KNeighborsClassifier()\n",
    "blackbox.fit(X_train, y_train)\n",
    "print 'Blackbox score on the random dataset: ', blackbox.score(X_test, y_test)\n",
    "\n",
    "## Generating random samples\n",
    "X_random = generate_random(X, feature_names, data_size=1000).values\n",
    "y_random = blackbox.predict(X_random)\n",
    "whitebox = KNeighborsClassifier()\n",
    "whitebox.fit(X_random, y_random)\n",
    "print 'Whitebox score when trained with random dataset: ', whitebox.score(X, y)"
   ]
  },
  {
   "cell_type": "code",
   "execution_count": null,
   "metadata": {
    "collapsed": true
   },
   "outputs": [],
   "source": []
  }
 ],
 "metadata": {
  "anaconda-cloud": {},
  "kernelspec": {
   "display_name": "Python [default]",
   "language": "python",
   "name": "python2"
  },
  "language_info": {
   "codemirror_mode": {
    "name": "ipython",
    "version": 2
   },
   "file_extension": ".py",
   "mimetype": "text/x-python",
   "name": "python",
   "nbconvert_exporter": "python",
   "pygments_lexer": "ipython2",
   "version": "2.7.14"
  }
 },
 "nbformat": 4,
 "nbformat_minor": 1
}
