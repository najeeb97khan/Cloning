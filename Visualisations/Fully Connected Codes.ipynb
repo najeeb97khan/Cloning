{
 "cells": [
  {
   "cell_type": "markdown",
   "metadata": {},
   "source": [
    "## Optmizing the fully connected codes \n",
    "\n",
    "Using fully connected layer codes rather than the softmax codes and then using the stnadard cloning procedure"
   ]
  },
  {
   "cell_type": "code",
   "execution_count": 1,
   "metadata": {
    "collapsed": false
   },
   "outputs": [],
   "source": [
    "%matplotlib inline\n",
    "import pandas as pd\n",
    "import tensorflow as tf\n",
    "import matplotlib.pyplot as plt\n",
    "import numpy as np\n",
    "import seaborn as sns"
   ]
  },
  {
   "cell_type": "code",
   "execution_count": 2,
   "metadata": {
    "collapsed": true
   },
   "outputs": [],
   "source": [
    "from sklearn import datasets"
   ]
  },
  {
   "cell_type": "markdown",
   "metadata": {},
   "source": [
    "### Data handling"
   ]
  },
  {
   "cell_type": "code",
   "execution_count": 3,
   "metadata": {
    "collapsed": true
   },
   "outputs": [],
   "source": [
    "data = datasets.load_iris()"
   ]
  },
  {
   "cell_type": "code",
   "execution_count": 4,
   "metadata": {
    "collapsed": false
   },
   "outputs": [
    {
     "name": "stdout",
     "output_type": "stream",
     "text": [
      "(150, 4)\n",
      "(150,)\n"
     ]
    }
   ],
   "source": [
    "X = data['data']\n",
    "y = data['target']\n",
    "print X.shape\n",
    "print y.shape"
   ]
  },
  {
   "cell_type": "code",
   "execution_count": 5,
   "metadata": {
    "collapsed": false
   },
   "outputs": [
    {
     "name": "stdout",
     "output_type": "stream",
     "text": [
      "1.0\n",
      "-1.32634644009e-15\n"
     ]
    }
   ],
   "source": [
    "from sklearn.preprocessing import StandardScaler\n",
    "X = StandardScaler().fit_transform(X)\n",
    "print np.std(X)\n",
    "print np.mean(X)"
   ]
  },
  {
   "cell_type": "code",
   "execution_count": 6,
   "metadata": {
    "collapsed": false
   },
   "outputs": [
    {
     "name": "stdout",
     "output_type": "stream",
     "text": [
      "(150, 3)\n"
     ]
    }
   ],
   "source": [
    "y = pd.get_dummies(y).values\n",
    "print y.shape"
   ]
  },
  {
   "cell_type": "code",
   "execution_count": 7,
   "metadata": {
    "collapsed": false
   },
   "outputs": [
    {
     "data": {
      "text/plain": [
       "['sepal length (cm)',\n",
       " 'sepal width (cm)',\n",
       " 'petal length (cm)',\n",
       " 'petal width (cm)']"
      ]
     },
     "execution_count": 7,
     "metadata": {},
     "output_type": "execute_result"
    }
   ],
   "source": [
    "data['feature_names']"
   ]
  },
  {
   "cell_type": "code",
   "execution_count": 8,
   "metadata": {
    "collapsed": false
   },
   "outputs": [
    {
     "name": "stdout",
     "output_type": "stream",
     "text": [
      "Feature name:sepal length (cm)\n",
      "Low: -1.87002413385\tHigh: 2.49201920212\n",
      "Feature name:sepal width (cm)\n",
      "Low: -2.43898725249\tHigh: 3.11468391068\n",
      "Feature name:petal length (cm)\n",
      "Low: -1.56873522072\tHigh: 1.78634131465\n",
      "Feature name:petal width (cm)\n",
      "Low: -1.44444969728\tHigh: 1.71090158319\n"
     ]
    }
   ],
   "source": [
    "for i in range(len(data['feature_names'])):\n",
    "    print 'Feature name:{}\\nLow: {}\\tHigh: {}'.format(data['feature_names'][i], np.min(X[:,i]), np.max(X[:,i]))"
   ]
  },
  {
   "cell_type": "code",
   "execution_count": 9,
   "metadata": {
    "collapsed": false
   },
   "outputs": [
    {
     "name": "stdout",
     "output_type": "stream",
     "text": [
      "   sepal_length(cm)  sepal_width(cm)  petal_length(cm)  petal_width(cm)\n",
      "0         -0.760405        -0.640145         -0.782428        -0.113954\n",
      "1          2.956555        -1.620762          0.234114         0.969245\n",
      "2          2.809062         1.532508         -0.800492        -0.532507\n"
     ]
    }
   ],
   "source": [
    "## Generating random dataset\n",
    "data_size = 1000\n",
    "df = {}\n",
    "df['sepal_length(cm)'] = np.random.uniform(low=-2, high=3,size=data_size)\n",
    "df['sepal_width(cm)'] = np.random.uniform(low=-3, high=4,size=data_size)\n",
    "df['petal_length(cm)'] = np.random.uniform(low=-2, high=2,size=data_size)\n",
    "df['petal_width(cm)'] = np.random.uniform(low=-2, high=2,size=data_size)\n",
    "random_dataset = pd.DataFrame(data=df, columns=df.keys())\n",
    "print random_dataset.head(3)"
   ]
  },
  {
   "cell_type": "code",
   "execution_count": 10,
   "metadata": {
    "collapsed": false
   },
   "outputs": [
    {
     "name": "stdout",
     "output_type": "stream",
     "text": [
      "(1000, 4)\n"
     ]
    }
   ],
   "source": [
    "print random_dataset.shape"
   ]
  },
  {
   "cell_type": "markdown",
   "metadata": {},
   "source": [
    "### Constructing the model"
   ]
  },
  {
   "cell_type": "code",
   "execution_count": 27,
   "metadata": {
    "collapsed": true
   },
   "outputs": [],
   "source": [
    "NUM_FEATURES = 4\n",
    "NUM_CLASSES = 3\n",
    "NUM_HIDDEN = 128\n",
    "N_EPOCHS = 2000\n",
    "LEARNING_RATE = 1e-4\n",
    "SKIP_STEP = 500"
   ]
  },
  {
   "cell_type": "code",
   "execution_count": 28,
   "metadata": {
    "collapsed": true
   },
   "outputs": [],
   "source": [
    "tf.reset_default_graph()"
   ]
  },
  {
   "cell_type": "code",
   "execution_count": 29,
   "metadata": {
    "collapsed": true
   },
   "outputs": [],
   "source": [
    "with tf.variable_scope(\"Placeholder\") as scope:\n",
    "    input_data = tf.placeholder(dtype=tf.float32, shape = [None, NUM_FEATURES], name=\"input_data\")\n",
    "    labels = tf.placeholder(dtype=tf.float32, shape = [None, NUM_CLASSES], name=\"labels\")"
   ]
  },
  {
   "cell_type": "code",
   "execution_count": 30,
   "metadata": {
    "collapsed": false
   },
   "outputs": [],
   "source": [
    "with tf.variable_scope(\"hidden_layer\") as scope:\n",
    "    w = tf.Variable(initial_value = tf.random_normal(shape=[NUM_FEATURES, NUM_HIDDEN]), name=\"weights\")\n",
    "    b = tf.Variable(initial_value = tf.random_normal(shape=[NUM_HIDDEN]), name=\"biases\")\n",
    "    activation = tf.matmul(input_data, w) + b\n",
    "    hidden = tf.nn.relu(activation)"
   ]
  },
  {
   "cell_type": "code",
   "execution_count": 31,
   "metadata": {
    "collapsed": true
   },
   "outputs": [],
   "source": [
    "with tf.variable_scope(\"output_layer\") as scope:\n",
    "    w = tf.Variable(initial_value=tf.random_normal(shape=[NUM_HIDDEN, NUM_CLASSES]), name=\"weights\")\n",
    "    b = tf.Variable(initial_value=tf.random_normal(shape=[NUM_CLASSES]), name=\"biases\")\n",
    "    activation = tf.matmul(hidden, w) + b\n",
    "    softmax = tf.nn.softmax(activation)"
   ]
  },
  {
   "cell_type": "code",
   "execution_count": 16,
   "metadata": {
    "collapsed": true
   },
   "outputs": [],
   "source": [
    "with tf.variable_scope(\"loss\") as scope:\n",
    "    loss = tf.reduce_mean(-tf.reduce_sum(labels*(tf.log(softmax)), reduction_indices=[1]))"
   ]
  },
  {
   "cell_type": "code",
   "execution_count": 17,
   "metadata": {
    "collapsed": false
   },
   "outputs": [],
   "source": [
    "with tf.variable_scope(\"optimizer\") as scope:\n",
    "    optimizer = tf.train.AdamOptimizer(LEARNING_RATE).minimize(loss)"
   ]
  },
  {
   "cell_type": "code",
   "execution_count": 19,
   "metadata": {
    "collapsed": false,
    "scrolled": true
   },
   "outputs": [
    {
     "name": "stdout",
     "output_type": "stream",
     "text": [
      "Epoch: 500\n",
      " Loss: 2.45589637756\n",
      "Epoch: 1000\n",
      " Loss: 0.367829591036\n",
      "Epoch: 1500\n",
      " Loss: 0.149226397276\n",
      "Epoch: 2000\n",
      " Loss: 0.107043899596\n",
      "<type 'list'>\n"
     ]
    }
   ],
   "source": [
    "with tf.Session() as sess:\n",
    "    init = tf.global_variables_initializer()\n",
    "    sess.run(init)\n",
    "    \n",
    "    for i in range(1, N_EPOCHS+1):\n",
    "        \n",
    "        _, l = sess.run([optimizer, loss], feed_dict={input_data:X, labels:y})\n",
    "        \n",
    "        if i%SKIP_STEP == 0:\n",
    "            \n",
    "            print 'Epoch: {}\\n Loss: {}'.format(i, l)\n",
    "    \n",
    "    ## Prediction of the model on the random dataset\n",
    "    codes = sess.run([activation], feed_dict={input_data:random_dataset.values})\n",
    "    print type(codes)"
   ]
  },
  {
   "cell_type": "code",
   "execution_count": 24,
   "metadata": {
    "collapsed": false
   },
   "outputs": [
    {
     "name": "stdout",
     "output_type": "stream",
     "text": [
      "(1000, 3)\n"
     ]
    }
   ],
   "source": [
    "print codes[0].shape"
   ]
  },
  {
   "cell_type": "markdown",
   "metadata": {},
   "source": [
    "### White box"
   ]
  },
  {
   "cell_type": "code",
   "execution_count": 32,
   "metadata": {
    "collapsed": true
   },
   "outputs": [],
   "source": [
    "with tf.variable_scope(\"codes\") as scope:\n",
    "    fc_codes = tf.placeholder(dtype=tf.float32, shape=[None, NUM_CLASSES], name=\"fc_codes\")"
   ]
  },
  {
   "cell_type": "code",
   "execution_count": 36,
   "metadata": {
    "collapsed": false
   },
   "outputs": [],
   "source": [
    "with tf.variable_scope(\"new_loss\") as scope:\n",
    "    new_loss = tf.reduce_mean(tf.reduce_sum(tf.squared_difference(fc_codes, activation),reduction_indices=[1]))"
   ]
  },
  {
   "cell_type": "code",
   "execution_count": 34,
   "metadata": {
    "collapsed": true
   },
   "outputs": [],
   "source": [
    "with tf.variable_scope(\"new_optimizer\") as scope:\n",
    "    new_optimizer = tf.train.AdamOptimizer(LEARNING_RATE).minimize(new_loss)"
   ]
  },
  {
   "cell_type": "code",
   "execution_count": 39,
   "metadata": {
    "collapsed": true
   },
   "outputs": [],
   "source": [
    "N_EPOCHS = 5000"
   ]
  },
  {
   "cell_type": "code",
   "execution_count": 40,
   "metadata": {
    "collapsed": false
   },
   "outputs": [
    {
     "name": "stdout",
     "output_type": "stream",
     "text": [
      "Epoch: 500\n",
      "Loss: 1776.35705566\n",
      "Epoch: 1000\n",
      "Loss: 934.065979004\n",
      "Epoch: 1500\n",
      "Loss: 526.511657715\n",
      "Epoch: 2000\n",
      "Loss: 316.689697266\n",
      "Epoch: 2500\n",
      "Loss: 201.941390991\n",
      "Epoch: 3000\n",
      "Loss: 136.450576782\n",
      "Epoch: 3500\n",
      "Loss: 97.4627685547\n",
      "Epoch: 4000\n",
      "Loss: 73.0879745483\n",
      "Epoch: 4500\n",
      "Loss: 57.2642326355\n",
      "Epoch: 5000\n",
      "Loss: 46.6475868225\n"
     ]
    }
   ],
   "source": [
    "with tf.Session() as sess:\n",
    "    init = tf.global_variables_initializer()\n",
    "    sess.run(init)\n",
    "    \n",
    "    for i in range(1, N_EPOCHS+1):\n",
    "        \n",
    "        _, l = sess.run([new_optimizer, new_loss], feed_dict={input_data:random_dataset.values, fc_codes:codes[0]})\n",
    "        \n",
    "        if (i % SKIP_STEP) == 0:\n",
    "            \n",
    "            print 'Epoch: {}\\nLoss: {}'.format(i,l)\n",
    "        \n",
    "    ## Predicting output for the original dataset\n",
    "    op = sess.run([softmax], feed_dict={input_data: X})"
   ]
  },
  {
   "cell_type": "code",
   "execution_count": 44,
   "metadata": {
    "collapsed": false
   },
   "outputs": [
    {
     "name": "stdout",
     "output_type": "stream",
     "text": [
      "0.886666666667\n"
     ]
    }
   ],
   "source": [
    "print np.mean(np.equal(np.argmax(op[0],1),np.argmax(y,1)))"
   ]
  },
  {
   "cell_type": "markdown",
   "metadata": {
    "collapsed": true
   },
   "source": [
    "** The accuracy was changed. I don't remember if it increased or not. NEED TO CHECK IT OUT. As far as I can remember the results still were not that GOOD **"
   ]
  },
  {
   "cell_type": "code",
   "execution_count": null,
   "metadata": {
    "collapsed": true
   },
   "outputs": [],
   "source": []
  }
 ],
 "metadata": {
  "anaconda-cloud": {},
  "kernelspec": {
   "display_name": "Python [default]",
   "language": "python",
   "name": "python2"
  },
  "language_info": {
   "codemirror_mode": {
    "name": "ipython",
    "version": 2
   },
   "file_extension": ".py",
   "mimetype": "text/x-python",
   "name": "python",
   "nbconvert_exporter": "python",
   "pygments_lexer": "ipython2",
   "version": "2.7.12"
  }
 },
 "nbformat": 4,
 "nbformat_minor": 1
}
