{
 "cells": [
  {
   "cell_type": "markdown",
   "metadata": {},
   "source": [
    "### Checking for the output distribution of the labels \n",
    "\n",
    "Output distribution can provide us about the confidence of the black box on the new random dataset"
   ]
  },
  {
   "cell_type": "code",
   "execution_count": null,
   "metadata": {
    "collapsed": true
   },
   "outputs": [],
   "source": [
    "%matplotlib inline\n",
    "import numpy as np\n",
    "import pandas as pd\n",
    "import matplotlib.pyplot as plt\n",
    "import tensorflow as tf\n",
    "import seaborn as sns"
   ]
  },
  {
   "cell_type": "code",
   "execution_count": 4,
   "metadata": {
    "collapsed": false
   },
   "outputs": [],
   "source": [
    "import sys\n",
    "sys.path.insert(0, '../utils/')\n",
    "from generate_random import generate_random\n",
    "sys.path.insert(0, '../Neural Nets/')\n",
    "from black_box import blackBox"
   ]
  },
  {
   "cell_type": "code",
   "execution_count": 6,
   "metadata": {
    "collapsed": false
   },
   "outputs": [
    {
     "name": "stdout",
     "output_type": "stream",
     "text": [
      "(462, 9)\n",
      "(462, 2)\n"
     ]
    }
   ],
   "source": [
    "df = pd.read_csv('../data/heart.csv')\n",
    "labels = pd.get_dummies(df.pop('chd'))`\n",
    "df['famhist'] = df['famhist'].map({\"Absent\":0,\"Present\":1})\n",
    "data = df.values\n",
    "print data.shape\n",
    "print labels.shape"
   ]
  },
  {
   "cell_type": "code",
   "execution_count": 7,
   "metadata": {
    "collapsed": true
   },
   "outputs": [],
   "source": [
    "labels = labels.values"
   ]
  },
  {
   "cell_type": "code",
   "execution_count": 5,
   "metadata": {
    "collapsed": false
   },
   "outputs": [
    {
     "name": "stdout",
     "output_type": "stream",
     "text": [
      "Assembling the graph....\n"
     ]
    }
   ],
   "source": [
    "## Constructing the WHITE BOX\n",
    "## Defining the parameters\n",
    "params = {}\n",
    "params['batch_size'] = 100\n",
    "params['learning_rate'] = 1e-4\n",
    "params['n_epochs'] = 10\n",
    "NUM_FEATURES = 9\n",
    "NUM_CLASSES = 2\n",
    "NUM_NEURONES = 1024\n",
    "\n",
    "## Assembling the graph\n",
    "print 'Assembling the graph....'\n",
    "model = blackBox(params,\"black_box\")\n",
    "image,label = model._create_placeholder(num_input=NUM_FEATURES,num_output=NUM_CLASSES,layer_name=\"placeholder_bb\")\n",
    "hidden_1 = model._create_hidden_layer(image,NUM_NEURONES,\"hidden_1_bb\")\n",
    "hidden_2 = model._create_hidden_layer(hidden_1,NUM_NEURONES,\"hidden_2_bb\")\n",
    "softmax = model._create_softmax(hidden_2,NUM_CLASSES,\"softmax_bb\")\n",
    "model._create_loss(label,softmax,\"loss_bb\")\n",
    "model._create_optimizer(\"optimizer_bb\")\n",
    "model._accuracy(label,softmax,\"accuracy_bb\")\n",
    "model._create_summaries(\"summary_bb\")"
   ]
  },
  {
   "cell_type": "code",
   "execution_count": 8,
   "metadata": {
    "collapsed": false
   },
   "outputs": [
    {
     "name": "stdout",
     "output_type": "stream",
     "text": [
      "Training the model...\n"
     ]
    },
    {
     "name": "stderr",
     "output_type": "stream",
     "text": [
      "100%|██████████| 4/4 [00:00<00:00, 25.76it/s]\n",
      "100%|██████████| 4/4 [00:00<00:00, 33.37it/s]\n",
      "  0%|          | 0/4 [00:00<?, ?it/s]"
     ]
    },
    {
     "name": "stdout",
     "output_type": "stream",
     "text": [
      "Epoch: 1\tLoss: 13.5138453245\tAccuracy: 0.507500000298\n",
      "Epoch: 2\tLoss: 8.87897819281\tAccuracy: 0.605000004172\n"
     ]
    },
    {
     "name": "stderr",
     "output_type": "stream",
     "text": [
      "100%|██████████| 4/4 [00:00<00:00, 32.32it/s]\n",
      "100%|██████████| 4/4 [00:00<00:00, 36.07it/s]\n",
      "  0%|          | 0/4 [00:00<?, ?it/s]"
     ]
    },
    {
     "name": "stdout",
     "output_type": "stream",
     "text": [
      "Epoch: 3\tLoss: 5.87000745535\tAccuracy: 0.434999994934\n",
      "Epoch: 4\tLoss: 5.28006112576\tAccuracy: 0.647500008345\n"
     ]
    },
    {
     "name": "stderr",
     "output_type": "stream",
     "text": [
      "100%|██████████| 4/4 [00:00<00:00, 33.76it/s]\n"
     ]
    },
    {
     "name": "stdout",
     "output_type": "stream",
     "text": [
      "Saving Checkpoint...\n"
     ]
    },
    {
     "name": "stderr",
     "output_type": "stream",
     "text": [
      "100%|██████████| 4/4 [00:00<00:00, 30.26it/s]\n",
      "  0%|          | 0/4 [00:00<?, ?it/s]"
     ]
    },
    {
     "name": "stdout",
     "output_type": "stream",
     "text": [
      "Epoch: 5\tLoss: 3.84243559837\tAccuracy: 0.562499985099\n",
      "Epoch: 6\tLoss: 3.06907945871\tAccuracy: 0.642499998212\n"
     ]
    },
    {
     "name": "stderr",
     "output_type": "stream",
     "text": [
      "100%|██████████| 4/4 [00:00<00:00, 32.41it/s]\n",
      "100%|██████████| 4/4 [00:00<00:00, 34.57it/s]\n",
      "  0%|          | 0/4 [00:00<?, ?it/s]"
     ]
    },
    {
     "name": "stdout",
     "output_type": "stream",
     "text": [
      "Epoch: 7\tLoss: 3.09129542112\tAccuracy: 0.622500002384\n",
      "Epoch: 8\tLoss: 2.73672753572\tAccuracy: 0.644999995828\n"
     ]
    },
    {
     "name": "stderr",
     "output_type": "stream",
     "text": [
      "100%|██████████| 4/4 [00:00<00:00, 33.74it/s]\n",
      "100%|██████████| 4/4 [00:00<00:00, 31.07it/s]\n"
     ]
    },
    {
     "name": "stdout",
     "output_type": "stream",
     "text": [
      "Epoch: 9\tLoss: 2.64527398348\tAccuracy: 0.66249999404\n",
      "Saving Checkpoint...\n",
      "Epoch: 10\tLoss: 2.44994527102\tAccuracy: 0.65000000596\n"
     ]
    }
   ],
   "source": [
    "print 'Training the model...'\n",
    "model.train((data,labels),file_name=\"test\")"
   ]
  },
  {
   "cell_type": "code",
   "execution_count": 9,
   "metadata": {
    "collapsed": false
   },
   "outputs": [
    {
     "name": "stdout",
     "output_type": "stream",
     "text": [
      "(10000, 9)\n"
     ]
    }
   ],
   "source": [
    "data_size = 10000\n",
    "random_dataset = generate_random(data_size)\n",
    "print random_dataset.shape"
   ]
  },
  {
   "cell_type": "code",
   "execution_count": 11,
   "metadata": {
    "collapsed": false
   },
   "outputs": [
    {
     "name": "stdout",
     "output_type": "stream",
     "text": [
      "Restoring checkpoint...\n",
      "INFO:tensorflow:Restoring parameters from ../checkpoints/test/test\n",
      "(10000, 2)\n"
     ]
    }
   ],
   "source": [
    "proba = model.predict(random_dataset,file_name=\"test\")\n",
    "print proba.shape"
   ]
  },
  {
   "cell_type": "code",
   "execution_count": 21,
   "metadata": {
    "collapsed": false
   },
   "outputs": [
    {
     "data": {
      "text/plain": [
       "[]"
      ]
     },
     "execution_count": 21,
     "metadata": {},
     "output_type": "execute_result"
    },
    {
     "data": {
      "image/png": "[encoded data removed]",
      "text/plain": [
       "<matplotlib.figure.Figure at 0x121d58810>"
      ]
     },
     "metadata": {},
     "output_type": "display_data"
    }
   ],
   "source": [
    "plt.hist(np.max(proba[0:100,:],1))\n",
    "plt.plot()"
   ]
  },
  {
   "cell_type": "markdown",
   "metadata": {},
   "source": [
    "### ~60 percent of probabilities are less than 80 percent. This means that around 60 percent of the time the black box was not confidence more than 80 percent."
   ]
  },
  {
   "cell_type": "code",
   "execution_count": 50,
   "metadata": {
    "collapsed": false
   },
   "outputs": [
    {
     "name": "stdout",
     "output_type": "stream",
     "text": [
      "(40, 9)\n"
     ]
    }
   ],
   "source": [
    "sample = random_dataset.iloc[0:100,:]\n",
    "sample = sample[np.max(proba[0:100],1) > 0.80]\n",
    "print sample.shape"
   ]
  },
  {
   "cell_type": "code",
   "execution_count": 51,
   "metadata": {
    "collapsed": false
   },
   "outputs": [
    {
     "name": "stdout",
     "output_type": "stream",
     "text": [
      "(160, 9)\n"
     ]
    }
   ],
   "source": [
    "orig = data[np.argmax(labels,1) == 1,:]\n",
    "print orig.shape"
   ]
  },
  {
   "cell_type": "code",
   "execution_count": 52,
   "metadata": {
    "collapsed": false
   },
   "outputs": [
    {
     "name": "stdout",
     "output_type": "stream",
     "text": [
      "Mean Square Root Distance:  136.139297414\n"
     ]
    }
   ],
   "source": [
    "x = np.sum(np.square(orig[0:40,:] - sample),1).values\n",
    "print 'Mean Square Root Distance: ',np.mean(np.sqrt(x))"
   ]
  },
  {
   "cell_type": "code",
   "execution_count": 53,
   "metadata": {
    "collapsed": false
   },
   "outputs": [
    {
     "name": "stdout",
     "output_type": "stream",
     "text": [
      "(60, 9)\n"
     ]
    }
   ],
   "source": [
    "sample = random_dataset.iloc[0:100,:]\n",
    "sample = sample[(np.max(proba[0:100],1) < 0.80) & (np.max(proba[0:100],1) >= 0.50)]\n",
    "print sample.shape"
   ]
  },
  {
   "cell_type": "code",
   "execution_count": 54,
   "metadata": {
    "collapsed": false
   },
   "outputs": [
    {
     "name": "stdout",
     "output_type": "stream",
     "text": [
      "Mean Square Root Distance:  125.393887684\n"
     ]
    }
   ],
   "source": [
    "x = np.sum(np.square(orig[0:60,:] - sample),1).values\n",
    "print 'Mean Square Root Distance: ',np.mean(np.sqrt(x))"
   ]
  },
  {
   "cell_type": "code",
   "execution_count": null,
   "metadata": {
    "collapsed": false
   },
   "outputs": [],
   "source": []
  },
  {
   "cell_type": "code",
   "execution_count": null,
   "metadata": {
    "collapsed": true
   },
   "outputs": [],
   "source": []
  }
 ],
 "metadata": {
  "kernelspec": {
   "display_name": "Python [default]",
   "language": "python",
   "name": "python2"
  },
  "language_info": {
   "codemirror_mode": {
    "name": "ipython",
    "version": 2
   },
   "file_extension": ".py",
   "mimetype": "text/x-python",
   "name": "python",
   "nbconvert_exporter": "python",
   "pygments_lexer": "ipython2",
   "version": "2.7.12"
  }
 },
 "nbformat": 4,
 "nbformat_minor": 1
}
