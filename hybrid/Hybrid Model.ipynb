{
 "cells": [
  {
   "cell_type": "markdown",
   "metadata": {},
   "source": [
    "## Using a hybrid of Random Forest and Neural Network \n",
    "Random Forest as Black Box and Neural Network as the White Box and vice versa"
   ]
  },
  {
   "cell_type": "code",
   "execution_count": 1,
   "metadata": {
    "collapsed": true
   },
   "outputs": [],
   "source": [
    "%matplotlib inline\n",
    "import pandas as pd\n",
    "import tensorflow as tf\n",
    "import numpy as np\n",
    "import matplotlib.pyplot as plt\n",
    "import seaborn as sns"
   ]
  },
  {
   "cell_type": "code",
   "execution_count": 2,
   "metadata": {
    "collapsed": false
   },
   "outputs": [],
   "source": [
    "import sys\n",
    "sys.path.insert(0, '../utils/')\n",
    "from generate_random import generate_random\n",
    "sys.path.insert(0, '../Neural Nets/')\n",
    "from black_box import blackBox"
   ]
  },
  {
   "cell_type": "code",
   "execution_count": 3,
   "metadata": {
    "collapsed": true
   },
   "outputs": [],
   "source": [
    "from sklearn.ensemble import RandomForestRegressor"
   ]
  },
  {
   "cell_type": "code",
   "execution_count": 4,
   "metadata": {
    "collapsed": false
   },
   "outputs": [
    {
     "name": "stdout",
     "output_type": "stream",
     "text": [
      "(462, 9)\n",
      "(462, 2)\n"
     ]
    }
   ],
   "source": [
    "df = pd.read_csv('../data/heart.csv')\n",
    "labels = pd.get_dummies(df.pop('chd'))\n",
    "df['famhist'] = df['famhist'].map({\"Absent\":0,\"Present\":1})\n",
    "data = df.values\n",
    "print data.shape\n",
    "print labels.shape"
   ]
  },
  {
   "cell_type": "code",
   "execution_count": 5,
   "metadata": {
    "collapsed": false
   },
   "outputs": [
    {
     "data": {
      "text/plain": [
       "RandomForestRegressor(bootstrap=True, criterion='mse', max_depth=None,\n",
       "           max_features='auto', max_leaf_nodes=None,\n",
       "           min_impurity_split=1e-07, min_samples_leaf=1,\n",
       "           min_samples_split=2, min_weight_fraction_leaf=0.0,\n",
       "           n_estimators=10, n_jobs=1, oob_score=False, random_state=None,\n",
       "           verbose=0, warm_start=False)"
      ]
     },
     "execution_count": 5,
     "metadata": {},
     "output_type": "execute_result"
    }
   ],
   "source": [
    "## Training the black box\n",
    "rfc = RandomForestRegressor()\n",
    "rfc.fit(data, labels)"
   ]
  },
  {
   "cell_type": "code",
   "execution_count": 6,
   "metadata": {
    "collapsed": false
   },
   "outputs": [
    {
     "name": "stdout",
     "output_type": "stream",
     "text": [
      "(50000, 9)\n"
     ]
    }
   ],
   "source": [
    "## Generating random data\n",
    "data_size = 50000\n",
    "random_data = generate_random(data_size).values\n",
    "print random_data.shape"
   ]
  },
  {
   "cell_type": "code",
   "execution_count": 7,
   "metadata": {
    "collapsed": false
   },
   "outputs": [
    {
     "name": "stdout",
     "output_type": "stream",
     "text": [
      "(50000, 2)\n"
     ]
    }
   ],
   "source": [
    "## Prediction of black box on the random data\n",
    "predictions = rfc.predict(random_data)\n",
    "print predictions.shape"
   ]
  },
  {
   "cell_type": "code",
   "execution_count": 8,
   "metadata": {
    "collapsed": false
   },
   "outputs": [
    {
     "name": "stdout",
     "output_type": "stream",
     "text": [
      "Assembling the graph....\n"
     ]
    }
   ],
   "source": [
    "## Constructing the WHITE BOX\n",
    "## Defining the parameters\n",
    "params = {}\n",
    "params['batch_size'] = 100\n",
    "params['learning_rate'] = 1e-4\n",
    "params['n_epochs'] = 10\n",
    "NUM_FEATURES = 9\n",
    "NUM_CLASSES = 2\n",
    "NUM_NEURONES = 1024\n",
    "\n",
    "## Assembling the graph\n",
    "print 'Assembling the graph....'\n",
    "model = blackBox(params,\"black_box\")\n",
    "image,label = model._create_placeholder(num_input=NUM_FEATURES,num_output=NUM_CLASSES,layer_name=\"placeholder_bb\")\n",
    "hidden_1 = model._create_hidden_layer(image,NUM_NEURONES,\"hidden_1_bb\")\n",
    "hidden_2 = model._create_hidden_layer(hidden_1,NUM_NEURONES,\"hidden_2_bb\")\n",
    "softmax = model._create_softmax(hidden_2,NUM_CLASSES,\"softmax_bb\")\n",
    "model._create_loss(label,softmax,\"loss_bb\")\n",
    "model._create_optimizer(\"optimizer_bb\")\n",
    "model._accuracy(label,softmax,\"accuracy_bb\")\n",
    "model._create_summaries(\"summary_bb\")"
   ]
  },
  {
   "cell_type": "code",
   "execution_count": 9,
   "metadata": {
    "collapsed": false,
    "scrolled": true
   },
   "outputs": [
    {
     "name": "stdout",
     "output_type": "stream",
     "text": [
      "Training the model...\n",
      "Restoring checkpoint...\n",
      "INFO:tensorflow:Restoring parameters from ../checkpoints/hybrid/hybrid\n"
     ]
    },
    {
     "name": "stderr",
     "output_type": "stream",
     "text": [
      "100%|██████████| 500/500 [00:13<00:00, 36.43it/s]\n",
      "  1%|          | 4/500 [00:00<00:14, 35.12it/s]"
     ]
    },
    {
     "name": "stdout",
     "output_type": "stream",
     "text": [
      "Epoch: 1\tLoss: 321.115026534\tAccuracy: 0.796599998355\n"
     ]
    },
    {
     "name": "stderr",
     "output_type": "stream",
     "text": [
      "100%|██████████| 500/500 [00:13<00:00, 36.84it/s]\n",
      "  1%|          | 4/500 [00:00<00:14, 34.71it/s]"
     ]
    },
    {
     "name": "stdout",
     "output_type": "stream",
     "text": [
      "Epoch: 2\tLoss: 317.148293734\tAccuracy: 0.817019998252\n"
     ]
    },
    {
     "name": "stderr",
     "output_type": "stream",
     "text": [
      "100%|██████████| 500/500 [00:13<00:00, 36.76it/s]\n",
      "  1%|          | 4/500 [00:00<00:14, 35.17it/s]"
     ]
    },
    {
     "name": "stdout",
     "output_type": "stream",
     "text": [
      "Epoch: 3\tLoss: 316.177618325\tAccuracy: 0.822599999785\n"
     ]
    },
    {
     "name": "stderr",
     "output_type": "stream",
     "text": [
      "100%|██████████| 500/500 [00:14<00:00, 35.05it/s]\n",
      "  1%|          | 4/500 [00:00<00:13, 37.22it/s]"
     ]
    },
    {
     "name": "stdout",
     "output_type": "stream",
     "text": [
      "Epoch: 4\tLoss: 315.959846199\tAccuracy: 0.826179998994\n"
     ]
    },
    {
     "name": "stderr",
     "output_type": "stream",
     "text": [
      "100%|██████████| 500/500 [00:13<00:00, 37.73it/s]\n"
     ]
    },
    {
     "name": "stdout",
     "output_type": "stream",
     "text": [
      "Saving Checkpoint...\n"
     ]
    },
    {
     "name": "stderr",
     "output_type": "stream",
     "text": [
      "  1%|          | 4/500 [00:00<00:13, 37.31it/s]"
     ]
    },
    {
     "name": "stdout",
     "output_type": "stream",
     "text": [
      "Epoch: 5\tLoss: 315.306266129\tAccuracy: 0.831119999051\n"
     ]
    },
    {
     "name": "stderr",
     "output_type": "stream",
     "text": [
      "100%|██████████| 500/500 [00:13<00:00, 38.38it/s]\n",
      "  1%|          | 4/500 [00:00<00:12, 38.40it/s]"
     ]
    },
    {
     "name": "stdout",
     "output_type": "stream",
     "text": [
      "Epoch: 6\tLoss: 314.872749746\tAccuracy: 0.832459999144\n"
     ]
    },
    {
     "name": "stderr",
     "output_type": "stream",
     "text": [
      "100%|██████████| 500/500 [00:13<00:00, 37.41it/s]\n",
      "  1%|          | 4/500 [00:00<00:12, 38.47it/s]"
     ]
    },
    {
     "name": "stdout",
     "output_type": "stream",
     "text": [
      "Epoch: 7\tLoss: 314.561488569\tAccuracy: 0.834459999084\n"
     ]
    },
    {
     "name": "stderr",
     "output_type": "stream",
     "text": [
      "100%|██████████| 500/500 [00:13<00:00, 37.85it/s]\n",
      "  1%|          | 4/500 [00:00<00:12, 38.92it/s]"
     ]
    },
    {
     "name": "stdout",
     "output_type": "stream",
     "text": [
      "Epoch: 8\tLoss: 313.839312971\tAccuracy: 0.837019998789\n"
     ]
    },
    {
     "name": "stderr",
     "output_type": "stream",
     "text": [
      "100%|██████████| 500/500 [00:14<00:00, 35.31it/s]\n",
      "  1%|          | 4/500 [00:00<00:13, 36.34it/s]"
     ]
    },
    {
     "name": "stdout",
     "output_type": "stream",
     "text": [
      "Epoch: 9\tLoss: 313.607651711\tAccuracy: 0.838639999986\n"
     ]
    },
    {
     "name": "stderr",
     "output_type": "stream",
     "text": [
      "100%|██████████| 500/500 [00:14<00:00, 37.17it/s]\n"
     ]
    },
    {
     "name": "stdout",
     "output_type": "stream",
     "text": [
      "Saving Checkpoint...\n",
      "Epoch: 10\tLoss: 313.111818552\tAccuracy: 0.842820000291\n"
     ]
    }
   ],
   "source": [
    "print 'Training the model...'\n",
    "model.train((random_data,predictions),file_name=\"hybrid\")"
   ]
  },
  {
   "cell_type": "code",
   "execution_count": 10,
   "metadata": {
    "collapsed": false
   },
   "outputs": [
    {
     "name": "stdout",
     "output_type": "stream",
     "text": [
      "Restoring checkpoint...\n",
      "INFO:tensorflow:Restoring parameters from ../checkpoints/hybrid/hybrid\n"
     ]
    }
   ],
   "source": [
    "output = model.predict(data,file_name=\"hybrid\")"
   ]
  },
  {
   "cell_type": "code",
   "execution_count": 11,
   "metadata": {
    "collapsed": false
   },
   "outputs": [
    {
     "name": "stdout",
     "output_type": "stream",
     "text": [
      "(462, 2)\n"
     ]
    }
   ],
   "source": [
    "print output.shape"
   ]
  },
  {
   "cell_type": "code",
   "execution_count": 12,
   "metadata": {
    "collapsed": false
   },
   "outputs": [
    {
     "name": "stdout",
     "output_type": "stream",
     "text": [
      "0.619047619048\n"
     ]
    }
   ],
   "source": [
    "print np.mean(np.equal(np.argmax(output, 1),np.argmax(labels.values, 1)))"
   ]
  },
  {
   "cell_type": "code",
   "execution_count": 13,
   "metadata": {
    "collapsed": false
   },
   "outputs": [
    {
     "name": "stdout",
     "output_type": "stream",
     "text": [
      "0.830478890728\n"
     ]
    }
   ],
   "source": [
    "print rfc.score(data, labels.values)"
   ]
  },
  {
   "cell_type": "markdown",
   "metadata": {
    "collapsed": true
   },
   "source": [
    "** Results didn't improve much on using a hybrid approach towards the cloning problem **"
   ]
  },
  {
   "cell_type": "code",
   "execution_count": null,
   "metadata": {
    "collapsed": true
   },
   "outputs": [],
   "source": []
  }
 ],
 "metadata": {
  "anaconda-cloud": {},
  "kernelspec": {
   "display_name": "Python [default]",
   "language": "python",
   "name": "python2"
  },
  "language_info": {
   "codemirror_mode": {
    "name": "ipython",
    "version": 2
   },
   "file_extension": ".py",
   "mimetype": "text/x-python",
   "name": "python",
   "nbconvert_exporter": "python",
   "pygments_lexer": "ipython2",
   "version": "2.7.12"
  }
 },
 "nbformat": 4,
 "nbformat_minor": 1
}
