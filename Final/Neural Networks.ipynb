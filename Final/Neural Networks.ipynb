{
 "cells": [
  {
   "cell_type": "code",
   "execution_count": 1,
   "metadata": {
    "collapsed": false
   },
   "outputs": [
    {
     "name": "stderr",
     "output_type": "stream",
     "text": [
      "Using TensorFlow backend.\n"
     ]
    }
   ],
   "source": [
    "# Standard Libraries\n",
    "import pandas as pd\n",
    "import numpy as np\n",
    "import matplotlib.pyplot as plt\n",
    "import seaborn as sns\n",
    "from sklearn import datasets\n",
    "from utils import generate_pure_random, generate_constrained_random\n",
    "from experiment import Random\n",
    "\n",
    "# Keras Library for Neural Network\n",
    "from keras.layers import Dense\n",
    "from keras.models import Sequential"
   ]
  },
  {
   "cell_type": "code",
   "execution_count": 29,
   "metadata": {
    "collapsed": false
   },
   "outputs": [],
   "source": [
    "def create_model(num_features, num_output):\n",
    "    model = Sequential()\n",
    "    model.add(Dense(128, input_dim=num_features, activation='relu'))\n",
    "    model.add(Dense(256, activation='relu'))\n",
    "    model.add(Dense(num_output, activation='softmax'))\n",
    "    return model\n",
    "\n",
    "def run_network(model, X, y, feature_names, verbose=False, num_epochs=10):\n",
    "    model.compile(loss='binary_crossentropy', optimizer='adam', metrics=['accuracy'])\n",
    "    model.fit(X, y, epochs=num_epochs, batch_size=10, verbose=verbose)\n",
    "    X_random = generate_constrained_random(X, feature_names, data_size=1000).values\n",
    "    y_random = model.predict(X_random)\n",
    "    return X_random, y_random\n",
    "\n",
    "def check_performance(model, X_random, y_random, X, y, verbose=False, num_epochs=10):\n",
    "    model.compile(loss='binary_crossentropy', optimizer='adam', metrics=['accuracy'])\n",
    "    model.fit(X_random, y_random, epochs=num_epochs, batch_size=10, verbose=verbose)\n",
    "    preds = model.predict(X)\n",
    "    return np.mean(np.equal(np.argmax(y, 1), np.argmax(preds, 1)))"
   ]
  },
  {
   "cell_type": "code",
   "execution_count": 30,
   "metadata": {
    "collapsed": false
   },
   "outputs": [
    {
     "name": "stdout",
     "output_type": "stream",
     "text": [
      "(100, 4) (100, 2)\n",
      "(1000, 4) (1000, 2)\n",
      "Epoch 1/10\n",
      "1000/1000 [==============================] - 1s - loss: 0.2697 - acc: 0.0220     \n",
      "Epoch 2/10\n",
      "1000/1000 [==============================] - 0s - loss: 0.1207 - acc: 0.0220     \n",
      "Epoch 3/10\n",
      "1000/1000 [==============================] - 0s - loss: 0.1066 - acc: 0.0220     \n",
      "Epoch 4/10\n",
      "1000/1000 [==============================] - 0s - loss: 0.1055 - acc: 0.0220     \n",
      "Epoch 5/10\n",
      "1000/1000 [==============================] - 0s - loss: 0.1033 - acc: 0.0220     \n",
      "Epoch 6/10\n",
      "1000/1000 [==============================] - 0s - loss: 0.1036 - acc: 0.0220     \n",
      "Epoch 7/10\n",
      "1000/1000 [==============================] - 0s - loss: 0.1042 - acc: 0.0220     \n",
      "Epoch 8/10\n",
      "1000/1000 [==============================] - 0s - loss: 0.1026 - acc: 0.0220     \n",
      "Epoch 9/10\n",
      "1000/1000 [==============================] - 0s - loss: 0.1027 - acc: 0.0220     \n",
      "Epoch 10/10\n",
      "1000/1000 [==============================] - 0s - loss: 0.1028 - acc: 0.0220     \n",
      "Whitebox score on original dataset:  1.0\n"
     ]
    }
   ],
   "source": [
    "## Iris Dataset\n",
    "data = datasets.load_iris()\n",
    "X = data.data\n",
    "y = data.target\n",
    "feature_names = data.feature_names\n",
    "X = X[(y == 0) | (y == 1), :]\n",
    "y = pd.get_dummies(y[(y == 0) | (y == 1)]).values\n",
    "print X.shape, y.shape\n",
    "\n",
    "model = create_model(4, 2)\n",
    "X_random, y_random = run_network(model, X, y, feature_names, num_epochs=100)\n",
    "print X_random.shape, y_random.shape\n",
    "\n",
    "whitebox = create_model(4, 2)\n",
    "score = check_performance(whitebox, X_random, y_random, X, y, verbose=True, num_epochs=10)\n",
    "print 'Whitebox score on original dataset: ', score"
   ]
  },
  {
   "cell_type": "code",
   "execution_count": 31,
   "metadata": {
    "collapsed": false
   },
   "outputs": [
    {
     "name": "stdout",
     "output_type": "stream",
     "text": [
      "(100, 2) (100, 2)\n",
      "(1000, 2) (1000, 2)\n",
      "Epoch 1/10\n",
      "1000/1000 [==============================] - 1s - loss: 0.4564 - acc: 0.0220     \n",
      "Epoch 2/10\n",
      "1000/1000 [==============================] - 0s - loss: 0.3253 - acc: 0.0220     \n",
      "Epoch 3/10\n",
      "1000/1000 [==============================] - 0s - loss: 0.2488 - acc: 0.0220     \n",
      "Epoch 4/10\n",
      "1000/1000 [==============================] - 0s - loss: 0.1952 - acc: 0.0220     \n",
      "Epoch 5/10\n",
      "1000/1000 [==============================] - 0s - loss: 0.1676 - acc: 0.0220     \n",
      "Epoch 6/10\n",
      "1000/1000 [==============================] - 0s - loss: 0.1500 - acc: 0.0220     \n",
      "Epoch 7/10\n",
      "1000/1000 [==============================] - 0s - loss: 0.1442 - acc: 0.0220     \n",
      "Epoch 8/10\n",
      "1000/1000 [==============================] - 0s - loss: 0.1406 - acc: 0.0220     \n",
      "Epoch 9/10\n",
      "1000/1000 [==============================] - 0s - loss: 0.1404 - acc: 0.0220     \n",
      "Epoch 10/10\n",
      "1000/1000 [==============================] - 0s - loss: 0.1402 - acc: 0.0220     \n",
      "Whitebox score on original dataset:  1.0\n"
     ]
    }
   ],
   "source": [
    "## Make Moons Dataset\n",
    "data = datasets.make_moons()\n",
    "X, y = data\n",
    "y = pd.get_dummies(y).values\n",
    "feature_names = ['feature1', 'feature2']\n",
    "print X.shape, y.shape\n",
    "\n",
    "model = create_model(2, 2)\n",
    "X_random, y_random = run_network(model, X, y, feature_names, num_epochs=100)\n",
    "print X_random.shape, y_random.shape\n",
    "\n",
    "whitebox = create_model(2, 2)\n",
    "score = check_performance(whitebox, X_random, y_random, X, y, verbose=True, num_epochs=10)\n",
    "print 'Whitebox score on original dataset: ', score"
   ]
  },
  {
   "cell_type": "code",
   "execution_count": null,
   "metadata": {
    "collapsed": false
   },
   "outputs": [],
   "source": []
  },
  {
   "cell_type": "code",
   "execution_count": null,
   "metadata": {
    "collapsed": false
   },
   "outputs": [],
   "source": []
  },
  {
   "cell_type": "code",
   "execution_count": null,
   "metadata": {
    "collapsed": false
   },
   "outputs": [],
   "source": []
  },
  {
   "cell_type": "code",
   "execution_count": null,
   "metadata": {
    "collapsed": true
   },
   "outputs": [],
   "source": []
  }
 ],
 "metadata": {
  "anaconda-cloud": {},
  "kernelspec": {
   "display_name": "Python [default]",
   "language": "python",
   "name": "python2"
  },
  "language_info": {
   "codemirror_mode": {
    "name": "ipython",
    "version": 2
   },
   "file_extension": ".py",
   "mimetype": "text/x-python",
   "name": "python",
   "nbconvert_exporter": "python",
   "pygments_lexer": "ipython2",
   "version": "2.7.12"
  }
 },
 "nbformat": 4,
 "nbformat_minor": 1
}
