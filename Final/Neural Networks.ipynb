{
 "cells": [
  {
   "cell_type": "code",
   "execution_count": 36,
   "metadata": {
    "collapsed": false
   },
   "outputs": [],
   "source": [
    "# Standard Libraries\n",
    "import pandas as pd\n",
    "import numpy as np\n",
    "import matplotlib.pyplot as plt\n",
    "import seaborn as sns\n",
    "from sklearn import datasets\n",
    "from utils import generate_pure_random, generate_constrained_random\n",
    "from experiment import Random\n",
    "import pickle as pkl\n",
    "\n",
    "# Keras Library for Neural Network\n",
    "from keras.layers import Dense\n",
    "from keras.models import Sequential"
   ]
  },
  {
   "cell_type": "code",
   "execution_count": 25,
   "metadata": {
    "collapsed": false
   },
   "outputs": [],
   "source": [
    "def create_model(num_features, num_output):\n",
    "    model = Sequential()\n",
    "    model.add(Dense(128, input_dim=num_features, activation='relu'))\n",
    "    model.add(Dense(256, activation='relu'))\n",
    "    model.add(Dense(num_output, activation='softmax'))\n",
    "    return model\n",
    "\n",
    "def run_network(model, X, y, feature_names, verbose=False, num_epochs=10):\n",
    "    model.compile(loss='binary_crossentropy', optimizer='adam', metrics=['accuracy'])\n",
    "    model.fit(X, y, epochs=num_epochs, batch_size=100, verbose=verbose)\n",
    "    print 'Black Box accuracy: ',np.mean(np.equal(np.argmax(y, 1), np.argmax(model.predict(X), 1)))\n",
    "    X_random = generate_constrained_random(X, feature_names, data_size=1000).values\n",
    "    y_random = model.predict(X_random)\n",
    "    return X_random, y_random\n",
    "\n",
    "def check_performance(model, X_random, y_random, X, y, verbose=False, num_epochs=10):\n",
    "    model.compile(loss='binary_crossentropy', optimizer='adam', metrics=['accuracy'])\n",
    "    model.fit(X_random, y_random, epochs=num_epochs, batch_size=10, verbose=verbose)\n",
    "    preds = model.predict(X)\n",
    "    return np.mean(np.equal(np.argmax(y, 1), np.argmax(preds, 1)))"
   ]
  },
  {
   "cell_type": "code",
   "execution_count": 27,
   "metadata": {
    "collapsed": false
   },
   "outputs": [
    {
     "name": "stdout",
     "output_type": "stream",
     "text": [
      "(100, 4) (100, 2)\n",
      "Black Box accuracy:  1.0\n",
      "(1000, 4) (1000, 2)\n",
      "Epoch 1/10\n",
      "1000/1000 [==============================] - 1s - loss: 0.2684 - acc: 0.0000e+00     \n",
      "Epoch 2/10\n",
      "1000/1000 [==============================] - 0s - loss: 0.1806 - acc: 0.0000e+00     \n",
      "Epoch 3/10\n",
      "1000/1000 [==============================] - 0s - loss: 0.1793 - acc: 0.0000e+00     \n",
      "Epoch 4/10\n",
      "1000/1000 [==============================] - 0s - loss: 0.1792 - acc: 0.0000e+00     \n",
      "Epoch 5/10\n",
      "1000/1000 [==============================] - 0s - loss: 0.1791 - acc: 0.0000e+00     \n",
      "Epoch 6/10\n",
      "1000/1000 [==============================] - 0s - loss: 0.1790 - acc: 0.0000e+00     \n",
      "Epoch 7/10\n",
      "1000/1000 [==============================] - 0s - loss: 0.1791 - acc: 0.0000e+00     \n",
      "Epoch 8/10\n",
      "1000/1000 [==============================] - 0s - loss: 0.1791 - acc: 0.0000e+00     \n",
      "Epoch 9/10\n",
      "1000/1000 [==============================] - 0s - loss: 0.1794 - acc: 0.0000e+00     \n",
      "Epoch 10/10\n",
      "1000/1000 [==============================] - 0s - loss: 0.1791 - acc: 0.0000e+00     \n",
      "Whitebox score on original dataset:  1.0\n"
     ]
    }
   ],
   "source": [
    "## Iris Dataset\n",
    "data = datasets.load_iris()\n",
    "X = data.data\n",
    "y = data.target\n",
    "feature_names = data.feature_names\n",
    "X = X[(y == 0) | (y == 1), :]\n",
    "y = pd.get_dummies(y[(y == 0) | (y == 1)]).values\n",
    "print X.shape, y.shape\n",
    "\n",
    "model = create_model(4, 2)\n",
    "X_random, y_random = run_network(model, X, y, feature_names, num_epochs=100)\n",
    "print X_random.shape, y_random.shape\n",
    "\n",
    "whitebox = create_model(4, 2)\n",
    "score = check_performance(whitebox, X_random, y_random, X, y, verbose=True, num_epochs=10)\n",
    "print 'Whitebox score on original dataset: ', score"
   ]
  },
  {
   "cell_type": "code",
   "execution_count": 28,
   "metadata": {
    "collapsed": false
   },
   "outputs": [
    {
     "name": "stdout",
     "output_type": "stream",
     "text": [
      "(100, 2) (100, 2)\n",
      "Black Box accuracy:  0.94\n",
      "(1000, 2) (1000, 2)\n",
      "Epoch 1/10\n",
      "1000/1000 [==============================] - 1s - loss: 0.3657 - acc: 0.0000e+00     \n",
      "Epoch 2/10\n",
      "1000/1000 [==============================] - 0s - loss: 0.2913 - acc: 0.0000e+00     \n",
      "Epoch 3/10\n",
      "1000/1000 [==============================] - 0s - loss: 0.2861 - acc: 0.0000e+00     \n",
      "Epoch 4/10\n",
      "1000/1000 [==============================] - 0s - loss: 0.2836 - acc: 0.0000e+00     \n",
      "Epoch 5/10\n",
      "1000/1000 [==============================] - 0s - loss: 0.2827 - acc: 0.0000e+00     \n",
      "Epoch 6/10\n",
      "1000/1000 [==============================] - 0s - loss: 0.2824 - acc: 0.0000e+00     \n",
      "Epoch 7/10\n",
      "1000/1000 [==============================] - 0s - loss: 0.2824 - acc: 0.0000e+00     \n",
      "Epoch 8/10\n",
      "1000/1000 [==============================] - 0s - loss: 0.2824 - acc: 0.0000e+00     \n",
      "Epoch 9/10\n",
      "1000/1000 [==============================] - 0s - loss: 0.2823 - acc: 0.0000e+00     \n",
      "Epoch 10/10\n",
      "1000/1000 [==============================] - 0s - loss: 0.2823 - acc: 0.0000e+00     \n",
      "Whitebox score on original dataset:  0.94\n"
     ]
    }
   ],
   "source": [
    "## Make Moons Dataset\n",
    "data = datasets.make_moons()\n",
    "X, y = data\n",
    "y = pd.get_dummies(y).values\n",
    "feature_names = ['feature1', 'feature2']\n",
    "print X.shape, y.shape\n",
    "\n",
    "model = create_model(2, 2)\n",
    "X_random, y_random = run_network(model, X, y, feature_names, num_epochs=100)\n",
    "print X_random.shape, y_random.shape\n",
    "\n",
    "whitebox = create_model(2, 2)\n",
    "score = check_performance(whitebox, X_random, y_random, X, y, verbose=True, num_epochs=10)\n",
    "print 'Whitebox score on original dataset: ', score"
   ]
  },
  {
   "cell_type": "code",
   "execution_count": 30,
   "metadata": {
    "collapsed": false
   },
   "outputs": [
    {
     "name": "stdout",
     "output_type": "stream",
     "text": [
      "(569, 30) (569, 2)\n",
      "Black Box accuracy:  0.372583479789\n",
      "(1000, 30) (1000, 2)\n",
      "Epoch 1/10\n",
      "1000/1000 [==============================] - 1s - loss: 1.0960e-07 - acc: 0.9735     \n",
      "Epoch 2/10\n",
      "1000/1000 [==============================] - 0s - loss: 1.0960e-07 - acc: 0.9735     \n",
      "Epoch 3/10\n",
      "1000/1000 [==============================] - 0s - loss: 1.0960e-07 - acc: 0.9735     \n",
      "Epoch 4/10\n",
      "1000/1000 [==============================] - 0s - loss: 1.0960e-07 - acc: 0.9735     \n",
      "Epoch 5/10\n",
      "1000/1000 [==============================] - 0s - loss: 1.0960e-07 - acc: 0.9735     \n",
      "Epoch 6/10\n",
      "1000/1000 [==============================] - 0s - loss: 1.0960e-07 - acc: 0.9735     \n",
      "Epoch 7/10\n",
      "1000/1000 [==============================] - 0s - loss: 1.0960e-07 - acc: 0.9735     \n",
      "Epoch 8/10\n",
      "1000/1000 [==============================] - 0s - loss: 1.0960e-07 - acc: 0.9735     \n",
      "Epoch 9/10\n",
      "1000/1000 [==============================] - 0s - loss: 1.0960e-07 - acc: 0.9735     \n",
      "Epoch 10/10\n",
      "1000/1000 [==============================] - 0s - loss: 1.0960e-07 - acc: 0.9735     \n",
      "Whitebox score on original dataset:  0.372583479789\n"
     ]
    }
   ],
   "source": [
    "## Breast Cancer Dataset\n",
    "data = datasets.load_breast_cancer()\n",
    "X = data.data\n",
    "y = pd.get_dummies(data.target).values\n",
    "feature_names = data.feature_names\n",
    "print X.shape, y.shape\n",
    "\n",
    "model = create_model(X.shape[1], y.shape[1])\n",
    "X_random, y_random = run_network(model, X, y, feature_names, num_epochs=10)\n",
    "print X_random.shape, y_random.shape\n",
    "\n",
    "whitebox = create_model(X_random.shape[1], y_random.shape[1])\n",
    "score = check_performance(whitebox, X_random, y_random, X, y, verbose=True, num_epochs=10)\n",
    "print 'Whitebox score on original dataset: ', score"
   ]
  },
  {
   "cell_type": "code",
   "execution_count": 34,
   "metadata": {
    "collapsed": false
   },
   "outputs": [
    {
     "name": "stdout",
     "output_type": "stream",
     "text": [
      "(462, 9) (462, 2)\n",
      "Black Box accuracy:  0.774891774892\n",
      "(1000, 9) (1000, 2)\n",
      "Epoch 1/10\n",
      "1000/1000 [==============================] - 1s - loss: 1.1345 - acc: 0.0125     \n",
      "Epoch 2/10\n",
      "1000/1000 [==============================] - 0s - loss: 0.4731 - acc: 0.0135     \n",
      "Epoch 3/10\n",
      "1000/1000 [==============================] - 0s - loss: 0.4741 - acc: 0.0135     \n",
      "Epoch 4/10\n",
      "1000/1000 [==============================] - 0s - loss: 0.5062 - acc: 0.0135     \n",
      "Epoch 5/10\n",
      "1000/1000 [==============================] - 0s - loss: 0.3447 - acc: 0.0135     \n",
      "Epoch 6/10\n",
      "1000/1000 [==============================] - 0s - loss: 0.3706 - acc: 0.0135     \n",
      "Epoch 7/10\n",
      "1000/1000 [==============================] - 0s - loss: 0.3317 - acc: 0.0135     \n",
      "Epoch 8/10\n",
      "1000/1000 [==============================] - 0s - loss: 0.5599 - acc: 0.0135     \n",
      "Epoch 9/10\n",
      "1000/1000 [==============================] - 0s - loss: 0.3474 - acc: 0.0135     \n",
      "Epoch 10/10\n",
      "1000/1000 [==============================] - 0s - loss: 0.3113 - acc: 0.0135     \n",
      "Whitebox score on original dataset:  0.707792207792\n"
     ]
    }
   ],
   "source": [
    "## Heart Dataset\n",
    "data = pd.read_csv('../data/heart.csv')\n",
    "data['famhist'] = data['famhist'].map({\"Absent\": 0, \"Present\":1})\n",
    "y = pd.get_dummies(data.pop(\"chd\")).values\n",
    "X = data.values\n",
    "feature_names = data.columns\n",
    "print X.shape, y.shape\n",
    "\n",
    "model = create_model(X.shape[1], y.shape[1])\n",
    "X_random, y_random = run_network(model, X, y, feature_names, num_epochs=100)\n",
    "print X_random.shape, y_random.shape\n",
    "\n",
    "whitebox = create_model(X_random.shape[1], y_random.shape[1])\n",
    "score = check_performance(whitebox, X_random, y_random, X, y, verbose=True, num_epochs=10)\n",
    "print 'Whitebox score on original dataset: ', score"
   ]
  },
  {
   "cell_type": "code",
   "execution_count": 42,
   "metadata": {
    "collapsed": false
   },
   "outputs": [
    {
     "name": "stdout",
     "output_type": "stream",
     "text": [
      "(32561, 107) (32561, 2)\n",
      "Black Box accuracy:  0.240809557446\n",
      "(1000, 107) (1000, 2)\n",
      "Whitebox score on original dataset:  0.759190442554\n"
     ]
    }
   ],
   "source": [
    "## Adult Census dataset\n",
    "with open('../../../Dataset/Census/train.pkl', 'rb') as fp:\n",
    "    data = pkl.load(fp)\n",
    "with open('../../../Dataset/Census/label.pkl', 'rb') as fp:\n",
    "    label = pkl.load(fp)\n",
    "feature_names = data.columns\n",
    "X = data.values\n",
    "y = pd.get_dummies(label).values\n",
    "print X.shape, y.shape\n",
    "\n",
    "model = create_model(X.shape[1], y.shape[1])\n",
    "X_random, y_random = run_network(model, X, y, feature_names, num_epochs=10)\n",
    "print X_random.shape, y_random.shape\n",
    "\n",
    "whitebox = create_model(X_random.shape[1], y_random.shape[1])\n",
    "score = check_performance(whitebox, X_random, y_random, X, y, verbose=False, num_epochs=100)\n",
    "print 'Whitebox score on original dataset: ', score"
   ]
  },
  {
   "cell_type": "code",
   "execution_count": 47,
   "metadata": {
    "collapsed": false
   },
   "outputs": [
    {
     "name": "stdout",
     "output_type": "stream",
     "text": [
      "(8124, 112) (8124, 2)\n",
      "Black Box accuracy:  1.0\n",
      "(1000, 112) (1000, 2)\n",
      "Whitebox score on original dataset:  0.60548990645\n"
     ]
    }
   ],
   "source": [
    "## Mushroom Dataset\n",
    "with open('../../../Dataset/Mushroom/train.pkl', 'rb') as fp:\n",
    "    data = pkl.load(fp)\n",
    "with open('../../../Dataset/Mushroom/label.pkl', 'rb') as fp:\n",
    "    label = pkl.load(fp)\n",
    "feature_names = data.columns\n",
    "X = data.values\n",
    "y = pd.get_dummies(label).values\n",
    "print X.shape, y.shape\n",
    "\n",
    "model = create_model(X.shape[1], y.shape[1])\n",
    "X_random, y_random = run_network(model, X, y, feature_names, num_epochs=10)\n",
    "print X_random.shape, y_random.shape\n",
    "\n",
    "whitebox = create_model(X_random.shape[1], y_random.shape[1])\n",
    "score = check_performance(whitebox, X_random, y_random, X, y, verbose=False, num_epochs=300)\n",
    "print 'Whitebox score on original dataset: ', score"
   ]
  },
  {
   "cell_type": "code",
   "execution_count": null,
   "metadata": {
    "collapsed": true
   },
   "outputs": [],
   "source": []
  }
 ],
 "metadata": {
  "anaconda-cloud": {},
  "kernelspec": {
   "display_name": "Python [default]",
   "language": "python",
   "name": "python2"
  },
  "language_info": {
   "codemirror_mode": {
    "name": "ipython",
    "version": 2
   },
   "file_extension": ".py",
   "mimetype": "text/x-python",
   "name": "python",
   "nbconvert_exporter": "python",
   "pygments_lexer": "ipython2",
   "version": "2.7.12"
  }
 },
 "nbformat": 4,
 "nbformat_minor": 1
}
