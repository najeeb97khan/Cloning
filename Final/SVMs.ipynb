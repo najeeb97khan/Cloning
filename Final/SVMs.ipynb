{
 "cells": [
  {
   "cell_type": "code",
   "execution_count": 1,
   "metadata": {
    "collapsed": true
   },
   "outputs": [],
   "source": [
    "## Importing standard libraries\n",
    "import pandas as pd\n",
    "import numpy as np\n",
    "import matplotlib.pyplot as plt\n",
    "from sklearn import datasets\n",
    "import seaborn as sns\n",
    "from collections import Counter\n",
    "from sklearn.linear_model import LogisticRegression, RidgeClassifier\n",
    "from sklearn.ensemble import RandomForestClassifier\n",
    "from sklearn.discriminant_analysis import LinearDiscriminantAnalysis, QuadraticDiscriminantAnalysis\n",
    "from sklearn.mixture import GaussianMixture\n",
    "\n",
    "\n",
    "import pickle as pkl\n",
    "\n",
    "## Importing utils\n",
    "from utils import generate_pure_random, generate_constrained_random\n",
    "\n",
    "## Autoreload\n",
    "%load_ext autoreload\n",
    "%autoreload 2\n",
    "\n",
    "## Imporitng random package\n",
    "from experiment import Random\n",
    "\n",
    "## Silence warnings\n",
    "import warnings\n",
    "warnings.filterwarnings('ignore')"
   ]
  },
  {
   "cell_type": "code",
   "execution_count": 2,
   "metadata": {
    "collapsed": false
   },
   "outputs": [],
   "source": [
    "from sklearn import datasets"
   ]
  },
  {
   "cell_type": "code",
   "execution_count": 3,
   "metadata": {
    "collapsed": true
   },
   "outputs": [],
   "source": [
    "data = datasets.load_iris()\n",
    "X = data.data\n",
    "y = data.target"
   ]
  },
  {
   "cell_type": "code",
   "execution_count": 4,
   "metadata": {
    "collapsed": false
   },
   "outputs": [
    {
     "name": "stdout",
     "output_type": "stream",
     "text": [
      "(150, 4)\n",
      "(150,)\n"
     ]
    }
   ],
   "source": [
    "print X.shape\n",
    "print y.shape"
   ]
  },
  {
   "cell_type": "code",
   "execution_count": 5,
   "metadata": {
    "collapsed": false
   },
   "outputs": [
    {
     "name": "stdout",
     "output_type": "stream",
     "text": [
      "(100, 4)\n",
      "(100,)\n"
     ]
    }
   ],
   "source": [
    "X = X[(y == 0) | (y == 1), :]\n",
    "y = y[(y == 0) | (y == 1)]\n",
    "print X.shape\n",
    "print y.shape"
   ]
  },
  {
   "cell_type": "code",
   "execution_count": 6,
   "metadata": {
    "collapsed": false
   },
   "outputs": [
    {
     "data": {
      "text/plain": [
       "<matplotlib.collections.PathCollection at 0x11699f690>"
      ]
     },
     "execution_count": 6,
     "metadata": {},
     "output_type": "execute_result"
    }
   ],
   "source": [
    "plt.scatter(X[:, 0], X[:, 1], c=y, cmap=plt.cm.Spectral)"
   ]
  },
  {
   "cell_type": "code",
   "execution_count": 7,
   "metadata": {
    "collapsed": true
   },
   "outputs": [],
   "source": [
    "from sklearn.svm import SVC"
   ]
  },
  {
   "cell_type": "code",
   "execution_count": 8,
   "metadata": {
    "collapsed": true
   },
   "outputs": [],
   "source": [
    "svc = SVC()"
   ]
  },
  {
   "cell_type": "code",
   "execution_count": 9,
   "metadata": {
    "collapsed": false
   },
   "outputs": [
    {
     "name": "stdout",
     "output_type": "stream",
     "text": [
      "1.0\n"
     ]
    }
   ],
   "source": [
    "svc.fit(X, y)\n",
    "print svc.score(X, y)"
   ]
  },
  {
   "cell_type": "code",
   "execution_count": 10,
   "metadata": {
    "collapsed": false
   },
   "outputs": [
    {
     "name": "stdout",
     "output_type": "stream",
     "text": [
      "(1000, 4)\n"
     ]
    }
   ],
   "source": [
    "X_random = generate_constrained_random(X, data.feature_names, data_size=1000)\n",
    "print X_random.shape"
   ]
  },
  {
   "cell_type": "code",
   "execution_count": 11,
   "metadata": {
    "collapsed": false
   },
   "outputs": [
    {
     "name": "stdout",
     "output_type": "stream",
     "text": [
      "(1000,)\n"
     ]
    }
   ],
   "source": [
    "y_random = svc.predict(X_random)\n",
    "print y_random.shape"
   ]
  },
  {
   "cell_type": "code",
   "execution_count": 12,
   "metadata": {
    "collapsed": false
   },
   "outputs": [
    {
     "data": {
      "text/plain": [
       "Counter({0: 344, 1: 656})"
      ]
     },
     "execution_count": 12,
     "metadata": {},
     "output_type": "execute_result"
    }
   ],
   "source": [
    "Counter(y_random)"
   ]
  },
  {
   "cell_type": "code",
   "execution_count": 13,
   "metadata": {
    "collapsed": false
   },
   "outputs": [
    {
     "data": {
      "text/plain": [
       "<matplotlib.collections.PathCollection at 0x1166e4d50>"
      ]
     },
     "execution_count": 13,
     "metadata": {},
     "output_type": "execute_result"
    }
   ],
   "source": [
    "plt.scatter(X_random.values[:, 0], X_random.values[:, 1], c=y_random, cmap=plt.cm.Spectral)"
   ]
  },
  {
   "cell_type": "code",
   "execution_count": 14,
   "metadata": {
    "collapsed": false
   },
   "outputs": [
    {
     "data": {
      "text/plain": [
       "1.0"
      ]
     },
     "execution_count": 14,
     "metadata": {},
     "output_type": "execute_result"
    }
   ],
   "source": [
    "model = SVC()\n",
    "model.fit(X_random, y_random)\n",
    "model.score(X, y)"
   ]
  },
  {
   "cell_type": "code",
   "execution_count": 15,
   "metadata": {
    "collapsed": false
   },
   "outputs": [
    {
     "name": "stdout",
     "output_type": "stream",
     "text": [
      "(100, 2) (100,)\n",
      "0.98\n",
      "(1000, 2)\n",
      "0.96\n"
     ]
    }
   ],
   "source": [
    "## Make Moons\n",
    "data = datasets.make_moons()\n",
    "X, y = data\n",
    "feature_names = ['feature1', 'feature2']\n",
    "print X.shape, y.shape\n",
    "svc = SVC()\n",
    "svc.fit(X, y)\n",
    "print svc.score(X, y)\n",
    "X_random = generate_constrained_random(X, feature_names, data_size=1000)\n",
    "print X_random.shape\n",
    "model = SVC()\n",
    "model.fit(X_random, svc.predict(X_random))\n",
    "print model.score(X, y)"
   ]
  },
  {
   "cell_type": "code",
   "execution_count": 16,
   "metadata": {
    "collapsed": false
   },
   "outputs": [
    {
     "name": "stdout",
     "output_type": "stream",
     "text": [
      "(569, 30) (569,)\n",
      "1.0\n",
      "(1000, 30)\n",
      "Counter({1: 1000})\n"
     ]
    }
   ],
   "source": [
    "data = datasets.load_breast_cancer()\n",
    "X = data.data\n",
    "y = data.target\n",
    "feature_names = data.feature_names\n",
    "print X.shape, y.shape\n",
    "svc = SVC()\n",
    "svc.fit(X, y)\n",
    "print svc.score(X, y)\n",
    "X_random = generate_constrained_random(X, feature_names, data_size=1000)\n",
    "print X_random.shape\n",
    "model = SVC()\n",
    "y_random = svc.predict(X_random)\n",
    "print Counter(y_random)\n",
    "# model.fit(X_random, y_random)\n",
    "# print model.score(X, y)"
   ]
  },
  {
   "cell_type": "code",
   "execution_count": 17,
   "metadata": {
    "collapsed": false
   },
   "outputs": [
    {
     "name": "stdout",
     "output_type": "stream",
     "text": [
      "(462, 9) (462,)\n",
      "1.0\n",
      "(1000, 9)\n",
      "Counter({0: 1000})\n"
     ]
    }
   ],
   "source": [
    "data = pd.read_csv('../data/heart.csv')\n",
    "data['famhist'] = data['famhist'].map({\"Absent\": 0, \"Present\":1})\n",
    "y = data.pop(\"chd\").values\n",
    "X = data.values\n",
    "feature_names = data.columns\n",
    "print X.shape, y.shape\n",
    "svc = SVC()\n",
    "svc.fit(X, y)\n",
    "print svc.score(X, y)\n",
    "X_random = generate_constrained_random(X, feature_names, data_size=1000)\n",
    "print X_random.shape\n",
    "model = SVC()\n",
    "y_random = svc.predict(X_random)\n",
    "print Counter(y_random)\n",
    "# model.fit(X_random, y_random)\n",
    "# print model.score(X, y)"
   ]
  },
  {
   "cell_type": "code",
   "execution_count": 18,
   "metadata": {
    "collapsed": false
   },
   "outputs": [
    {
     "name": "stdout",
     "output_type": "stream",
     "text": [
      "(1500, 107) (1500,)\n",
      "0.995333333333\n",
      "(1000, 107)\n",
      "Counter({0: 1000})\n"
     ]
    }
   ],
   "source": [
    "with open('../../../Dataset/Adult/train.pkl', 'rb') as fp:\n",
    "    data = pkl.load(fp)\n",
    "with open('../../../Dataset/Adult/label.pkl', 'rb') as fp:\n",
    "    label = pkl.load(fp)\n",
    "feature_names = data.columns\n",
    "X = data.values[0:1500,:]\n",
    "y = label[0:1500]\n",
    "print X.shape, y.shape\n",
    "svc = SVC()\n",
    "svc.fit(X, y)\n",
    "print svc.score(X, y)\n",
    "X_random = generate_constrained_random(X, feature_names, data_size=1000)\n",
    "print X_random.shape\n",
    "model = SVC()\n",
    "y_random = svc.predict(X_random)\n",
    "print Counter(y_random)\n",
    "# model.fit(X_random, y_random)\n",
    "# print model.score(X, y)"
   ]
  },
  {
   "cell_type": "code",
   "execution_count": 19,
   "metadata": {
    "collapsed": false
   },
   "outputs": [
    {
     "name": "stdout",
     "output_type": "stream",
     "text": [
      "(106, 29) (106,)\n",
      "0.990566037736\n",
      "(1000, 29)\n",
      "Counter({1: 1000})\n"
     ]
    }
   ],
   "source": [
    "## Bridges Dataset\n",
    "with open('../../../Dataset/Bridges/train.pkl', 'rb') as fp:\n",
    "    data = pkl.load(fp)\n",
    "with open('../../../Dataset/Bridges/label.pkl', 'rb') as fp:\n",
    "    label = pkl.load(fp)\n",
    "feature_names = data.columns\n",
    "X = data.values\n",
    "y = label\n",
    "print X.shape, y.shape\n",
    "svc = SVC()\n",
    "svc.fit(X, y)\n",
    "print svc.score(X, y)\n",
    "X_random = generate_constrained_random(X, feature_names, data_size=1000)\n",
    "print X_random.shape\n",
    "model = SVC()\n",
    "y_random = svc.predict(X_random)\n",
    "print Counter(y_random)\n",
    "# model.fit(X_random, y_random)\n",
    "# print model.score(X, y)"
   ]
  },
  {
   "cell_type": "code",
   "execution_count": 21,
   "metadata": {
    "collapsed": false
   },
   "outputs": [
    {
     "name": "stdout",
     "output_type": "stream",
     "text": [
      "(8124, 112) (8124,)\n",
      "0.999015263417\n",
      "(1000, 112)\n",
      "Counter({1: 741, 0: 259})\n",
      "0.610782865583\n"
     ]
    }
   ],
   "source": [
    "## Mushroom Dataset\n",
    "with open('../../../Dataset/Mushroom/train.pkl', 'rb') as fp:\n",
    "    data = pkl.load(fp)\n",
    "with open('../../../Dataset/Mushroom/label.pkl', 'rb') as fp:\n",
    "    label = pkl.load(fp)\n",
    "feature_names = data.columns\n",
    "X = data.values\n",
    "y = label\n",
    "print X.shape, y.shape\n",
    "svc = SVC()\n",
    "svc.fit(X, y)\n",
    "print svc.score(X, y)\n",
    "X_random = generate_constrained_random(X, feature_names, data_size=1000)\n",
    "print X_random.shape\n",
    "model = SVC()\n",
    "y_random = svc.predict(X_random)\n",
    "print Counter(y_random)\n",
    "model.fit(X_random, y_random)\n",
    "print model.score(X, y)"
   ]
  },
  {
   "cell_type": "code",
   "execution_count": 42,
   "metadata": {
    "collapsed": false
   },
   "outputs": [],
   "source": [
    "def svm_sgd_plot(X, Y):\n",
    "    #Initialize our SVMs weight vector with zeros (3 values)\n",
    "    w = np.zeros(len(X[0]))\n",
    "    #The learning rate\n",
    "    eta = 1\n",
    "    #how many iterations to train for\n",
    "    epochs = 100\n",
    "    #store misclassifications so we can plot how they change over time\n",
    "    errors = []\n",
    "\n",
    "    #training part, gradient descent part\n",
    "    for epoch in range(1,epochs):\n",
    "        error = 0\n",
    "        for i, x in enumerate(X):\n",
    "            #misclassification\n",
    "            if (Y[i]*np.dot(X[i], w)) < 1:\n",
    "                #misclassified update for ours weights\n",
    "                w = w + eta * ( (X[i] * Y[i]) + (-2  *(1/epoch)* w) )\n",
    "                error += 1\n",
    "            else:\n",
    "                #correct classification, update our weights\n",
    "                w = w + eta * (-2  *(1/epoch)* w)\n",
    "        errors.append(error)\n",
    "        \n",
    "    return w, errors"
   ]
  },
  {
   "cell_type": "code",
   "execution_count": 43,
   "metadata": {
    "collapsed": false,
    "scrolled": true
   },
   "outputs": [],
   "source": [
    "w, errors = svm_sgd_plot(X, y)"
   ]
  },
  {
   "cell_type": "code",
   "execution_count": 44,
   "metadata": {
    "collapsed": false
   },
   "outputs": [
    {
     "data": {
      "image/png": "[encoded data removed]",
      "text/plain": [
       "<matplotlib.figure.Figure at 0x11eb4c810>"
      ]
     },
     "metadata": {},
     "output_type": "display_data"
    }
   ],
   "source": [
    "#lets plot the rate of classification errors during training for our SVM\n",
    "plt.plot(errors)\n",
    "plt.xlabel('Epoch')\n",
    "plt.ylabel('Misclassified')\n",
    "plt.show()"
   ]
  },
  {
   "cell_type": "code",
   "execution_count": 45,
   "metadata": {
    "collapsed": false
   },
   "outputs": [
    {
     "data": {
      "text/plain": [
       "array([ 3932.04771459,  3262.57495   ,  4236.86130385,  3672.72801758,\n",
       "        2735.46449743,  3918.36830951,  3573.67252118,  4340.18487673,\n",
       "        3865.52421167,  3748.54641954,  2633.91256987,  3283.76884901,\n",
       "        4039.39232029,  2166.11413816,  5206.47581853,  4698.28525188,\n",
       "        2524.74346562,  3439.28786601,  4692.22112523,  2097.71783171,\n",
       "        3005.51260814,  3299.78309942,  4367.96920673,  3471.68825113,\n",
       "        3393.01068981,  2997.78998515,  4841.7510163 ,  3675.48300522,\n",
       "        3585.90671123,  2629.30690714,  4375.93972829,  4522.85924206,\n",
       "        4598.02407766,  4285.81822701,  3784.16386132,  3981.91685112,\n",
       "        3345.92525283,  4276.61503823,  4068.98595375,  2820.21000962,\n",
       "        4898.17718859,  3528.5921763 ,  3554.77884325,  2935.21362159,\n",
       "        5444.22504572,  3380.33872677,  4746.77247047,  4806.56512632,\n",
       "        3876.81782202,  3902.18696225,  4400.65650968,  5469.37693442,\n",
       "        2944.31385648,  3777.61588789,  2874.75060167,  4799.27810017,\n",
       "        4439.64987923,  4232.71899557,  3393.61121812,  4407.60422222,\n",
       "        3394.20815825,  4158.72488312,  3901.15977632,  4815.58311761,\n",
       "        4162.88030172,  2742.96563419,  3363.11344194,  4020.60055429,\n",
       "        4516.65976717,  4673.17714627,  4430.76746127,  3697.80644081,\n",
       "        3951.87227817,  3931.35025371,  4545.95022871,  2478.25239784,\n",
       "        4560.44121204,  3860.57272971,  2857.9466821 ,  3324.65795737,\n",
       "        3188.6777088 ,  4612.57402823,  3667.18500035,  3368.46073422,\n",
       "        3977.76247922,  3012.32146225,  3351.69587744,  2781.10865229,\n",
       "        3784.93303986,  3162.22420771,  3342.49413926,  2981.330685  ,\n",
       "        3877.75305498,  3611.25032141,  3600.11144188,  2969.40038625,\n",
       "        4425.1482391 ,  3331.3617483 ,  4348.61474964,  3074.87281506,\n",
       "        3779.46554431,  4385.36073775,  3731.47682593,  4712.51525806,\n",
       "        2964.05801998,  3878.7148332 ,  2498.39268148,  2933.11576034,\n",
       "        2640.31437581,  3085.79023013,  3337.72209088,  3887.66691936,\n",
       "        4138.06729934,  3828.44278536,  3429.04751061,  3730.55662106,\n",
       "        3542.73407519,  3719.02030947,  5280.79711076,  3899.98790104,\n",
       "        2918.87855547,  3848.85364851,  4437.32757601,  2637.13484694,\n",
       "        3646.34133455,  4119.12558127,  3608.63248107,  4096.54094168,\n",
       "        3117.51991683,  3032.12421918,  3358.42237319,  3930.81694583,\n",
       "        4336.16655458,  3570.85574486,  4156.00664362,  4247.22199385,\n",
       "        2924.53177988,  3636.23735211,  4831.46785643,  4915.98351447,\n",
       "        4632.42986431,  3808.42031328,  4406.98531737,  4670.02679191,\n",
       "        4159.52926189,  3584.50644366,  4250.40362247,  4032.47613631,\n",
       "        4560.04136009,  4278.01102008,  3164.1274149 ,  3332.23035855,\n",
       "        4851.37755551,  3612.85591787,  4094.63913446,  4449.3274752 ,\n",
       "        4955.52896836,  3582.2206483 ,  4035.06966179,  3742.49813164,\n",
       "        3914.66048792,  3519.15896511,  3551.4335326 ,  4436.08915201,\n",
       "        3792.98540032,  3148.65437339,  3350.49157531,  3628.85868928,\n",
       "        3696.45996682,  3974.90160875,  3549.95819111,  4478.29874702,\n",
       "        3592.37571912,  3210.26752401,  3752.01729545,  2845.99262717,\n",
       "        3247.35397474,  3752.65780781,  3272.30140659,  4018.42505112,\n",
       "        3709.22335951,  4057.41817345,  4235.93408961,  4000.90296019,\n",
       "        2904.16575087,  5345.84055872,  5293.04554417,  3669.3077222 ,\n",
       "        4434.6518137 ,  3350.27135105,  4126.28796506,  2967.73610789,\n",
       "        3937.71387174,  4219.41398118,  4817.26447442,  4553.74968679,\n",
       "        2969.92870493,  3524.88042571,  3120.54849356,  4423.12893169,\n",
       "        3090.77211269,  3807.7884001 ,  2745.97721828,  5073.82759381,\n",
       "        3276.7320176 ,  3887.6443069 ,  3750.04941786,  2644.90374715,\n",
       "        3999.47969959,  2924.20582527,  3649.42303051,  5091.98924909,\n",
       "        4230.40569219,  3639.67540054,  2566.29905348,  3048.03790884,\n",
       "        3470.13690103,  4412.79721555,  2340.28286523,  3408.99126959,\n",
       "        4158.44507764,  3197.59042828,  4973.21931535,  3080.76820615,\n",
       "        3963.70206582,  3730.80756756,  3800.24078436,  3716.5425557 ,\n",
       "        2930.33876099,  4433.51564896,  4095.22530843,  2616.15118989,\n",
       "        4134.30447808,  3075.01177569,  3483.484469  ,  4047.27272424,\n",
       "        3881.33288675,  3670.14962033,  3782.791764  ,  3550.25487387,\n",
       "        3027.82714994,  3102.25633796,  4914.1274147 ,  2959.12906385,\n",
       "        3494.24141957,  2833.2457967 ,  3223.38927937,  4029.60235284,\n",
       "        2891.95765147,  4077.73415006,  3041.18927768,  2834.47797455,\n",
       "        3153.76179578,  3999.98325151,  4640.88159461,  3542.36893418,\n",
       "        4043.60237762,  2429.16243368,  5301.80620038,  3892.64184373,\n",
       "        3259.74437684,  4741.63016182,  2599.78106119,  3200.42916327,\n",
       "        4828.54285463,  4080.13970864,  4317.12431267,  4003.76915935,\n",
       "        5055.1218949 ,  3885.40263888,  3414.7267856 ,  3027.37837909,\n",
       "        3903.47048288,  3386.56017477,  3221.02210071,  2431.65414286,\n",
       "        4248.2886337 ,  3656.06514282,  2893.40104114,  4458.41808516,\n",
       "        3848.86715023,  3767.84472799,  4092.03154079,  5299.63728497,\n",
       "        4398.34087532,  4669.84444569,  4621.18339402,  4221.76010166,\n",
       "        4273.58271687,  3072.60075977,  3439.06538272,  3689.10715272,\n",
       "        4013.39633661,  4266.88305444,  4180.22285791,  3859.09598706,\n",
       "        3647.46629149,  2751.58386278,  4522.11327347,  3590.62310778,\n",
       "        3574.60561332,  4798.54799973,  2858.94685677,  4546.46904382,\n",
       "        3475.33115137,  4920.96068655,  4080.69673352,  2552.09212919,\n",
       "        4369.68004497,  3721.40701585,  3445.51227029,  3423.33911736,\n",
       "        4121.6621472 ,  3322.60517023,  3098.52644839,  4326.13325356,\n",
       "        1993.66092861,  3956.83655645,  3972.26166214,  4558.88798469,\n",
       "        4176.70499976,  4695.4017006 ,  3105.45057587,  5507.08956973,\n",
       "        4490.66495945,  5037.01856406,  2925.02062549,  3309.32315793,\n",
       "        3093.56537983,  4014.5482083 ,  3692.67591249,  4445.51300194,\n",
       "        3681.55815984,  4264.08759232,  4175.43465828,  4094.80538679,\n",
       "        3401.52429384,  5054.3553064 ,  3416.15396787,  5102.34612016,\n",
       "        3708.35420309,  3926.5647015 ,  3990.99325572,  2964.70736187,\n",
       "        4470.42453348,  3811.49344953,  5108.67716543,  3747.55880287,\n",
       "        3151.48767467,  4358.38684225,  3226.48162959,  3396.12163009,\n",
       "        3094.29047929,  4013.63638646,  3952.62421995,  3307.17770044,\n",
       "        4242.1641685 ,  3833.28042036,  4010.05192314,  4173.40112333,\n",
       "        2575.97710557,  2436.44544465,  3692.57271524,  4433.03003767,\n",
       "        4706.44372737,  3373.27299721,  2384.38942939,  4037.76456759,\n",
       "        3223.88307284,  3506.05029676,  3503.5399301 ,  3180.90906463,\n",
       "        4237.7224375 ,  4614.95500392,  4405.83268989,  2519.95502461,\n",
       "        4356.46646177,  4121.06294557,  3713.81026723,  3350.15533896,\n",
       "        3641.00295672,  3500.23954735,  2962.52792918,  3897.32923718,\n",
       "        2618.01262604,  3155.53413116,  4576.6963566 ,  3481.51804723,\n",
       "        3903.30500205,  3500.67027414,  3483.25219384,  4238.78887025,\n",
       "        2656.87020612,  3651.32540339,  4905.88634996,  4360.17587944,\n",
       "        4262.18396694,  3907.23931383,  4305.54427905,  3853.99600178,\n",
       "        4048.44379313,  3237.07652271,  4887.44278731,  3770.23445579,\n",
       "        3660.20599622,  3245.35321702,  3110.71745632,  2954.5399263 ,\n",
       "        2415.43053163,  3206.91844493,  3130.88793854,  4552.02603423,\n",
       "        4412.41157223,  3770.18363861,  3515.90176909,  3510.64783698,\n",
       "        4260.25264095,  3044.72236498,  4344.1364582 ,  3592.67311433,\n",
       "        3411.16795577,  4287.80353966,  4660.95744742,  4739.58128044,\n",
       "        4285.60393127,  3323.88264522,  3665.50217585,  3472.90138648,\n",
       "        4009.29123466,  3729.71244366,  3802.86158148,  3968.08719511,\n",
       "        4129.71355036,  2596.19240972,  3573.51449278,  3696.5512268 ,\n",
       "        4581.74720143,  3820.48591986,  3332.42555763,  3236.93804698,\n",
       "        3817.40373648,  3745.3394055 ,  5456.5625211 ,  3901.66369263,\n",
       "        3747.84084596,  2562.75330175,  3976.08874137,  5120.81094881,\n",
       "        4648.87867508,  3000.81199931,  3484.48638539,  4398.4708458 ,\n",
       "        4044.82148256,  4475.12210891,  3210.98178429,  3905.7208787 ,\n",
       "        3132.00624077,  3350.10375696,  3599.76255999,  3338.07031363,\n",
       "        3711.98130713,  4481.59817645,  3204.87378741,  5321.95072997,\n",
       "        4564.91520311,  2988.52649217,  3571.06234704,  2790.91100149,\n",
       "        3314.25322118,  4182.46361194,  3207.04168368,  2856.32733245,\n",
       "        4666.03630602,  2975.49375314,  4149.83637954,  3226.08460689,\n",
       "        3694.78723901,  4070.90741237,  3514.11137873,  3530.39036925,\n",
       "        4725.79479103,  3129.84905839,  4074.1606162 ,  3733.98033494,\n",
       "        3444.74889786,  4731.15065621,  4231.11371643,  3878.32217471,\n",
       "        3253.97489777,  4091.21578894,  4097.26889172,  2488.16916442,\n",
       "        3142.9908763 ,  3887.8590573 ,  3822.5933904 ,  4728.59975179,\n",
       "        4488.85228405,  4167.40057222,  2949.52840512,  4485.63231261,\n",
       "        4455.43198699,  3396.83272873,  3866.22357486,  3841.20138959,\n",
       "        2827.94767983,  2998.47290468,  3493.94117754,  3089.69374406,\n",
       "        4345.06429859,  3477.50042912,  3649.00600444,  3375.94080965,\n",
       "        3155.84417895,  3780.2958573 ,  3018.50431929,  3721.25014605,\n",
       "        4469.76696039,  2787.84664718,  3225.62227551,  3946.68264185,\n",
       "        4728.34995119,  2347.7732522 ,  4771.25222794,  3714.65859282,\n",
       "        3483.62236602,  3402.69747504,  4330.56492991,  4949.98741587,\n",
       "        3793.96507286,  3439.19675031,  4288.89389235,  3675.56225066,\n",
       "        3712.50705256,  3012.76413985,  4076.61745371,  3623.28499546,\n",
       "        3286.59497967,  4545.56910361,  5399.14861275,  3031.03161236,\n",
       "        4162.13451256,  3432.35703703,  4058.62968522,  3661.05673587,\n",
       "        4920.94462262,  3944.88139505,  4142.71521029,  4165.91250518,\n",
       "        3209.86078221,  4000.64366816,  2991.73110171,  3330.51004607,\n",
       "        4319.20351432,  2077.04499706,  2331.70188877,  2705.81914135,\n",
       "        3477.21219522,  4438.61296795,  5020.20548137,  3621.79637574,\n",
       "        4462.47742743,  4562.48500639,  3792.32058476,  4064.50566725,\n",
       "        4069.39334163,  4350.12865657,  3940.93726025,  4679.40074414,\n",
       "        3766.68409609,  3937.09038626,  3827.76815801,  3135.43320385,\n",
       "        3237.92621165,  4173.47346624,  3946.99831214,  3539.50664182,\n",
       "        2694.86324675,  5531.25354575,  3562.46587127,  3585.24503536,\n",
       "        3738.23462915,  4594.75644956,  3612.00714797,  3259.80615928,\n",
       "        3793.71511177,  3984.3605682 ,  3922.50669099,  3325.82621736,\n",
       "        3131.83777606,  4991.02925   ,  3320.43554913,  4519.72893289,\n",
       "        3522.38529252,  3740.56666932,  4294.18275496,  4086.5496861 ,\n",
       "        2793.9133228 ,  3657.37481368,  4743.58311714,  3369.29246532,\n",
       "        3368.03743025,  4597.31320519,  4315.51628332,  4263.15663889,\n",
       "        3760.99726632,  3669.89749067,  4303.98423122,  3476.62950486,\n",
       "        3932.64261267,  4482.78056456,  2796.64744086,  3805.16452135,\n",
       "        4771.83647634,  3608.52906199,  3356.86749054,  2541.0236928 ,\n",
       "        2105.95936038,  4511.2584999 ,  3106.88246644,  3523.58807209,\n",
       "        3459.0699877 ,  3316.85264065,  4145.19509045,  3434.70877948,\n",
       "        2348.30000171,  3634.61535023,  4453.04862311,  3879.61168548,\n",
       "        3271.76737526,  3116.41760753,  3842.28612954,  3178.35112907,\n",
       "        3283.8807838 ,  2806.21530757,  3038.53469276,  3277.22304823,\n",
       "        2862.51223554,  2860.17581196,  4139.47604111,  3376.18201781,\n",
       "        4366.71284076,  3595.28940852,  3526.71768873,  4650.69056685,\n",
       "        4659.26287521,  3293.47425536,  3072.88455083,  3358.75879432,\n",
       "        4038.11339771,  2761.61702381,  5104.76162522,  2606.10825065,\n",
       "        4097.99391314,  4395.93967126,  4162.81113704,  2735.08825868,\n",
       "        4679.80269589,  4294.52229763,  4830.91572485,  3787.54701166,\n",
       "        3462.83579684,  4186.22799147,  4546.29096747,  2700.26776721,\n",
       "        3150.81768931,  4340.77767654,  3320.41158629,  3298.71983119,\n",
       "        4576.21585014,  3860.91424135,  3842.45124845,  4971.32635519,\n",
       "        2536.97315226,  3909.9586232 ,  3482.49693743,  3287.20145008,\n",
       "        3094.09307171,  3614.56635434,  3484.50839539,  2717.45759076,\n",
       "        3754.37965804,  4172.25697093,  3557.67759181,  3879.58562096,\n",
       "        4475.93065232,  3378.44028018,  4601.37506827,  4129.57833677,\n",
       "        5229.1943021 ,  3037.36980365,  3416.7602925 ,  4056.20263992,\n",
       "        3844.72633483,  4464.69313455,  3979.98389465,  4480.66661624,\n",
       "        3696.54679301,  3044.11877047,  2850.24663306,  4301.02017013,\n",
       "        3801.02037344,  3952.50692138,  3637.7365324 ,  2885.38800248,\n",
       "        3534.92526666,  3572.84815185,  4299.56321455,  4122.45338654,\n",
       "        3688.79285287,  4391.25282668,  4617.28999386,  2951.2978814 ,\n",
       "        4453.87972786,  3780.61084114,  3139.6333841 ,  4146.94668736,\n",
       "        4168.92959298,  2334.49013734,  3088.70068789,  3874.82773819,\n",
       "        3376.02730083,  3580.99687606,  4117.13416694,  3959.30089267,\n",
       "        4995.69801789,  2032.35916912,  4533.0249558 ,  3550.81101063,\n",
       "        3275.59952203,  3142.69014014,  5105.4936783 ,  4391.8442549 ,\n",
       "        3311.39916403,  4443.71977893,  3565.57212728,  4331.31590112,\n",
       "        3643.73872823,  3976.31374377,  2587.94980373,  4718.66123218,\n",
       "        4561.23407331,  3648.66761104,  3582.57645819,  3458.88558806,\n",
       "        3351.594492  ,  2401.52715636,  2828.06872317,  3947.93094221,\n",
       "        4100.02554259,  3375.30626025,  4820.49572181,  3968.80574644,\n",
       "        3452.98523197,  3825.36524252,  3311.02115218,  2574.44362122,\n",
       "        3057.95494744,  2850.40146366,  4874.74218891,  3940.81597568,\n",
       "        4219.03225547,  5026.63439235,  4400.25151116,  3880.82845209,\n",
       "        4304.49890823,  3966.60355308,  4794.91776856,  3822.43888776,\n",
       "        4227.78480106,  3959.39705426,  3798.15533078,  4696.64296055,\n",
       "        5023.90044611,  3577.43029733,  4193.15914981,  3562.94349117,\n",
       "        3212.11324014,  3740.26683857,  3947.34794505,  2950.26329997,\n",
       "        2942.73593009,  4841.49247195,  3579.23696901,  3627.14720462,\n",
       "        3082.28128384,  3119.75196372,  3763.26207616,  2524.60683856,\n",
       "        3982.38197925,  4314.59601742,  2934.23145016,  4137.21074759,\n",
       "        4190.96041963,  2880.14856022,  3092.81191062,  2903.27384534,\n",
       "        3890.37840144,  3767.49996077,  4213.39218748,  3718.69571048,\n",
       "        3010.1941448 ,  3573.50464079,  3639.88144149,  2336.86055892,\n",
       "        3513.41965282,  4115.43079485,  3527.11777656,  4744.79713028,\n",
       "        2936.97348908,  3248.08400055,  3026.61215302,  4049.64140006,\n",
       "        3847.98587487,  3720.47510363,  3610.97356146,  3853.57188063,\n",
       "        3084.14127245,  4288.25601599,  3800.27607919,  4621.66040632,\n",
       "        4198.44457183,  4118.29248523,  3186.52610541,  4283.070452  ,\n",
       "        3411.61998377,  2993.88477838,  3497.6978275 ,  3526.66813329,\n",
       "        5043.80201412,  4213.73415622,  2686.45564549,  3793.31539529,\n",
       "        3258.3144914 ,  3792.5311012 ,  3538.66995035,  4901.9234607 ,\n",
       "        3028.62343514,  4542.45079829,  4070.02206985,  3427.13808916,\n",
       "        3828.93047149,  4786.54726395,  3272.31779209,  3157.64873034,\n",
       "        3404.21623335,  3938.27029702,  3303.82039715,  4968.94366846,\n",
       "        3776.90399105,  3943.41148162,  4289.80635908,  3991.17657768,\n",
       "        3191.59945878,  3239.42983972,  3795.26596166,  4605.37564873,\n",
       "        3898.10849394,  2843.55667039,  4540.50038163,  4149.96048491,\n",
       "        3143.9761952 ,  3931.53533836,  4296.28055363,  4092.27570703,\n",
       "        3714.44880099,  4597.2461126 ,  3628.37352303,  3413.52067166,\n",
       "        3247.21354512,  4529.56677535,  3991.44085927,  4076.14696729,\n",
       "        3470.83986636,  4571.05904341,  3455.16891713,  4297.2795722 ,\n",
       "        1999.80775296,  4013.92978715,  3224.20981845,  3322.24102735,\n",
       "        4662.43551902,  2831.12731904,  3975.62836426,  4131.03605268,\n",
       "        3542.73788354,  4594.02820628,  4848.30272075,  4406.15498029,\n",
       "        3463.98074306,  4512.08929115,  4251.75280092,  4000.12690191,\n",
       "        3639.29558   ,  2837.44702324,  2381.00718582,  3378.57513734,\n",
       "        2832.39231952,  3605.83413561,  5490.99715624,  2984.75845188,\n",
       "        3480.61379822,  4475.46649706,  4493.38115145,  4059.94575348,\n",
       "        4872.18105979,  2995.93837147,  4707.68716299,  5027.86997199,\n",
       "        3445.50431293,  4395.43863022,  3584.46563513,  3727.40377287,\n",
       "        4102.63136955,  4218.41248233,  2607.83288116,  2777.77246999,\n",
       "        4678.27662459,  3309.46380795,  3533.94488497,  3989.57774256,\n",
       "        3683.6194161 ,  3488.42341913,  3155.33742534,  3479.75929971,\n",
       "        2319.29617662,  4425.96042164,  2425.34185896,  5520.74132438,\n",
       "        4495.80851542,  2657.64485764,  4622.31541072,  4157.54703573,\n",
       "        3720.70754748,  3274.68455237,  4488.8570857 ,  3668.32578415,\n",
       "        3286.59171037,  2727.64713163,  3125.15845859,  2640.65299219,\n",
       "        3516.87427115,  4193.58099748,  4936.52863012,  3469.00605571,\n",
       "        3303.07839119,  2951.97129594,  4327.55459746,  3900.08490563,\n",
       "        5514.15366893,  3401.97834339,  2695.59996473,  3443.83193258,\n",
       "        3543.55024239,  3756.57380739,  4324.27443227,  3702.26361175,\n",
       "        2935.02621789,  4079.21923987,  5028.46348713,  4178.86398855,\n",
       "        4275.04907432,  3210.27386621,  4353.9038471 ,  4280.28950808,\n",
       "        3696.66520002,  4023.44487509,  3488.23137325,  3650.80255924,\n",
       "        3315.82613151,  4080.95855844,  2615.18763938,  3207.06187842,\n",
       "        2887.16225284,  3828.8838124 ,  2498.53587239,  4305.20440342,\n",
       "        4625.91786606,  3422.33098204,  3395.43051205,  2977.49362273,\n",
       "        3807.83161199,  4931.31207598,  2306.4592266 ,  3744.56278571,\n",
       "        3285.68156325,  4088.82076758,  3180.8884248 ,  2872.14054545,\n",
       "        3959.78078322,  3782.04712624,  5217.71808618,  4358.1015133 ,\n",
       "        3511.08016917,  5135.15196742,  2635.3747887 ,  4283.51147571,\n",
       "        3498.35376609,  4298.54033924,  2286.27887686,  4146.73081846])"
      ]
     },
     "execution_count": 45,
     "metadata": {},
     "output_type": "execute_result"
    }
   ],
   "source": [
    "np.dot(X_random, w)"
   ]
  },
  {
   "cell_type": "code",
   "execution_count": null,
   "metadata": {
    "collapsed": true
   },
   "outputs": [],
   "source": []
  }
 ],
 "metadata": {
  "anaconda-cloud": {},
  "kernelspec": {
   "display_name": "Python [default]",
   "language": "python",
   "name": "python2"
  },
  "language_info": {
   "codemirror_mode": {
    "name": "ipython",
    "version": 2
   },
   "file_extension": ".py",
   "mimetype": "text/x-python",
   "name": "python",
   "nbconvert_exporter": "python",
   "pygments_lexer": "ipython2",
   "version": "2.7.12"
  }
 },
 "nbformat": 4,
 "nbformat_minor": 1
}
