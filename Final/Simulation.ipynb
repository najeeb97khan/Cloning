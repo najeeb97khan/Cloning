{
 "cells": [
  {
   "cell_type": "code",
   "execution_count": 1,
   "metadata": {
    "collapsed": true
   },
   "outputs": [],
   "source": [
    "%matplotlib inline\n",
    "import pandas as pd\n",
    "import numpy as np\n",
    "import matplotlib.pyplot as plt\n",
    "import seaborn as sns"
   ]
  },
  {
   "cell_type": "code",
   "execution_count": 2,
   "metadata": {
    "collapsed": true
   },
   "outputs": [],
   "source": [
    "from utils import generate_constrained_random"
   ]
  },
  {
   "cell_type": "code",
   "execution_count": 3,
   "metadata": {
    "collapsed": true
   },
   "outputs": [],
   "source": [
    "data = pd.read_csv('../../../Dataset/Spambase/spambase.data.txt', header=None)"
   ]
  },
  {
   "cell_type": "code",
   "execution_count": 4,
   "metadata": {
    "collapsed": false
   },
   "outputs": [
    {
     "data": {
      "text/html": [
       "<div>\n",
       "<table border=\"1\" class=\"dataframe\">\n",
       "  <thead>\n",
       "    <tr style=\"text-align: right;\">\n",
       "      <th></th>\n",
       "      <th>0</th>\n",
       "      <th>1</th>\n",
       "      <th>2</th>\n",
       "      <th>3</th>\n",
       "      <th>4</th>\n",
       "      <th>5</th>\n",
       "      <th>6</th>\n",
       "      <th>7</th>\n",
       "      <th>8</th>\n",
       "      <th>9</th>\n",
       "      <th>...</th>\n",
       "      <th>48</th>\n",
       "      <th>49</th>\n",
       "      <th>50</th>\n",
       "      <th>51</th>\n",
       "      <th>52</th>\n",
       "      <th>53</th>\n",
       "      <th>54</th>\n",
       "      <th>55</th>\n",
       "      <th>56</th>\n",
       "      <th>57</th>\n",
       "    </tr>\n",
       "  </thead>\n",
       "  <tbody>\n",
       "    <tr>\n",
       "      <th>0</th>\n",
       "      <td>0.00</td>\n",
       "      <td>0.64</td>\n",
       "      <td>0.64</td>\n",
       "      <td>0.0</td>\n",
       "      <td>0.32</td>\n",
       "      <td>0.00</td>\n",
       "      <td>0.00</td>\n",
       "      <td>0.00</td>\n",
       "      <td>0.0</td>\n",
       "      <td>0.00</td>\n",
       "      <td>...</td>\n",
       "      <td>0.0</td>\n",
       "      <td>0.000</td>\n",
       "      <td>0.0</td>\n",
       "      <td>0.778</td>\n",
       "      <td>0.00</td>\n",
       "      <td>0.000</td>\n",
       "      <td>3.756</td>\n",
       "      <td>61</td>\n",
       "      <td>278</td>\n",
       "      <td>1</td>\n",
       "    </tr>\n",
       "    <tr>\n",
       "      <th>1</th>\n",
       "      <td>0.21</td>\n",
       "      <td>0.28</td>\n",
       "      <td>0.50</td>\n",
       "      <td>0.0</td>\n",
       "      <td>0.14</td>\n",
       "      <td>0.28</td>\n",
       "      <td>0.21</td>\n",
       "      <td>0.07</td>\n",
       "      <td>0.0</td>\n",
       "      <td>0.94</td>\n",
       "      <td>...</td>\n",
       "      <td>0.0</td>\n",
       "      <td>0.132</td>\n",
       "      <td>0.0</td>\n",
       "      <td>0.372</td>\n",
       "      <td>0.18</td>\n",
       "      <td>0.048</td>\n",
       "      <td>5.114</td>\n",
       "      <td>101</td>\n",
       "      <td>1028</td>\n",
       "      <td>1</td>\n",
       "    </tr>\n",
       "  </tbody>\n",
       "</table>\n",
       "<p>2 rows × 58 columns</p>\n",
       "</div>"
      ],
      "text/plain": [
       "     0     1     2    3     4     5     6     7    8     9  ...   48     49  \\\n",
       "0  0.00  0.64  0.64  0.0  0.32  0.00  0.00  0.00  0.0  0.00 ...  0.0  0.000   \n",
       "1  0.21  0.28  0.50  0.0  0.14  0.28  0.21  0.07  0.0  0.94 ...  0.0  0.132   \n",
       "\n",
       "    50     51    52     53     54   55    56  57  \n",
       "0  0.0  0.778  0.00  0.000  3.756   61   278   1  \n",
       "1  0.0  0.372  0.18  0.048  5.114  101  1028   1  \n",
       "\n",
       "[2 rows x 58 columns]"
      ]
     },
     "execution_count": 4,
     "metadata": {},
     "output_type": "execute_result"
    }
   ],
   "source": [
    "data.head(2)"
   ]
  },
  {
   "cell_type": "code",
   "execution_count": 5,
   "metadata": {
    "collapsed": false
   },
   "outputs": [
    {
     "name": "stdout",
     "output_type": "stream",
     "text": [
      "(4601, 57) (4601,)\n"
     ]
    }
   ],
   "source": [
    "y = data.pop(57).values\n",
    "X = data.values\n",
    "print X.shape, y.shape"
   ]
  },
  {
   "cell_type": "code",
   "execution_count": 6,
   "metadata": {
    "collapsed": true
   },
   "outputs": [],
   "source": [
    "num_features = X.shape[1]"
   ]
  },
  {
   "cell_type": "code",
   "execution_count": 7,
   "metadata": {
    "collapsed": false
   },
   "outputs": [
    {
     "name": "stdout",
     "output_type": "stream",
     "text": [
      "(1000, 57)\n"
     ]
    }
   ],
   "source": [
    "X_random = generate_constrained_random(X, feature_names=data.columns, data_size=1000)\n",
    "print X_random.shape"
   ]
  },
  {
   "cell_type": "code",
   "execution_count": 8,
   "metadata": {
    "collapsed": true
   },
   "outputs": [],
   "source": [
    "import tensorflow as tf"
   ]
  },
  {
   "cell_type": "code",
   "execution_count": 9,
   "metadata": {
    "collapsed": true
   },
   "outputs": [],
   "source": [
    "tf.reset_default_graph()"
   ]
  },
  {
   "cell_type": "code",
   "execution_count": 10,
   "metadata": {
    "collapsed": true
   },
   "outputs": [],
   "source": [
    "with tf.variable_scope(\"Placeholders\") as scope:\n",
    "    input_email = tf.placeholder(dtype=tf.float32, shape=[None, num_features], name=\"input_email\")\n",
    "    label = tf.placeholder(dtype=tf.float32, shape=[None, 2], name=\"labels\")"
   ]
  },
  {
   "cell_type": "code",
   "execution_count": 11,
   "metadata": {
    "collapsed": false
   },
   "outputs": [],
   "source": [
    "num_hidden = 128\n",
    "with tf.variable_scope(\"hidden_layer\") as scope:\n",
    "    w = tf.get_variable(name=\"weights\", shape=[num_features, num_hidden], dtype=tf.float32, initializer=tf.random_normal_initializer())\n",
    "    b = tf.get_variable(name=\"biases\", shape=[num_hidden], initializer=tf.random_normal_initializer(), dtype=tf.float32)\n",
    "    act = tf.matmul(input_email, w) + b\n",
    "    out = tf.nn.relu(act)"
   ]
  },
  {
   "cell_type": "code",
   "execution_count": 12,
   "metadata": {
    "collapsed": true
   },
   "outputs": [],
   "source": [
    "with tf.variable_scope(\"output_layer\") as scope:\n",
    "    w = tf.get_variable(name=\"weights\", shape=[num_hidden, 2], dtype=tf.float32, initializer=tf.random_normal_initializer())\n",
    "    b = tf.get_variable(name=\"biases\", shape=[2], dtype=tf.float32, initializer=tf.random_normal_initializer())\n",
    "    softmax = tf.nn.softmax(tf.matmul(out, w) + b)"
   ]
  },
  {
   "cell_type": "code",
   "execution_count": 13,
   "metadata": {
    "collapsed": false
   },
   "outputs": [],
   "source": [
    "with tf.variable_scope(\"loss\") as scope:\n",
    "    loss = tf.reduce_mean(tf.reduce_sum(-label*tf.log(softmax + 1e-10), reduction_indices=[1]))"
   ]
  },
  {
   "cell_type": "code",
   "execution_count": 14,
   "metadata": {
    "collapsed": true
   },
   "outputs": [],
   "source": [
    "with tf.variable_scope(\"optimizer\") as scope:\n",
    "    optimizer = tf.train.AdamOptimizer(learning_rate=1e-4).minimize(loss)"
   ]
  },
  {
   "cell_type": "code",
   "execution_count": 15,
   "metadata": {
    "collapsed": false
   },
   "outputs": [],
   "source": [
    "with tf.variable_scope(\"accuracy\") as scope:\n",
    "    acc = tf.reduce_mean(tf.cast(tf.equal(tf.arg_max(softmax, 1), tf.arg_max(label, 1)), dtype=tf.float32)) * 100"
   ]
  },
  {
   "cell_type": "code",
   "execution_count": 16,
   "metadata": {
    "collapsed": false
   },
   "outputs": [
    {
     "name": "stdout",
     "output_type": "stream",
     "text": [
      "Iteration: 200\n",
      " Loss: 8.78439426422\t Accuracy: 58.5524864197\n",
      "Iteration: 400\n",
      " Loss: 8.25270175934\t Accuracy: 61.117149353\n",
      "Iteration: 600\n",
      " Loss: 7.9855837822\t Accuracy: 62.8776359558\n",
      "Iteration: 800\n",
      " Loss: 7.23490905762\t Accuracy: 65.3118896484\n",
      "Iteration: 1000\n",
      " Loss: 3.78324079514\t Accuracy: 76.8528594971\n",
      "Iteration: 1200\n",
      " Loss: 2.71056008339\t Accuracy: 82.6559448242\n",
      "Iteration: 1400\n",
      " Loss: 2.13897633553\t Accuracy: 85.785697937\n",
      "Iteration: 1600\n",
      " Loss: 1.67868840694\t Accuracy: 88.046081543\n",
      "Iteration: 1800\n",
      " Loss: 1.43331038952\t Accuracy: 89.2414703369\n",
      "Iteration: 2000\n",
      " Loss: 1.09237408638\t Accuracy: 91.0019607544\n"
     ]
    }
   ],
   "source": [
    "N_EPOCHS = 2000\n",
    "SKIP_STEP = 200\n",
    "with tf.Session() as sess:\n",
    "    init = tf.global_variables_initializer()\n",
    "    sess.run(init)\n",
    "    \n",
    "    for i in range(1, N_EPOCHS+1):\n",
    "        \n",
    "        _, l, accuracy = sess.run([optimizer, loss, acc], feed_dict={input_email:X, label:pd.get_dummies(y).values})\n",
    "        \n",
    "        \n",
    "        if i % SKIP_STEP == 0:\n",
    "            \n",
    "            print 'Iteration: {}\\n Loss: {}\\t Accuracy: {}'.format(i, l, accuracy)\n",
    "            \n",
    "    \n",
    "    y_random = sess.run([softmax], feed_dict={input_email:X_random.values})"
   ]
  },
  {
   "cell_type": "code",
   "execution_count": 17,
   "metadata": {
    "collapsed": false
   },
   "outputs": [
    {
     "name": "stdout",
     "output_type": "stream",
     "text": [
      "(1000, 2)\n",
      "<type 'numpy.ndarray'>\n"
     ]
    }
   ],
   "source": [
    "y_random = y_random[0]\n",
    "print y_random.shape\n",
    "print type(y_random)"
   ]
  },
  {
   "cell_type": "code",
   "execution_count": 21,
   "metadata": {
    "collapsed": false
   },
   "outputs": [],
   "source": [
    "tf.reset_default_graph()\n",
    "\n",
    "with tf.variable_scope(\"Placeholders\") as scope:\n",
    "    input_email = tf.placeholder(dtype=tf.float32, shape=[None, num_features], name=\"input_email\")\n",
    "    label = tf.placeholder(dtype=tf.float32, shape=[None, 2], name=\"labels\")\n",
    "    \n",
    "num_hidden = 512\n",
    "with tf.variable_scope(\"hidden_layer\") as scope:\n",
    "    w = tf.get_variable(name=\"weights\", shape=[num_features, num_hidden], dtype=tf.float32, initializer=tf.random_normal_initializer())\n",
    "    b = tf.get_variable(name=\"biases\", shape=[num_hidden], initializer=tf.random_normal_initializer(), dtype=tf.float32)\n",
    "    act = tf.matmul(input_email, w) + b\n",
    "    out = tf.nn.relu(act)\n",
    "    \n",
    "with tf.variable_scope(\"output_layer\") as scope:\n",
    "    w = tf.get_variable(name=\"weights\", shape=[num_hidden, 2], dtype=tf.float32, initializer=tf.random_normal_initializer())\n",
    "    b = tf.get_variable(name=\"biases\", shape=[2], dtype=tf.float32, initializer=tf.random_normal_initializer())\n",
    "    softmax = tf.nn.softmax(tf.matmul(out, w) + b)\n",
    "    \n",
    "with tf.variable_scope(\"loss\") as scope:\n",
    "    loss = tf.reduce_mean(tf.reduce_sum(-label*tf.log(softmax + 1e-10), reduction_indices=[1]))\n",
    "    \n",
    "with tf.variable_scope(\"optimizer\") as scope:\n",
    "    optimizer = tf.train.AdagradOptimizer(learning_rate=1e-4).minimize(loss)\n",
    "    \n",
    "with tf.variable_scope(\"accuracy\") as scope:\n",
    "    acc = tf.reduce_mean(tf.cast(tf.equal(tf.arg_max(softmax, 1), tf.arg_max(label, 1)), dtype=tf.float32)) * 100"
   ]
  },
  {
   "cell_type": "code",
   "execution_count": 24,
   "metadata": {
    "collapsed": false
   },
   "outputs": [
    {
     "name": "stdout",
     "output_type": "stream",
     "text": [
      "Iteration: 200\n",
      " Loss: 12.8944892883\t Accuracy: 44.0\n",
      "Iteration: 400\n",
      " Loss: 12.8944892883\t Accuracy: 44.0\n",
      "Iteration: 600\n",
      " Loss: 12.8944892883\t Accuracy: 44.0\n",
      "Iteration: 800\n",
      " Loss: 12.8944892883\t Accuracy: 44.0\n",
      "Iteration: 1000\n",
      " Loss: 12.8944892883\t Accuracy: 44.0\n",
      "Iteration: 1200\n",
      " Loss: 12.8944892883\t Accuracy: 44.0\n",
      "Iteration: 1400\n",
      " Loss: 12.8944892883\t Accuracy: 44.0\n",
      "Iteration: 1600\n",
      " Loss: 12.8944892883\t Accuracy: 44.0\n",
      "Iteration: 1800\n",
      " Loss: 12.8944892883\t Accuracy: 44.0\n",
      "Iteration: 2000\n",
      " Loss: 12.8944892883\t Accuracy: 44.0\n"
     ]
    }
   ],
   "source": [
    "N_EPOCHS = 2000\n",
    "SKIP_STEP = 200\n",
    "with tf.Session() as sess:\n",
    "    init = tf.global_variables_initializer()\n",
    "    sess.run(init)\n",
    "    \n",
    "    for i in range(1, N_EPOCHS+1):\n",
    "        \n",
    "        _, l, accuracy = sess.run([optimizer, loss, acc], feed_dict={input_email:X_random.values, \n",
    "                                                                     label:y_random})\n",
    "        \n",
    "        if i % SKIP_STEP == 0:\n",
    "            \n",
    "            print 'Iteration: {}\\n Loss: {}\\t Accuracy: {}'.format(i, l, accuracy)\n",
    "            \n",
    "    \n",
    "    y_pred = sess.run([softmax], feed_dict={input_email:X})\n",
    "    "
   ]
  },
  {
   "cell_type": "code",
   "execution_count": 23,
   "metadata": {
    "collapsed": false
   },
   "outputs": [],
   "source": [
    "y_random = pd.get_dummies(np.argmax(y_random, 1)).values"
   ]
  },
  {
   "cell_type": "code",
   "execution_count": null,
   "metadata": {
    "collapsed": true
   },
   "outputs": [],
   "source": []
  }
 ],
 "metadata": {
  "anaconda-cloud": {},
  "kernelspec": {
   "display_name": "Python [default]",
   "language": "python",
   "name": "python2"
  },
  "language_info": {
   "codemirror_mode": {
    "name": "ipython",
    "version": 2
   },
   "file_extension": ".py",
   "mimetype": "text/x-python",
   "name": "python",
   "nbconvert_exporter": "python",
   "pygments_lexer": "ipython2",
   "version": "2.7.12"
  }
 },
 "nbformat": 4,
 "nbformat_minor": 1
}
