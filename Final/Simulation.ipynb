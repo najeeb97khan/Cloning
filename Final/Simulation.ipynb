{
 "cells": [
  {
   "cell_type": "code",
   "execution_count": 1,
   "metadata": {
    "collapsed": true
   },
   "outputs": [],
   "source": [
    "%matplotlib inline\n",
    "import pandas as pd\n",
    "import numpy as np\n",
    "import matplotlib.pyplot as plt\n",
    "import seaborn as sns"
   ]
  },
  {
   "cell_type": "code",
   "execution_count": 2,
   "metadata": {
    "collapsed": true
   },
   "outputs": [],
   "source": [
    "from utils import generate_constrained_random\n",
    "from sklearn.linear_model import LogisticRegression\n",
    "import tensorflow as tf"
   ]
  },
  {
   "cell_type": "code",
   "execution_count": 3,
   "metadata": {
    "collapsed": true
   },
   "outputs": [],
   "source": [
    "data = pd.read_csv('../../../Dataset/Spambase/spambase.data.txt', header=None)"
   ]
  },
  {
   "cell_type": "code",
   "execution_count": 4,
   "metadata": {
    "collapsed": false
   },
   "outputs": [
    {
     "name": "stdout",
     "output_type": "stream",
     "text": [
      "(4601, 57) (4601,)\n"
     ]
    }
   ],
   "source": [
    "y = data.pop(57).values\n",
    "X = data.values\n",
    "feature_names = data.columns\n",
    "print X.shape, y.shape"
   ]
  },
  {
   "cell_type": "code",
   "execution_count": 5,
   "metadata": {
    "collapsed": false
   },
   "outputs": [
    {
     "name": "stdout",
     "output_type": "stream",
     "text": [
      "(1000, 57)\n"
     ]
    }
   ],
   "source": [
    "X_random = generate_constrained_random(X, feature_names, 1000)\n",
    "print X_random.shape"
   ]
  },
  {
   "cell_type": "code",
   "execution_count": 12,
   "metadata": {
    "collapsed": false
   },
   "outputs": [
    {
     "name": "stdout",
     "output_type": "stream",
     "text": [
      "0.93218865464\n"
     ]
    }
   ],
   "source": [
    "lr = LogisticRegression()\n",
    "lr.fit(X, y)\n",
    "print lr.score(X, y)\n",
    "y_random = lr.predict(X_random.values)"
   ]
  },
  {
   "cell_type": "code",
   "execution_count": 13,
   "metadata": {
    "collapsed": false
   },
   "outputs": [
    {
     "name": "stdout",
     "output_type": "stream",
     "text": [
      "57\n"
     ]
    }
   ],
   "source": [
    "num_features = X_random.shape[1]\n",
    "print num_features\n",
    "y_random = pd.get_dummies(y_random).values"
   ]
  },
  {
   "cell_type": "code",
   "execution_count": 37,
   "metadata": {
    "collapsed": false
   },
   "outputs": [],
   "source": [
    "tf.reset_default_graph()\n",
    "\n",
    "with tf.variable_scope(\"Placeholders\") as scope:\n",
    "    input_email = tf.placeholder(dtype=tf.float32, shape=[None, num_features], name=\"input_email\")\n",
    "    label = tf.placeholder(dtype=tf.float32, shape=[None, 2], name=\"labels\")\n",
    "    \n",
    "num_hidden = 1024\n",
    "with tf.variable_scope(\"hidden_layer\") as scope:\n",
    "    w = tf.get_variable(name=\"weights\", shape=[num_features, num_hidden], dtype=tf.float32, initializer=tf.random_normal_initializer())\n",
    "    b = tf.get_variable(name=\"biases\", shape=[num_hidden], initializer=tf.random_normal_initializer(), dtype=tf.float32)\n",
    "    act = tf.matmul(input_email, w) + b\n",
    "    out = tf.nn.relu(act)\n",
    "    \n",
    "with tf.variable_scope(\"output_layer\") as scope:\n",
    "    w = tf.get_variable(name=\"weights\", shape=[num_hidden, 2], dtype=tf.float32, initializer=tf.random_normal_initializer())\n",
    "    b = tf.get_variable(name=\"biases\", shape=[2], dtype=tf.float32, initializer=tf.random_normal_initializer())\n",
    "    softmax = tf.nn.softmax(tf.matmul(out, w) + b)\n",
    "    \n",
    "with tf.variable_scope(\"loss\") as scope:\n",
    "    loss = tf.reduce_mean(-tf.reduce_sum(label*tf.log(softmax + 1e-10), reduction_indices=[1]))\n",
    "    \n",
    "with tf.variable_scope(\"optimizer\") as scope:\n",
    "    optimizer = tf.train.AdagradOptimizer(learning_rate=1e-2).minimize(loss)\n",
    "    \n",
    "with tf.variable_scope(\"accuracy\") as scope:\n",
    "    acc = tf.reduce_mean(tf.cast(tf.equal(tf.arg_max(softmax, 1), tf.arg_max(label, 1)), dtype=tf.float32)) * 100\n",
    "    \n",
    "with tf.variable_scope(\"grads\") as scope:\n",
    "    var = tf.get_collection(tf.GraphKeys.GLOBAL_VARIABLES, scope='hidden_layer')[0]\n",
    "    grads = tf.gradients(loss, var)"
   ]
  },
  {
   "cell_type": "code",
   "execution_count": 38,
   "metadata": {
    "collapsed": false
   },
   "outputs": [
    {
     "name": "stdout",
     "output_type": "stream",
     "text": [
      "Iteration: 1\n",
      " Loss: 3.2005944252\t Accuracy: 86.0999984741\n",
      "Iteration: 2\n",
      " Loss: 3.2005944252\t Accuracy: 86.0999984741\n",
      "Iteration: 3\n",
      " Loss: 3.2005944252\t Accuracy: 86.0999984741\n",
      "Iteration: 4\n",
      " Loss: 3.2005944252\t Accuracy: 86.0999984741\n",
      "Iteration: 5\n",
      " Loss: 3.2005944252\t Accuracy: 86.0999984741\n",
      "Iteration: 6\n",
      " Loss: 3.2005944252\t Accuracy: 86.0999984741\n",
      "Iteration: 7\n",
      " Loss: 3.2005944252\t Accuracy: 86.0999984741\n",
      "Iteration: 8\n",
      " Loss: 3.2005944252\t Accuracy: 86.0999984741\n",
      "Iteration: 9\n",
      " Loss: 3.2005944252\t Accuracy: 86.0999984741\n",
      "Iteration: 10\n",
      " Loss: 3.2005944252\t Accuracy: 86.0999984741\n",
      "Iteration: 11\n",
      " Loss: 3.2005944252\t Accuracy: 86.0999984741\n",
      "Iteration: 12\n",
      " Loss: 3.2005944252\t Accuracy: 86.0999984741\n",
      "Iteration: 13\n",
      " Loss: 3.2005944252\t Accuracy: 86.0999984741\n",
      "Iteration: 14\n",
      " Loss: 3.2005944252\t Accuracy: 86.0999984741\n",
      "Iteration: 15\n",
      " Loss: 3.2005944252\t Accuracy: 86.0999984741\n",
      "Iteration: 16\n",
      " Loss: 3.2005944252\t Accuracy: 86.0999984741\n",
      "Iteration: 17\n",
      " Loss: 3.2005944252\t Accuracy: 86.0999984741\n",
      "Iteration: 18\n",
      " Loss: 3.2005944252\t Accuracy: 86.0999984741\n",
      "Iteration: 19\n",
      " Loss: 3.2005944252\t Accuracy: 86.0999984741\n",
      "Iteration: 20\n",
      " Loss: 3.2005944252\t Accuracy: 86.0999984741\n"
     ]
    }
   ],
   "source": [
    "N_EPOCHS = 20\n",
    "SKIP_STEP = 1\n",
    "with tf.Session() as sess:\n",
    "    init = tf.global_variables_initializer()\n",
    "    sess.run(init)\n",
    "    \n",
    "    for i in range(1, N_EPOCHS+1):\n",
    "        \n",
    "        _, l, accuracy, grad = sess.run([optimizer, loss, acc, grads], feed_dict={input_email:X_random.values, \n",
    "                                                                     label:y_random})\n",
    "        \n",
    "        if i % SKIP_STEP == 0:\n",
    "            \n",
    "            print 'Iteration: {}\\n Loss: {}\\t Accuracy: {}'.format(i, l, accuracy)\n",
    "            \n",
    "    \n",
    "    y_pred = sess.run([softmax], feed_dict={input_email:X})\n",
    "    "
   ]
  },
  {
   "cell_type": "code",
   "execution_count": 39,
   "metadata": {
    "collapsed": false
   },
   "outputs": [
    {
     "name": "stdout",
     "output_type": "stream",
     "text": [
      "[[ 0.  0.  0. ...,  0.  0.  0.]\n",
      " [ 0.  0.  0. ...,  0.  0.  0.]\n",
      " [ 0.  0.  0. ...,  0.  0.  0.]\n",
      " ..., \n",
      " [ 0.  0.  0. ...,  0.  0.  0.]\n",
      " [ 0.  0.  0. ...,  0.  0.  0.]\n",
      " [ 0.  0.  0. ...,  0.  0.  0.]]\n"
     ]
    }
   ],
   "source": [
    "print grad[0]"
   ]
  },
  {
   "cell_type": "code",
   "execution_count": 40,
   "metadata": {
    "collapsed": false
   },
   "outputs": [
    {
     "name": "stdout",
     "output_type": "stream",
     "text": [
      "0.85242338622\n"
     ]
    }
   ],
   "source": [
    "lr = LogisticRegression()\n",
    "lr.fit(X_random, np.argmax(y_random,1))\n",
    "print lr.score(X, y)"
   ]
  },
  {
   "cell_type": "code",
   "execution_count": 41,
   "metadata": {
    "collapsed": false
   },
   "outputs": [
    {
     "data": {
      "text/plain": [
       "0.6035644425124973"
      ]
     },
     "execution_count": 41,
     "metadata": {},
     "output_type": "execute_result"
    }
   ],
   "source": [
    "np.mean(np.equal(np.argmax(y_pred[0], 1), y))"
   ]
  },
  {
   "cell_type": "code",
   "execution_count": null,
   "metadata": {
    "collapsed": true
   },
   "outputs": [],
   "source": []
  }
 ],
 "metadata": {
  "anaconda-cloud": {},
  "kernelspec": {
   "display_name": "Python [default]",
   "language": "python",
   "name": "python2"
  },
  "language_info": {
   "codemirror_mode": {
    "name": "ipython",
    "version": 2
   },
   "file_extension": ".py",
   "mimetype": "text/x-python",
   "name": "python",
   "nbconvert_exporter": "python",
   "pygments_lexer": "ipython2",
   "version": "2.7.12"
  }
 },
 "nbformat": 4,
 "nbformat_minor": 1
}
